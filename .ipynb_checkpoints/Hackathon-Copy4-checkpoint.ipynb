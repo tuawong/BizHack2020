{
 "cells": [
  {
   "cell_type": "code",
   "execution_count": 1,
   "metadata": {},
   "outputs": [],
   "source": [
    "import requests\n",
    "import xmltodict\n",
    "import pandas as pd\n",
    "import numpy as np\n",
    "import math\n",
    "from collections import Counter\n",
    "from statistics import mean\n",
    "\n",
    "## Data Preprocessing\n",
    "from sklearn.preprocessing import OneHotEncoder\n",
    "from sklearn.impute import SimpleImputer, KNNImputer\n",
    "from sklearn.preprocessing import StandardScaler\n",
    "from sklearn.model_selection import train_test_split, cross_validate\n",
    "from sklearn.feature_extraction.text import CountVectorizer\n",
    "from sklearn.compose import ColumnTransformer\n",
    "from sklearn.pipeline import Pipeline "
   ]
  },
  {
   "cell_type": "code",
   "execution_count": 2,
   "metadata": {},
   "outputs": [
    {
     "data": {
      "text/plain": [
       "['http://www.bestbuy.ca/api/v2/XML/search?categoryid=20352&pagesize=100&page=1',\n",
       " 'http://www.bestbuy.ca/api/v2/XML/search?categoryid=20352&pagesize=100&page=2',\n",
       " 'http://www.bestbuy.ca/api/v2/XML/search?categoryid=20352&pagesize=100&page=3',\n",
       " 'http://www.bestbuy.ca/api/v2/XML/search?categoryid=20352&pagesize=100&page=4',\n",
       " 'http://www.bestbuy.ca/api/v2/XML/search?categoryid=20352&pagesize=100&page=5',\n",
       " 'http://www.bestbuy.ca/api/v2/XML/search?categoryid=20352&pagesize=100&page=6',\n",
       " 'http://www.bestbuy.ca/api/v2/XML/search?categoryid=20352&pagesize=100&page=7',\n",
       " 'http://www.bestbuy.ca/api/v2/XML/search?categoryid=20352&pagesize=100&page=8',\n",
       " 'http://www.bestbuy.ca/api/v2/XML/search?categoryid=20352&pagesize=100&page=9',\n",
       " 'http://www.bestbuy.ca/api/v2/XML/search?categoryid=20352&pagesize=100&page=10',\n",
       " 'http://www.bestbuy.ca/api/v2/XML/search?categoryid=20352&pagesize=100&page=11',\n",
       " 'http://www.bestbuy.ca/api/v2/XML/search?categoryid=20352&pagesize=100&page=12',\n",
       " 'http://www.bestbuy.ca/api/v2/XML/search?categoryid=20352&pagesize=100&page=13',\n",
       " 'http://www.bestbuy.ca/api/v2/XML/search?categoryid=20352&pagesize=100&page=14',\n",
       " 'http://www.bestbuy.ca/api/v2/XML/search?categoryid=20352&pagesize=100&page=15',\n",
       " 'http://www.bestbuy.ca/api/v2/XML/search?categoryid=20352&pagesize=100&page=16',\n",
       " 'http://www.bestbuy.ca/api/v2/XML/search?categoryid=20352&pagesize=100&page=17',\n",
       " 'http://www.bestbuy.ca/api/v2/XML/search?categoryid=20352&pagesize=100&page=18',\n",
       " 'http://www.bestbuy.ca/api/v2/XML/search?categoryid=20352&pagesize=100&page=19',\n",
       " 'http://www.bestbuy.ca/api/v2/XML/search?categoryid=20352&pagesize=100&page=20',\n",
       " 'http://www.bestbuy.ca/api/v2/XML/search?categoryid=20352&pagesize=100&page=21',\n",
       " 'http://www.bestbuy.ca/api/v2/XML/search?categoryid=20352&pagesize=100&page=22',\n",
       " 'http://www.bestbuy.ca/api/v2/XML/search?categoryid=20352&pagesize=100&page=23',\n",
       " 'http://www.bestbuy.ca/api/v2/XML/search?categoryid=20352&pagesize=100&page=24',\n",
       " 'http://www.bestbuy.ca/api/v2/XML/search?categoryid=20352&pagesize=100&page=25',\n",
       " 'http://www.bestbuy.ca/api/v2/XML/search?categoryid=20352&pagesize=100&page=26',\n",
       " 'http://www.bestbuy.ca/api/v2/XML/search?categoryid=20352&pagesize=100&page=27',\n",
       " 'http://www.bestbuy.ca/api/v2/XML/search?categoryid=20352&pagesize=100&page=28',\n",
       " 'http://www.bestbuy.ca/api/v2/XML/search?categoryid=20352&pagesize=100&page=29',\n",
       " 'http://www.bestbuy.ca/api/v2/XML/search?categoryid=20352&pagesize=100&page=30',\n",
       " 'http://www.bestbuy.ca/api/v2/XML/search?categoryid=20352&pagesize=100&page=31',\n",
       " 'http://www.bestbuy.ca/api/v2/XML/search?categoryid=20352&pagesize=100&page=32',\n",
       " 'http://www.bestbuy.ca/api/v2/XML/search?categoryid=20352&pagesize=100&page=33',\n",
       " 'http://www.bestbuy.ca/api/v2/XML/search?categoryid=20352&pagesize=100&page=34',\n",
       " 'http://www.bestbuy.ca/api/v2/XML/search?categoryid=20352&pagesize=100&page=35',\n",
       " 'http://www.bestbuy.ca/api/v2/XML/search?categoryid=20352&pagesize=100&page=36',\n",
       " 'http://www.bestbuy.ca/api/v2/XML/search?categoryid=20352&pagesize=100&page=37',\n",
       " 'http://www.bestbuy.ca/api/v2/XML/search?categoryid=20352&pagesize=100&page=38',\n",
       " 'http://www.bestbuy.ca/api/v2/XML/search?categoryid=20352&pagesize=100&page=39',\n",
       " 'http://www.bestbuy.ca/api/v2/XML/search?categoryid=20352&pagesize=100&page=40',\n",
       " 'http://www.bestbuy.ca/api/v2/XML/search?categoryid=20352&pagesize=100&page=41',\n",
       " 'http://www.bestbuy.ca/api/v2/XML/search?categoryid=20352&pagesize=100&page=42',\n",
       " 'http://www.bestbuy.ca/api/v2/XML/search?categoryid=20352&pagesize=100&page=43',\n",
       " 'http://www.bestbuy.ca/api/v2/XML/search?categoryid=20352&pagesize=100&page=44',\n",
       " 'http://www.bestbuy.ca/api/v2/XML/search?categoryid=20352&pagesize=100&page=45',\n",
       " 'http://www.bestbuy.ca/api/v2/XML/search?categoryid=20352&pagesize=100&page=46',\n",
       " 'http://www.bestbuy.ca/api/v2/XML/search?categoryid=20352&pagesize=100&page=47',\n",
       " 'http://www.bestbuy.ca/api/v2/XML/search?categoryid=20352&pagesize=100&page=48',\n",
       " 'http://www.bestbuy.ca/api/v2/XML/search?categoryid=20352&pagesize=100&page=49',\n",
       " 'http://www.bestbuy.ca/api/v2/XML/search?categoryid=20352&pagesize=100&page=50',\n",
       " 'http://www.bestbuy.ca/api/v2/XML/search?categoryid=20352&pagesize=100&page=51',\n",
       " 'http://www.bestbuy.ca/api/v2/XML/search?categoryid=20352&pagesize=100&page=52',\n",
       " 'http://www.bestbuy.ca/api/v2/XML/search?categoryid=20352&pagesize=100&page=53',\n",
       " 'http://www.bestbuy.ca/api/v2/XML/search?categoryid=20352&pagesize=100&page=54',\n",
       " 'http://www.bestbuy.ca/api/v2/XML/search?categoryid=20352&pagesize=100&page=55',\n",
       " 'http://www.bestbuy.ca/api/v2/XML/search?categoryid=20352&pagesize=100&page=56',\n",
       " 'http://www.bestbuy.ca/api/v2/XML/search?categoryid=20352&pagesize=100&page=57',\n",
       " 'http://www.bestbuy.ca/api/v2/XML/search?categoryid=20352&pagesize=100&page=58',\n",
       " 'http://www.bestbuy.ca/api/v2/XML/search?categoryid=20352&pagesize=100&page=59',\n",
       " 'http://www.bestbuy.ca/api/v2/XML/search?categoryid=20352&pagesize=100&page=60',\n",
       " 'http://www.bestbuy.ca/api/v2/XML/search?categoryid=20352&pagesize=100&page=61',\n",
       " 'http://www.bestbuy.ca/api/v2/XML/search?categoryid=20352&pagesize=100&page=62',\n",
       " 'http://www.bestbuy.ca/api/v2/XML/search?categoryid=20352&pagesize=100&page=63',\n",
       " 'http://www.bestbuy.ca/api/v2/XML/search?categoryid=20352&pagesize=100&page=64',\n",
       " 'http://www.bestbuy.ca/api/v2/XML/search?categoryid=20352&pagesize=100&page=65',\n",
       " 'http://www.bestbuy.ca/api/v2/XML/search?categoryid=20352&pagesize=100&page=66',\n",
       " 'http://www.bestbuy.ca/api/v2/XML/search?categoryid=20352&pagesize=100&page=67',\n",
       " 'http://www.bestbuy.ca/api/v2/XML/search?categoryid=20352&pagesize=100&page=68',\n",
       " 'http://www.bestbuy.ca/api/v2/XML/search?categoryid=20352&pagesize=100&page=69',\n",
       " 'http://www.bestbuy.ca/api/v2/XML/search?categoryid=20352&pagesize=100&page=70',\n",
       " 'http://www.bestbuy.ca/api/v2/XML/search?categoryid=20352&pagesize=100&page=71',\n",
       " 'http://www.bestbuy.ca/api/v2/XML/search?categoryid=20352&pagesize=100&page=72',\n",
       " 'http://www.bestbuy.ca/api/v2/XML/search?categoryid=20352&pagesize=100&page=73',\n",
       " 'http://www.bestbuy.ca/api/v2/XML/search?categoryid=20352&pagesize=100&page=74',\n",
       " 'http://www.bestbuy.ca/api/v2/XML/search?categoryid=20352&pagesize=100&page=75',\n",
       " 'http://www.bestbuy.ca/api/v2/XML/search?categoryid=20352&pagesize=100&page=76',\n",
       " 'http://www.bestbuy.ca/api/v2/XML/search?categoryid=20352&pagesize=100&page=77',\n",
       " 'http://www.bestbuy.ca/api/v2/XML/search?categoryid=20352&pagesize=100&page=78',\n",
       " 'http://www.bestbuy.ca/api/v2/XML/search?categoryid=20352&pagesize=100&page=79',\n",
       " 'http://www.bestbuy.ca/api/v2/XML/search?categoryid=20352&pagesize=100&page=80',\n",
       " 'http://www.bestbuy.ca/api/v2/XML/search?categoryid=20352&pagesize=100&page=81',\n",
       " 'http://www.bestbuy.ca/api/v2/XML/search?categoryid=20352&pagesize=100&page=82',\n",
       " 'http://www.bestbuy.ca/api/v2/XML/search?categoryid=20352&pagesize=100&page=83',\n",
       " 'http://www.bestbuy.ca/api/v2/XML/search?categoryid=20352&pagesize=100&page=84',\n",
       " 'http://www.bestbuy.ca/api/v2/XML/search?categoryid=20352&pagesize=100&page=85',\n",
       " 'http://www.bestbuy.ca/api/v2/XML/search?categoryid=20352&pagesize=100&page=86',\n",
       " 'http://www.bestbuy.ca/api/v2/XML/search?categoryid=20352&pagesize=100&page=87',\n",
       " 'http://www.bestbuy.ca/api/v2/XML/search?categoryid=20352&pagesize=100&page=88',\n",
       " 'http://www.bestbuy.ca/api/v2/XML/search?categoryid=20352&pagesize=100&page=89',\n",
       " 'http://www.bestbuy.ca/api/v2/XML/search?categoryid=20352&pagesize=100&page=90',\n",
       " 'http://www.bestbuy.ca/api/v2/XML/search?categoryid=20352&pagesize=100&page=91',\n",
       " 'http://www.bestbuy.ca/api/v2/XML/search?categoryid=20352&pagesize=100&page=92',\n",
       " 'http://www.bestbuy.ca/api/v2/XML/search?categoryid=20352&pagesize=100&page=93',\n",
       " 'http://www.bestbuy.ca/api/v2/XML/search?categoryid=20352&pagesize=100&page=94',\n",
       " 'http://www.bestbuy.ca/api/v2/XML/search?categoryid=20352&pagesize=100&page=95',\n",
       " 'http://www.bestbuy.ca/api/v2/XML/search?categoryid=20352&pagesize=100&page=96',\n",
       " 'http://www.bestbuy.ca/api/v2/XML/search?categoryid=20352&pagesize=100&page=97',\n",
       " 'http://www.bestbuy.ca/api/v2/XML/search?categoryid=20352&pagesize=100&page=98',\n",
       " 'http://www.bestbuy.ca/api/v2/XML/search?categoryid=20352&pagesize=100&page=99',\n",
       " 'http://www.bestbuy.ca/api/v2/XML/search?categoryid=20352&pagesize=100&page=100']"
      ]
     },
     "execution_count": 2,
     "metadata": {},
     "output_type": "execute_result"
    }
   ],
   "source": [
    "df_ = pd.DataFrame()\n",
    "urllist = [\"http://www.bestbuy.ca/api/v2/XML/search?categoryid=20352&pagesize=100&page=\" + str(i) for i in range(1,101)]\n",
    "urllist"
   ]
  },
  {
   "cell_type": "code",
   "execution_count": 3,
   "metadata": {},
   "outputs": [
    {
     "name": "stderr",
     "output_type": "stream",
     "text": [
      "C:\\Users\\user\\Anaconda3\\lib\\site-packages\\pandas\\core\\frame.py:7123: FutureWarning: Sorting because non-concatenation axis is not aligned. A future version\n",
      "of pandas will change to not sort by default.\n",
      "\n",
      "To accept the future behavior, pass 'sort=False'.\n",
      "\n",
      "To retain the current behavior and silence the warning, pass 'sort=True'.\n",
      "\n",
      "  sort=sort,\n"
     ]
    }
   ],
   "source": [
    "count=0 \n",
    "\n",
    "for url in urllist: \n",
    "    response_new = requests.get(url)\n",
    "    \n",
    "    if count == 0: \n",
    "        df = pd.DataFrame(xmltodict.parse(response_new.text)['SearchResponse']['Products']['Product'])\n",
    "        df['Page'] = 1\n",
    "        count += 1 \n",
    "    \n",
    "    else: \n",
    "        df2 = pd.DataFrame(xmltodict.parse(response_new.text)['SearchResponse']['Products']['Product'])\n",
    "        df2['Page'] = count + 1 \n",
    "        df = df.append(df2)\n",
    "        count += 1 \n",
    "\n",
    "df = df.reset_index()"
   ]
  },
  {
   "cell_type": "code",
   "execution_count": 4,
   "metadata": {},
   "outputs": [
    {
     "data": {
      "text/plain": [
       "array(['Laptops', 'Chromebooks', 'Gaming Laptops', 'Apple MacBook Air',\n",
       "       '2 in 1 Laptops', 'Apple MacBook', 'Apple MacBook Pro'],\n",
       "      dtype=object)"
      ]
     },
     "execution_count": 4,
     "metadata": {},
     "output_type": "execute_result"
    }
   ],
   "source": [
    "cv = CountVectorizer(stop_words='english')\n",
    "catname = df['CategoryName'].unique()\n",
    "catname"
   ]
  },
  {
   "cell_type": "code",
   "execution_count": 5,
   "metadata": {
    "scrolled": true
   },
   "outputs": [
    {
     "name": "stdout",
     "output_type": "stream",
     "text": [
      "dict_keys(['Laptops', 'Chromebooks', 'Gaming Laptops', 'Apple MacBook Air', '2 in 1 Laptops', 'Apple MacBook', 'Apple MacBook Pro'])\n",
      "['gaming', 'ram', 'laptop', 'custom', 'intel', 'ssd', 'i7', 'nvidia', '9750h', 'rtx', 'core', 'entertainment', 'pcie', '1tb', 'hp', '16gb', 'asus', 'omen', '2tb', '32gb', '64gb', 'sata', 'hdd', 'gtx', '10', 'win', 'msi', '512gb', '3xusb', '15', '2070', 'rog', 'ti', '1660', '8gb', 'amd', '8750h', 'ryzen', '15t', 'max', '3750h', 'strix', '2080', 'i9', '2060', 'pro', 'home', '9880h', 'webcam', 'gigabyte', 'tuf', '17t', 'aorus', '256gb', 'dc100', 'iii', 'scar', 'g531gw', 'raid', '9sc', 'gf75', '278', '1650', 'gl731gt', '2xusb', '505du', '2s', 'zephyrus', '4tb', 'stealth', 'refurbished', 'i5', 'uhd', '17', 'gs75', '205', '620', 'raider', 'gx502gv', 'gl75', '9sdk', '057', 'certified', 'fx705dt', 'classic', 'aero', 'dell', 'kh74', 'tuf705du', 'g6', 'probook', '450', '8265u', 'open', 'box', '9sd', 'gp75', '437', 'lenovo', 'business', '2x1tb', 'geforce', 'black', 'win10', 'rgb', 'thinkpad', 'windows', 'ge63', 'fhd', 'tuf705', '2x2tb', '2x512gb', 'alienware', 'gb', 'acer', 'f74adp', '1xhdmi', 'eurocom', 'ge75', '1050', '8665u', 't490', 'fx505', 'ddr4', '287', 'ge75287', 'creator', 'p75', '128gb', 'mobile', '48gb', '6tb', '24gb', '9300h', 'sshd', '1080', 'notebook', 'g3', 'eng', '802', '500gb', 'xps', 'gs65', 'xa', 'wa', 'supercomputer', '483', 'gx502gw', '1920', 'gx701', 'english', 'x1', '1060', '1660ti', '64', 'nitro', 'extreme', '3590', '11a', 'bit', '4gb', 'optane', 'workstation', '8300h', '7590', 'clx', '3tb', 'set', '9900k', 'predator', 'super', 'wifi', '1050ti', 'hm', '16', '1070', '512', 'ghz', 'm17', '3550h', '12gb', 'area', 'shadow', '51m', 'tornado', '3x2tb', 'x4c', '40gb', 'fingerprint', 'pavilion', 'inch', '3x1tb', 'g5', 'r2', '144hz', 'xeon', 'touch', 'x7c', '51', 'm15', 'helios', '7700hq', '4k', 'quadro', '9700kf', 'silver', '9570', '300', '3x512gb', 'light', '5tb', 'an515', 'en', 'gtx1060', 'hero', '480gb', 'red', '9700k', 'zenbook', '8086k', '11b', 'lcd', 'hd', 'tb', 'f5', 'ci7', '8700k', 'aba', 'gen', '6gb', '14', '256', '9980hk', 'display', 'duo', 'blade', 'ci5', '8th', 'legion', 'manufacturer', 'qhd', 'ii', 'radeon', 'razer', '500', 'gtx1070', '32', 'sdram', 'oled', '53', '5590', 'grey', 'titan', '13', '6inch', 'ux581gv', 'abl', 'x9c', 'zbook', 'nvme', 'nightsky', 'g7', 'pt515', 'nh', 'quad', '250gb', 'mdash', '9900kf', 'superlaptop', 'triton', 'vr', 'win10home', 'ready', 'abyss', 'graphics', '70', 'dc1000', 'gl63', 'hexa', '6820hk', 'f7w', 'hybrid', 'gt75', '6ghz', '43', '71z5', '9tk', '1270v5', '7300hq', '071ca', '039ca', '75l8', '128', '20', '8565u', '52', '2176m', '2186g', '8rc', '9750', '4bq88ua', '8rf', '8rg', '2x', '8se', '8sg', '4bq16ua', '9700f', '7790', '001', 'aluminum', 'deep', 'g7790', 'gddr5', 'gtx1050', 'gtx1650', 'gtx960', 'gx501', 'ideapad', 'lighting', 'monster', 'mx250', 'p3200', 'ph315', 'rx15', 'rx17', 'rx560x', 'slim', 'space', 'touchscreen', 'ultra', 'vivobook', 'w10', 'we75', 'win10pro', 'ws65', 'ws75', 'g731gv', 'l340', 'cb', 'aspire', 'ddr', 'raid0', '256gb1tb', 'q72s', 'q72sp', 'r2mg', '2500u', 'r3', '240gb', '223ca', 'ramgtx', '2666', '2176g', '216ca', 'retail', 'rs51', 'rs71', 'rtx2070', '202ca', 'rx', 'cd0010nr', '256ssd', '2727slv', 'ca', '277ca', '3ci7', 'online', 'ordi', 'cd0030nr', 'p4200', '32g', 'p5200', 'p65', '30', 'pb74', 'cd0020nr', '2x500gb', 'ph317', 'ph517', 'prestige', 'ps42', 'q2yaa', '2ghz', 'q3faa', '284ca', 'q4waa', '1920x1080', '18', '3inch', 's7120174', '1080p', 'an517', '9tl', 'xb71t', '10510u', 'xb74', 'xb78k', 'y520', '0tb512g', '0tb256gb', '098ca', '096ca', '081ca', 'y7000', 'y720', 'y740', '036ca', '024ca', '018ca', '005', '003', 'windows10', '11ac', '9sfk', '15ikbn', '17ichg', 'screen', 'series', 'sky', 'bi7n9', 'bi5n7', 'spp', 'stealh', '15irh', 'ti15', '12', 'aw17r4', 'ux550ge', 'an715', '128gb1tbblack', '9se', 'w10h', '9sf', '1228ca', '120gb', '3gb', '3ms', '8re', '7700k', '762q', '75rt', 'g703gx', 'g731gu', '752b', '73z5', 'dc1030nr', '72rg', '72ev', '7200rpm', '8sf', 'dc1020nr', '6th', 'gddr6', '6qz97ua', '6qz96ua', '6qz95ua', '6qx97ua', '6qx96ua', 'ge73vr', '6in', 'g701vi', 'fx705gm', 'nx', '79e8', 'dd', '8ra', 'dg0000', '899ca', '8950hk', '8850h', '8750h12gb', 'dg0010nr', 'dk0020nr', 'dk0030nr', 'dominator', '8550u', 'edition', 'epic', '8250u', '81lk000pus', '81hh0037us', '80wk001lus', 'fx504gd', 'fx505gt', '7rf', 'geforcegtx', 'gf', '699ca', 'gf63', 'gu502gu', 'cx0010ca', 'hdd256ssd', '960gb', 'intelcore', 'ips', 'iv', 'jeu', 'a10rb', 'leopard', '467ca', '9700', '448ca', 'm3000m', 'm4000m', '426ca', 'manufacture', 'cnc', 'chroma', 'nb', 'non', '500gbssd', '9400f', 'gtx1660ti', '59qp', '6700k', '6700hq', '6700', '655ca', 'gl531gw', 'gl703ge', 'gp63', '616ca', 'gpfaa', '560x', 'db71', 'gt', 'gt72s', '522l', '520', 'gt83', 'zephrus', '512gv', '512gssd', 'gtx1080', 'dc1010nr']\n"
     ]
    }
   ],
   "source": [
    "keyword = {} \n",
    "\n",
    "for i in range (0, len(catname)):\n",
    "    dat = df.loc[df['CategoryName']==catname[i]]['SeoText']\n",
    "    wordcount = cv.fit_transform(dat).toarray()\n",
    "    wordcount = pd.DataFrame(wordcount, columns=cv.get_feature_names())\n",
    "    wordlist = wordcount.sum(axis=0).sort_values(ascending=False).index.tolist()\n",
    "    \n",
    "    keyword[catname[i]] = wordlist\n",
    "\n",
    "print(keyword.keys())\n",
    "print(keyword[catname[2]])\n"
   ]
  },
  {
   "cell_type": "markdown",
   "metadata": {},
   "source": [
    "## Seller Extraction"
   ]
  },
  {
   "cell_type": "code",
   "execution_count": 6,
   "metadata": {
    "scrolled": true
   },
   "outputs": [
    {
     "data": {
      "text/plain": [
       "{'Microcad Computer Corporation': 63,\n",
       " 'TVOUTLET': 33,\n",
       " 'Best Buy Business': 266,\n",
       " 'NetTradez': 517,\n",
       " 'Olde Time Mac': 34,\n",
       " 'ORION COMPUTER AND ELECTRONICS': 11,\n",
       " 'PRO Open Box': 216,\n",
       " 'THE PC ROOM': 98,\n",
       " 'Electronics_Canada': 18,\n",
       " 'DCR': 161,\n",
       " 'Certified Refurbisher': 34,\n",
       " 'CDI Computer Dealers Inc.': 332,\n",
       " 'ALC Micro': 33,\n",
       " 'OEM': 38,\n",
       " 'Wireless Experts, Inc.': 2,\n",
       " 'Canada Wholesale': 10,\n",
       " 'Aero Malls Inc.': 25,\n",
       " 'IGO Electronics': 86,\n",
       " 'DirectEASYBUY': 76,\n",
       " 'Mike’s Computer Shop': 281,\n",
       " 'AlwaysTech': 14,\n",
       " 'TSC Deals': 18,\n",
       " 'Mega PC Mall': 2,\n",
       " 'OpenBox': 13,\n",
       " 'CPR upper beeches toronto': 2,\n",
       " 'RefurbIT': 39,\n",
       " 'SaveOnMacs': 57,\n",
       " 'MCI ONLINE': 37,\n",
       " 'MFG DIRECT ELECTRONICS': 9,\n",
       " 'TecnoCanada': 182,\n",
       " 'Canadian Outlet': 14,\n",
       " 'Tecnodeals': 108,\n",
       " 'Computer Depot': 41,\n",
       " 'QR Computers': 18,\n",
       " 'Advanced Skyline Technology Ltd.': 70,\n",
       " 'ACM Électronique': 17,\n",
       " 'Techdealz': 8,\n",
       " 'SIPL Online': 30,\n",
       " 'OneDealOutlet Canada': 130,\n",
       " 'Lenovo Canada': 53,\n",
       " 'Exooto Media': 13,\n",
       " 'Advanced Computers': 140,\n",
       " 'Square PC': 246,\n",
       " 'Deal Targets': 261,\n",
       " 'VLCanada': 2,\n",
       " 'Newseed': 4,\n",
       " 'CELL4LESS': 5,\n",
       " 'X-Dynamic Systems': 17,\n",
       " 'MichaelElectronics2': 5035,\n",
       " 'TWI Store': 31,\n",
       " 'BidDeal': 24,\n",
       " 'Nem Distribution': 11,\n",
       " 'Laptopking': 2,\n",
       " 'Etech': 3,\n",
       " 'TeleasyOnline': 22,\n",
       " 'iSanek': 103,\n",
       " 'COMPUPOINT INC.': 50,\n",
       " 'CTSMAR': 3,\n",
       " 'Vancouver Electronic Depot': 15,\n",
       " 'BigOnDeals': 21,\n",
       " 'DealWiz': 20,\n",
       " 'UNIWAY': 7,\n",
       " 'TechSavings': 29,\n",
       " 'Eurocom Corporation': 35,\n",
       " 'CFI eStore': 3,\n",
       " 'Experimax': 14,\n",
       " 'Vertex Nano Technology': 9,\n",
       " 'Outdoor Laptops': 22,\n",
       " 'Compute4Less Corp': 2,\n",
       " 'Wintronic Computers Plus': 31,\n",
       " 'Canadian Electronics': 7,\n",
       " 'TECDATA ENGINEERS': 3,\n",
       " 'Best Tech Canada': 3,\n",
       " 'COMPACCESSORIES': 3,\n",
       " 'RUGGEDBOOKS Inc.': 26,\n",
       " 'Deals Next Door': 2,\n",
       " 'ITFactory': 3,\n",
       " 'Quick Tech': 4,\n",
       " 'TTWILI': 5,\n",
       " 'TechGenius': 17,\n",
       " 'Dr. Liquidator': 2,\n",
       " 'Fast Distribution': 2,\n",
       " 'Dealfactor Canada': 8,\n",
       " 'Refurbanana': 2,\n",
       " None: 2,\n",
       " 'EXPERTPRO': 12,\n",
       " 'Conquest Distributors': 2,\n",
       " 'Canada cellular': 7,\n",
       " 'Urban Inspirations': 2,\n",
       " 'YY Page': 2,\n",
       " '123wowdeals': 6,\n",
       " 'TiGuyCo Plus': 2,\n",
       " 'Sunterra Equipment Inc': 16,\n",
       " 'Datamatrix': 4,\n",
       " 'DigitalShopper': 8,\n",
       " 'ULTIMAXX CANADA': 4,\n",
       " 'CLX Gaming': 13,\n",
       " 'Micropeer': 2,\n",
       " 'Cellular Tech': 2,\n",
       " 'Techville': 2,\n",
       " 'GADGET HOUSE': 2,\n",
       " 'ERA': 3,\n",
       " 'SABJOL': 2,\n",
       " 'Brands World': 2,\n",
       " 'Simple Boutique': 2}"
      ]
     },
     "execution_count": 6,
     "metadata": {},
     "output_type": "execute_result"
    }
   ],
   "source": [
    "notBB = df[~df['Seller'].isnull()]\n",
    "BB = df[df['Seller'].isnull()]\n",
    "\n",
    "seller = [notBB['Seller'].iloc[i].get('Name') for i in range(0,len(notBB))]\n",
    "sellunique =[] \n",
    "numsell = {} \n",
    "\n",
    "for x in seller: \n",
    "    if x not in sellunique: \n",
    "        sellunique.append(x)\n",
    "        numsell[x] = 1\n",
    "    if x in sellunique: \n",
    "        numsell[x] += 1 \n",
    "\n",
    "sellunique\n",
    "numsell"
   ]
  },
  {
   "cell_type": "markdown",
   "metadata": {},
   "source": [
    "## Description Score"
   ]
  },
  {
   "cell_type": "code",
   "execution_count": 7,
   "metadata": {},
   "outputs": [
    {
     "name": "stdout",
     "output_type": "stream",
     "text": [
      "48.323638286620834\n",
      "51.14862385321101\n"
     ]
    }
   ],
   "source": [
    "desclen = [len(notBB['ShortDescription'].iloc[i].split()) for i in range(0,len(notBB))]\n",
    "uniqlen = [len(set(notBB['ShortDescription'].iloc[i].split())) for i in range(0,len(notBB))]\n",
    "\n",
    "BBlen = [len((BB['ShortDescription'].iloc[i].split())) for i in range(0,len(BB))]\n",
    "BBuniqlen = [len(set(BB['ShortDescription'].iloc[i].split())) for i in range(0,len(BB))]\n",
    "print(mean(uniqlen))\n",
    "print(mean(BBuniqlen))"
   ]
  },
  {
   "cell_type": "code",
   "execution_count": 8,
   "metadata": {},
   "outputs": [],
   "source": [
    "numworddiff = [i/mean(BBlen) for i in desclen]"
   ]
  },
  {
   "cell_type": "code",
   "execution_count": 9,
   "metadata": {},
   "outputs": [
    {
     "data": {
      "text/plain": [
       "hd       9440\n",
       "10       8020\n",
       "intel    7139\n",
       "ram      6853\n",
       "ssd      6562\n",
       "dtype: int64"
      ]
     },
     "execution_count": 9,
     "metadata": {},
     "output_type": "execute_result"
    }
   ],
   "source": [
    "shortdesc = notBB['ShortDescription']\n",
    "wordcount = cv.fit_transform(shortdesc).toarray()\n",
    "wordcount = pd.DataFrame(wordcount, columns=cv.get_feature_names())\n",
    "wordlist = wordcount.sum(axis=0).sort_values(ascending=False).index.tolist()\n",
    "wordcount.sum(axis=0).sort_values(ascending=False)[0:5]"
   ]
  },
  {
   "cell_type": "code",
   "execution_count": 10,
   "metadata": {},
   "outputs": [
    {
     "data": {
      "text/plain": [
       "laptop       586\n",
       "strong       470\n",
       "processor    426\n",
       "core         389\n",
       "ram          383\n",
       "dtype: int64"
      ]
     },
     "execution_count": 10,
     "metadata": {},
     "output_type": "execute_result"
    }
   ],
   "source": [
    "BBshortdesc = BB['ShortDescription']\n",
    "BBwordcount = cv.fit_transform(BBshortdesc).toarray()\n",
    "BBwordcount = pd.DataFrame(BBwordcount, columns=cv.get_feature_names())\n",
    "BBwordlist = BBwordcount.sum(axis=0).sort_values(ascending=False).index.tolist()\n",
    "BBwordcount.sum(axis=0).sort_values(ascending=False)[0:5]"
   ]
  },
  {
   "cell_type": "code",
   "execution_count": 11,
   "metadata": {},
   "outputs": [],
   "source": [
    "wordinlist = [[j for j in notBB['ShortDescription'].iloc[i].split() \n",
    "               if j in BBwordlist] \n",
    "              for i in range(0,len(notBB))]\n",
    "\n",
    "BBinlist = [len([j for j in BB['ShortDescription'].iloc[i].split() \n",
    "                 if j in BBwordlist]) \n",
    "            for i in range(0,len(BB))]\n",
    "\n",
    "propinlist = [len(wordinlist[i])/uniqlen[i]\n",
    "              for i in range(0,len(wordinlist))]"
   ]
  },
  {
   "cell_type": "code",
   "execution_count": 12,
   "metadata": {},
   "outputs": [
    {
     "name": "stderr",
     "output_type": "stream",
     "text": [
      "C:\\Users\\user\\Anaconda3\\lib\\site-packages\\ipykernel_launcher.py:1: SettingWithCopyWarning: \n",
      "A value is trying to be set on a copy of a slice from a DataFrame.\n",
      "Try using .loc[row_indexer,col_indexer] = value instead\n",
      "\n",
      "See the caveats in the documentation: http://pandas.pydata.org/pandas-docs/stable/user_guide/indexing.html#returning-a-view-versus-a-copy\n",
      "  \"\"\"Entry point for launching an IPython kernel.\n",
      "C:\\Users\\user\\Anaconda3\\lib\\site-packages\\ipykernel_launcher.py:4: SettingWithCopyWarning: \n",
      "A value is trying to be set on a copy of a slice from a DataFrame.\n",
      "Try using .loc[row_indexer,col_indexer] = value instead\n",
      "\n",
      "See the caveats in the documentation: http://pandas.pydata.org/pandas-docs/stable/user_guide/indexing.html#returning-a-view-versus-a-copy\n",
      "  after removing the cwd from sys.path.\n",
      "C:\\Users\\user\\Anaconda3\\lib\\site-packages\\ipykernel_launcher.py:6: SettingWithCopyWarning: \n",
      "A value is trying to be set on a copy of a slice from a DataFrame.\n",
      "Try using .loc[row_indexer,col_indexer] = value instead\n",
      "\n",
      "See the caveats in the documentation: http://pandas.pydata.org/pandas-docs/stable/user_guide/indexing.html#returning-a-view-versus-a-copy\n",
      "  \n",
      "C:\\Users\\user\\Anaconda3\\lib\\site-packages\\ipykernel_launcher.py:7: SettingWithCopyWarning: \n",
      "A value is trying to be set on a copy of a slice from a DataFrame.\n",
      "Try using .loc[row_indexer,col_indexer] = value instead\n",
      "\n",
      "See the caveats in the documentation: http://pandas.pydata.org/pandas-docs/stable/user_guide/indexing.html#returning-a-view-versus-a-copy\n",
      "  import sys\n"
     ]
    }
   ],
   "source": [
    "notBB['sellername'] = seller\n",
    "#notBB['length'] = desclen\n",
    "#notBB['uniquelength'] = uniqlen\n",
    "notBB['proportionlength'] = numworddiff\n",
    "#notBB['wordsinlist'] = wordinlist\n",
    "notBB['proportioninlist'] = propinlist\n",
    "notBB['descrscore'] = (notBB['proportionlength'] + notBB['proportioninlist'])/2"
   ]
  },
  {
   "cell_type": "markdown",
   "metadata": {},
   "source": [
    "## Title Score"
   ]
  },
  {
   "cell_type": "code",
   "execution_count": 13,
   "metadata": {},
   "outputs": [
    {
     "name": "stdout",
     "output_type": "stream",
     "text": [
      "18.871496562665257\n",
      "14.906422018348623\n"
     ]
    }
   ],
   "source": [
    "titlen = [len((notBB['Name'].iloc[i].split())) for i in range(0,len(notBB))]\n",
    "BBtitlen = [len((BB['Name'].iloc[i].split())) for i in range(0,len(BB))]\n",
    "\n",
    "tituniqlen = [len(set(notBB['Name'].iloc[i].split())) for i in range(0,len(notBB))]\n",
    "BBtituniqlen = [len(set(BB['Name'].iloc[i].split())) for i in range(0,len(BB))]\n",
    "titlediff = [max(0,min(min(2-i/mean(BBtitlen),1),i/mean(BBtitlen))) for i in titlen]\n",
    "\n",
    "print(mean(titlen))\n",
    "print(mean(BBtitlen))"
   ]
  },
  {
   "cell_type": "code",
   "execution_count": 14,
   "metadata": {},
   "outputs": [
    {
     "data": {
      "text/plain": [
       "ram       7533\n",
       "laptop    6510\n",
       "intel     6413\n",
       "ssd       6177\n",
       "custom    5033\n",
       "dtype: int64"
      ]
     },
     "execution_count": 14,
     "metadata": {},
     "output_type": "execute_result"
    }
   ],
   "source": [
    "title = notBB['Name']\n",
    "titlecount = cv.fit_transform(title).toarray()\n",
    "titlecount = pd.DataFrame(titlecount, columns=cv.get_feature_names())\n",
    "titlelist = titlecount.sum(axis=0).sort_values(ascending=False).index.tolist()\n",
    "titlecount.sum(axis=0).sort_values(ascending=False)[0:5]"
   ]
  },
  {
   "cell_type": "code",
   "execution_count": 15,
   "metadata": {},
   "outputs": [
    {
     "data": {
      "text/plain": [
       "ram       541\n",
       "intel     450\n",
       "laptop    438\n",
       "ssd       402\n",
       "core      399\n",
       "dtype: int64"
      ]
     },
     "execution_count": 15,
     "metadata": {},
     "output_type": "execute_result"
    }
   ],
   "source": [
    "BBtitle = BB['Name']\n",
    "BBtitlecount = cv.fit_transform(BBtitle).toarray()\n",
    "BBtitlecount = pd.DataFrame(BBtitlecount, columns=cv.get_feature_names())\n",
    "BBtitlelist = BBtitlecount.sum(axis=0).sort_values(ascending=False).index.tolist()\n",
    "BBtitlecount.sum(axis=0).sort_values(ascending=False)[0:5]"
   ]
  },
  {
   "cell_type": "code",
   "execution_count": 16,
   "metadata": {},
   "outputs": [],
   "source": [
    "titleinlist = [[j for j in notBB['Name'].iloc[i].split() \n",
    "               if j.lower() in keyword[notBB['CategoryName'].iloc[i]]] \n",
    "               for i in range(0,len(notBB))]\n",
    "\n",
    "BBtitleinlist = [len([j for j in BB['Name'].iloc[i].split() \n",
    "                      if j.lower() in keyword[notBB['CategoryName'].iloc[i]]]) \n",
    "                 for i in range(0,len(BB))]\n",
    "\n",
    "proptitleinlist = [len(titleinlist[i])/tituniqlen[i] \n",
    "                   for i in range(0,len(wordinlist))]\n",
    "\n",
    "#proptitleinlist = [len(titleinlist[i])/tituniqlen[i] * (mean(BBtitleinlist)/mean(BBtituniqlen)) for i in range(0,len(wordinlist))]"
   ]
  },
  {
   "cell_type": "code",
   "execution_count": 17,
   "metadata": {},
   "outputs": [
    {
     "name": "stderr",
     "output_type": "stream",
     "text": [
      "C:\\Users\\user\\Anaconda3\\lib\\site-packages\\ipykernel_launcher.py:2: SettingWithCopyWarning: \n",
      "A value is trying to be set on a copy of a slice from a DataFrame.\n",
      "Try using .loc[row_indexer,col_indexer] = value instead\n",
      "\n",
      "See the caveats in the documentation: http://pandas.pydata.org/pandas-docs/stable/user_guide/indexing.html#returning-a-view-versus-a-copy\n",
      "  \n",
      "C:\\Users\\user\\Anaconda3\\lib\\site-packages\\ipykernel_launcher.py:4: SettingWithCopyWarning: \n",
      "A value is trying to be set on a copy of a slice from a DataFrame.\n",
      "Try using .loc[row_indexer,col_indexer] = value instead\n",
      "\n",
      "See the caveats in the documentation: http://pandas.pydata.org/pandas-docs/stable/user_guide/indexing.html#returning-a-view-versus-a-copy\n",
      "  after removing the cwd from sys.path.\n",
      "C:\\Users\\user\\Anaconda3\\lib\\site-packages\\ipykernel_launcher.py:5: SettingWithCopyWarning: \n",
      "A value is trying to be set on a copy of a slice from a DataFrame.\n",
      "Try using .loc[row_indexer,col_indexer] = value instead\n",
      "\n",
      "See the caveats in the documentation: http://pandas.pydata.org/pandas-docs/stable/user_guide/indexing.html#returning-a-view-versus-a-copy\n",
      "  \"\"\"\n"
     ]
    }
   ],
   "source": [
    "#notBB['titlelength'] = titlen\n",
    "notBB['proportiontitle'] = titlediff\n",
    "#notBB['titleinlist'] = titleinlist\n",
    "notBB['proptitleinlist'] = proptitleinlist\n",
    "notBB['titlescore'] = (notBB['proportiontitle'] + notBB['proptitleinlist'])/2"
   ]
  },
  {
   "cell_type": "code",
   "execution_count": 18,
   "metadata": {},
   "outputs": [
    {
     "data": {
      "text/html": [
       "<div>\n",
       "<style scoped>\n",
       "    .dataframe tbody tr th:only-of-type {\n",
       "        vertical-align: middle;\n",
       "    }\n",
       "\n",
       "    .dataframe tbody tr th {\n",
       "        vertical-align: top;\n",
       "    }\n",
       "\n",
       "    .dataframe thead th {\n",
       "        text-align: right;\n",
       "    }\n",
       "</style>\n",
       "<table border=\"1\" class=\"dataframe\">\n",
       "  <thead>\n",
       "    <tr style=\"text-align: right;\">\n",
       "      <th></th>\n",
       "      <th>index</th>\n",
       "      <th>CategoryName</th>\n",
       "      <th>CustomerRating</th>\n",
       "      <th>CustomerRatingCount</th>\n",
       "      <th>CustomerReviewCount</th>\n",
       "      <th>DisplayEndDateTime</th>\n",
       "      <th>DisplayStartDateTime</th>\n",
       "      <th>Ehf</th>\n",
       "      <th>HasFrenchContent</th>\n",
       "      <th>HasPromotion</th>\n",
       "      <th>...</th>\n",
       "      <th>ThumbnailImage</th>\n",
       "      <th>highResImage</th>\n",
       "      <th>isVisible</th>\n",
       "      <th>sellername</th>\n",
       "      <th>proportionlength</th>\n",
       "      <th>proportioninlist</th>\n",
       "      <th>descrscore</th>\n",
       "      <th>proportiontitle</th>\n",
       "      <th>proptitleinlist</th>\n",
       "      <th>titlescore</th>\n",
       "    </tr>\n",
       "  </thead>\n",
       "  <tbody>\n",
       "    <tr>\n",
       "      <td>18</td>\n",
       "      <td>18</td>\n",
       "      <td>Laptops</td>\n",
       "      <td>4</td>\n",
       "      <td>3</td>\n",
       "      <td>3</td>\n",
       "      <td>{'@xsi:nil': 'true'}</td>\n",
       "      <td>{'@xsi:nil': 'true'}</td>\n",
       "      <td>0</td>\n",
       "      <td>false</td>\n",
       "      <td>true</td>\n",
       "      <td>...</td>\n",
       "      <td>https://multimedia.bbycastatic.ca/multimedia/p...</td>\n",
       "      <td>https://multimedia.bbycastatic.ca/multimedia/p...</td>\n",
       "      <td>true</td>\n",
       "      <td>Microcad Computer Corporation</td>\n",
       "      <td>0.209119</td>\n",
       "      <td>0.000000</td>\n",
       "      <td>0.104560</td>\n",
       "      <td>0.524126</td>\n",
       "      <td>0.833333</td>\n",
       "      <td>0.678730</td>\n",
       "    </tr>\n",
       "    <tr>\n",
       "      <td>26</td>\n",
       "      <td>26</td>\n",
       "      <td>Chromebooks</td>\n",
       "      <td>0</td>\n",
       "      <td>0</td>\n",
       "      <td>0</td>\n",
       "      <td>{'@xsi:nil': 'true'}</td>\n",
       "      <td>{'@xsi:nil': 'true'}</td>\n",
       "      <td>0</td>\n",
       "      <td>false</td>\n",
       "      <td>true</td>\n",
       "      <td>...</td>\n",
       "      <td>https://multimedia.bbycastatic.ca/multimedia/p...</td>\n",
       "      <td>https://multimedia.bbycastatic.ca/multimedia/p...</td>\n",
       "      <td>true</td>\n",
       "      <td>Microcad Computer Corporation</td>\n",
       "      <td>0.400812</td>\n",
       "      <td>0.086957</td>\n",
       "      <td>0.243884</td>\n",
       "      <td>0.725382</td>\n",
       "      <td>0.526316</td>\n",
       "      <td>0.625849</td>\n",
       "    </tr>\n",
       "    <tr>\n",
       "      <td>29</td>\n",
       "      <td>29</td>\n",
       "      <td>Chromebooks</td>\n",
       "      <td>0</td>\n",
       "      <td>0</td>\n",
       "      <td>0</td>\n",
       "      <td>{'@xsi:nil': 'true'}</td>\n",
       "      <td>{'@xsi:nil': 'true'}</td>\n",
       "      <td>0</td>\n",
       "      <td>false</td>\n",
       "      <td>true</td>\n",
       "      <td>...</td>\n",
       "      <td>https://multimedia.bbycastatic.ca/multimedia/p...</td>\n",
       "      <td>https://multimedia.bbycastatic.ca/multimedia/p...</td>\n",
       "      <td>true</td>\n",
       "      <td>Microcad Computer Corporation</td>\n",
       "      <td>0.505372</td>\n",
       "      <td>0.000000</td>\n",
       "      <td>0.252686</td>\n",
       "      <td>0.658296</td>\n",
       "      <td>0.550000</td>\n",
       "      <td>0.604148</td>\n",
       "    </tr>\n",
       "    <tr>\n",
       "      <td>35</td>\n",
       "      <td>35</td>\n",
       "      <td>Apple MacBook Pro</td>\n",
       "      <td>0</td>\n",
       "      <td>0</td>\n",
       "      <td>0</td>\n",
       "      <td>{'@xsi:nil': 'true'}</td>\n",
       "      <td>{'@xsi:nil': 'true'}</td>\n",
       "      <td>0</td>\n",
       "      <td>false</td>\n",
       "      <td>true</td>\n",
       "      <td>...</td>\n",
       "      <td>https://multimedia.bbycastatic.ca/multimedia/p...</td>\n",
       "      <td>https://multimedia.bbycastatic.ca/multimedia/p...</td>\n",
       "      <td>true</td>\n",
       "      <td>TVOUTLET</td>\n",
       "      <td>0.975891</td>\n",
       "      <td>0.204082</td>\n",
       "      <td>0.589986</td>\n",
       "      <td>0.524126</td>\n",
       "      <td>0.500000</td>\n",
       "      <td>0.512063</td>\n",
       "    </tr>\n",
       "    <tr>\n",
       "      <td>42</td>\n",
       "      <td>42</td>\n",
       "      <td>Laptops</td>\n",
       "      <td>2</td>\n",
       "      <td>1</td>\n",
       "      <td>1</td>\n",
       "      <td>{'@xsi:nil': 'true'}</td>\n",
       "      <td>{'@xsi:nil': 'true'}</td>\n",
       "      <td>0</td>\n",
       "      <td>false</td>\n",
       "      <td>true</td>\n",
       "      <td>...</td>\n",
       "      <td>https://multimedia.bbycastatic.ca/multimedia/p...</td>\n",
       "      <td>https://multimedia.bbycastatic.ca/multimedia/p...</td>\n",
       "      <td>true</td>\n",
       "      <td>Microcad Computer Corporation</td>\n",
       "      <td>0.714491</td>\n",
       "      <td>0.184211</td>\n",
       "      <td>0.449351</td>\n",
       "      <td>0.524126</td>\n",
       "      <td>0.681818</td>\n",
       "      <td>0.602972</td>\n",
       "    </tr>\n",
       "  </tbody>\n",
       "</table>\n",
       "<p>5 rows × 42 columns</p>\n",
       "</div>"
      ],
      "text/plain": [
       "    index       CategoryName CustomerRating CustomerRatingCount  \\\n",
       "18     18            Laptops              4                   3   \n",
       "26     26        Chromebooks              0                   0   \n",
       "29     29        Chromebooks              0                   0   \n",
       "35     35  Apple MacBook Pro              0                   0   \n",
       "42     42            Laptops              2                   1   \n",
       "\n",
       "   CustomerReviewCount    DisplayEndDateTime  DisplayStartDateTime Ehf  \\\n",
       "18                   3  {'@xsi:nil': 'true'}  {'@xsi:nil': 'true'}   0   \n",
       "26                   0  {'@xsi:nil': 'true'}  {'@xsi:nil': 'true'}   0   \n",
       "29                   0  {'@xsi:nil': 'true'}  {'@xsi:nil': 'true'}   0   \n",
       "35                   0  {'@xsi:nil': 'true'}  {'@xsi:nil': 'true'}   0   \n",
       "42                   1  {'@xsi:nil': 'true'}  {'@xsi:nil': 'true'}   0   \n",
       "\n",
       "   HasFrenchContent HasPromotion  ...  \\\n",
       "18            false         true  ...   \n",
       "26            false         true  ...   \n",
       "29            false         true  ...   \n",
       "35            false         true  ...   \n",
       "42            false         true  ...   \n",
       "\n",
       "                                       ThumbnailImage  \\\n",
       "18  https://multimedia.bbycastatic.ca/multimedia/p...   \n",
       "26  https://multimedia.bbycastatic.ca/multimedia/p...   \n",
       "29  https://multimedia.bbycastatic.ca/multimedia/p...   \n",
       "35  https://multimedia.bbycastatic.ca/multimedia/p...   \n",
       "42  https://multimedia.bbycastatic.ca/multimedia/p...   \n",
       "\n",
       "                                         highResImage isVisible  \\\n",
       "18  https://multimedia.bbycastatic.ca/multimedia/p...      true   \n",
       "26  https://multimedia.bbycastatic.ca/multimedia/p...      true   \n",
       "29  https://multimedia.bbycastatic.ca/multimedia/p...      true   \n",
       "35  https://multimedia.bbycastatic.ca/multimedia/p...      true   \n",
       "42  https://multimedia.bbycastatic.ca/multimedia/p...      true   \n",
       "\n",
       "                       sellername proportionlength proportioninlist  \\\n",
       "18  Microcad Computer Corporation         0.209119         0.000000   \n",
       "26  Microcad Computer Corporation         0.400812         0.086957   \n",
       "29  Microcad Computer Corporation         0.505372         0.000000   \n",
       "35                       TVOUTLET         0.975891         0.204082   \n",
       "42  Microcad Computer Corporation         0.714491         0.184211   \n",
       "\n",
       "   descrscore proportiontitle proptitleinlist titlescore  \n",
       "18   0.104560        0.524126        0.833333   0.678730  \n",
       "26   0.243884        0.725382        0.526316   0.625849  \n",
       "29   0.252686        0.658296        0.550000   0.604148  \n",
       "35   0.589986        0.524126        0.500000   0.512063  \n",
       "42   0.449351        0.524126        0.681818   0.602972  \n",
       "\n",
       "[5 rows x 42 columns]"
      ]
     },
     "execution_count": 18,
     "metadata": {},
     "output_type": "execute_result"
    }
   ],
   "source": [
    "notBB.head()"
   ]
  },
  {
   "cell_type": "markdown",
   "metadata": {},
   "source": [
    "## Image"
   ]
  },
  {
   "cell_type": "code",
   "execution_count": 19,
   "metadata": {},
   "outputs": [
    {
     "data": {
      "text/plain": [
       "[1, 1, 1, 1, 1, 1, 1, 1, 1, 1]"
      ]
     },
     "execution_count": 19,
     "metadata": {},
     "output_type": "execute_result"
    }
   ],
   "source": [
    "imgscore = [1 if i != np.nan else 0 for i in notBB['highResImage'] ]\n",
    "imgscore[0:10]"
   ]
  },
  {
   "cell_type": "code",
   "execution_count": 20,
   "metadata": {},
   "outputs": [
    {
     "name": "stderr",
     "output_type": "stream",
     "text": [
      "C:\\Users\\user\\Anaconda3\\lib\\site-packages\\ipykernel_launcher.py:1: SettingWithCopyWarning: \n",
      "A value is trying to be set on a copy of a slice from a DataFrame.\n",
      "Try using .loc[row_indexer,col_indexer] = value instead\n",
      "\n",
      "See the caveats in the documentation: http://pandas.pydata.org/pandas-docs/stable/user_guide/indexing.html#returning-a-view-versus-a-copy\n",
      "  \"\"\"Entry point for launching an IPython kernel.\n"
     ]
    }
   ],
   "source": [
    "notBB['imgscore'] = imgscore"
   ]
  },
  {
   "cell_type": "markdown",
   "metadata": {},
   "source": [
    "## Page Ranking"
   ]
  }
 ],
 "metadata": {
  "kernelspec": {
   "display_name": "Python 3",
   "language": "python",
   "name": "python3"
  },
  "language_info": {
   "codemirror_mode": {
    "name": "ipython",
    "version": 3
   },
   "file_extension": ".py",
   "mimetype": "text/x-python",
   "name": "python",
   "nbconvert_exporter": "python",
   "pygments_lexer": "ipython3",
   "version": "3.7.3"
  }
 },
 "nbformat": 4,
 "nbformat_minor": 2
}
