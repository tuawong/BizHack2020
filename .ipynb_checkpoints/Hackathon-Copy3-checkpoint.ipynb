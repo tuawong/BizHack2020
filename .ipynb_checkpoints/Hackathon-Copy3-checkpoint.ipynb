{
 "cells": [
  {
   "cell_type": "code",
   "execution_count": 1,
   "metadata": {},
   "outputs": [],
   "source": [
    "import requests\n",
    "import xmltodict\n",
    "import pandas as pd\n",
    "import numpy as np\n",
    "import math\n",
    "from collections import Counter\n",
    "from statistics import mean\n",
    "\n",
    "## Data Preprocessing\n",
    "from sklearn.preprocessing import OneHotEncoder\n",
    "from sklearn.impute import SimpleImputer, KNNImputer\n",
    "from sklearn.preprocessing import StandardScaler\n",
    "from sklearn.model_selection import train_test_split, cross_validate\n",
    "from sklearn.feature_extraction.text import CountVectorizer\n",
    "from sklearn.compose import ColumnTransformer\n",
    "from sklearn.pipeline import Pipeline "
   ]
  },
  {
   "cell_type": "code",
   "execution_count": 2,
   "metadata": {},
   "outputs": [
    {
     "data": {
      "text/plain": [
       "['http://www.bestbuy.ca/api/v2/XML/search?categoryid=20352&pagesize=100&page=1',\n",
       " 'http://www.bestbuy.ca/api/v2/XML/search?categoryid=20352&pagesize=100&page=2',\n",
       " 'http://www.bestbuy.ca/api/v2/XML/search?categoryid=20352&pagesize=100&page=3',\n",
       " 'http://www.bestbuy.ca/api/v2/XML/search?categoryid=20352&pagesize=100&page=4',\n",
       " 'http://www.bestbuy.ca/api/v2/XML/search?categoryid=20352&pagesize=100&page=5',\n",
       " 'http://www.bestbuy.ca/api/v2/XML/search?categoryid=20352&pagesize=100&page=6',\n",
       " 'http://www.bestbuy.ca/api/v2/XML/search?categoryid=20352&pagesize=100&page=7',\n",
       " 'http://www.bestbuy.ca/api/v2/XML/search?categoryid=20352&pagesize=100&page=8',\n",
       " 'http://www.bestbuy.ca/api/v2/XML/search?categoryid=20352&pagesize=100&page=9',\n",
       " 'http://www.bestbuy.ca/api/v2/XML/search?categoryid=20352&pagesize=100&page=10',\n",
       " 'http://www.bestbuy.ca/api/v2/XML/search?categoryid=20352&pagesize=100&page=11',\n",
       " 'http://www.bestbuy.ca/api/v2/XML/search?categoryid=20352&pagesize=100&page=12',\n",
       " 'http://www.bestbuy.ca/api/v2/XML/search?categoryid=20352&pagesize=100&page=13',\n",
       " 'http://www.bestbuy.ca/api/v2/XML/search?categoryid=20352&pagesize=100&page=14',\n",
       " 'http://www.bestbuy.ca/api/v2/XML/search?categoryid=20352&pagesize=100&page=15',\n",
       " 'http://www.bestbuy.ca/api/v2/XML/search?categoryid=20352&pagesize=100&page=16',\n",
       " 'http://www.bestbuy.ca/api/v2/XML/search?categoryid=20352&pagesize=100&page=17',\n",
       " 'http://www.bestbuy.ca/api/v2/XML/search?categoryid=20352&pagesize=100&page=18',\n",
       " 'http://www.bestbuy.ca/api/v2/XML/search?categoryid=20352&pagesize=100&page=19',\n",
       " 'http://www.bestbuy.ca/api/v2/XML/search?categoryid=20352&pagesize=100&page=20',\n",
       " 'http://www.bestbuy.ca/api/v2/XML/search?categoryid=20352&pagesize=100&page=21',\n",
       " 'http://www.bestbuy.ca/api/v2/XML/search?categoryid=20352&pagesize=100&page=22',\n",
       " 'http://www.bestbuy.ca/api/v2/XML/search?categoryid=20352&pagesize=100&page=23',\n",
       " 'http://www.bestbuy.ca/api/v2/XML/search?categoryid=20352&pagesize=100&page=24',\n",
       " 'http://www.bestbuy.ca/api/v2/XML/search?categoryid=20352&pagesize=100&page=25',\n",
       " 'http://www.bestbuy.ca/api/v2/XML/search?categoryid=20352&pagesize=100&page=26',\n",
       " 'http://www.bestbuy.ca/api/v2/XML/search?categoryid=20352&pagesize=100&page=27',\n",
       " 'http://www.bestbuy.ca/api/v2/XML/search?categoryid=20352&pagesize=100&page=28',\n",
       " 'http://www.bestbuy.ca/api/v2/XML/search?categoryid=20352&pagesize=100&page=29',\n",
       " 'http://www.bestbuy.ca/api/v2/XML/search?categoryid=20352&pagesize=100&page=30',\n",
       " 'http://www.bestbuy.ca/api/v2/XML/search?categoryid=20352&pagesize=100&page=31',\n",
       " 'http://www.bestbuy.ca/api/v2/XML/search?categoryid=20352&pagesize=100&page=32',\n",
       " 'http://www.bestbuy.ca/api/v2/XML/search?categoryid=20352&pagesize=100&page=33',\n",
       " 'http://www.bestbuy.ca/api/v2/XML/search?categoryid=20352&pagesize=100&page=34',\n",
       " 'http://www.bestbuy.ca/api/v2/XML/search?categoryid=20352&pagesize=100&page=35',\n",
       " 'http://www.bestbuy.ca/api/v2/XML/search?categoryid=20352&pagesize=100&page=36',\n",
       " 'http://www.bestbuy.ca/api/v2/XML/search?categoryid=20352&pagesize=100&page=37',\n",
       " 'http://www.bestbuy.ca/api/v2/XML/search?categoryid=20352&pagesize=100&page=38',\n",
       " 'http://www.bestbuy.ca/api/v2/XML/search?categoryid=20352&pagesize=100&page=39',\n",
       " 'http://www.bestbuy.ca/api/v2/XML/search?categoryid=20352&pagesize=100&page=40',\n",
       " 'http://www.bestbuy.ca/api/v2/XML/search?categoryid=20352&pagesize=100&page=41',\n",
       " 'http://www.bestbuy.ca/api/v2/XML/search?categoryid=20352&pagesize=100&page=42',\n",
       " 'http://www.bestbuy.ca/api/v2/XML/search?categoryid=20352&pagesize=100&page=43',\n",
       " 'http://www.bestbuy.ca/api/v2/XML/search?categoryid=20352&pagesize=100&page=44',\n",
       " 'http://www.bestbuy.ca/api/v2/XML/search?categoryid=20352&pagesize=100&page=45',\n",
       " 'http://www.bestbuy.ca/api/v2/XML/search?categoryid=20352&pagesize=100&page=46',\n",
       " 'http://www.bestbuy.ca/api/v2/XML/search?categoryid=20352&pagesize=100&page=47',\n",
       " 'http://www.bestbuy.ca/api/v2/XML/search?categoryid=20352&pagesize=100&page=48',\n",
       " 'http://www.bestbuy.ca/api/v2/XML/search?categoryid=20352&pagesize=100&page=49',\n",
       " 'http://www.bestbuy.ca/api/v2/XML/search?categoryid=20352&pagesize=100&page=50',\n",
       " 'http://www.bestbuy.ca/api/v2/XML/search?categoryid=20352&pagesize=100&page=51',\n",
       " 'http://www.bestbuy.ca/api/v2/XML/search?categoryid=20352&pagesize=100&page=52',\n",
       " 'http://www.bestbuy.ca/api/v2/XML/search?categoryid=20352&pagesize=100&page=53',\n",
       " 'http://www.bestbuy.ca/api/v2/XML/search?categoryid=20352&pagesize=100&page=54',\n",
       " 'http://www.bestbuy.ca/api/v2/XML/search?categoryid=20352&pagesize=100&page=55',\n",
       " 'http://www.bestbuy.ca/api/v2/XML/search?categoryid=20352&pagesize=100&page=56',\n",
       " 'http://www.bestbuy.ca/api/v2/XML/search?categoryid=20352&pagesize=100&page=57',\n",
       " 'http://www.bestbuy.ca/api/v2/XML/search?categoryid=20352&pagesize=100&page=58',\n",
       " 'http://www.bestbuy.ca/api/v2/XML/search?categoryid=20352&pagesize=100&page=59',\n",
       " 'http://www.bestbuy.ca/api/v2/XML/search?categoryid=20352&pagesize=100&page=60',\n",
       " 'http://www.bestbuy.ca/api/v2/XML/search?categoryid=20352&pagesize=100&page=61',\n",
       " 'http://www.bestbuy.ca/api/v2/XML/search?categoryid=20352&pagesize=100&page=62',\n",
       " 'http://www.bestbuy.ca/api/v2/XML/search?categoryid=20352&pagesize=100&page=63',\n",
       " 'http://www.bestbuy.ca/api/v2/XML/search?categoryid=20352&pagesize=100&page=64',\n",
       " 'http://www.bestbuy.ca/api/v2/XML/search?categoryid=20352&pagesize=100&page=65',\n",
       " 'http://www.bestbuy.ca/api/v2/XML/search?categoryid=20352&pagesize=100&page=66',\n",
       " 'http://www.bestbuy.ca/api/v2/XML/search?categoryid=20352&pagesize=100&page=67',\n",
       " 'http://www.bestbuy.ca/api/v2/XML/search?categoryid=20352&pagesize=100&page=68',\n",
       " 'http://www.bestbuy.ca/api/v2/XML/search?categoryid=20352&pagesize=100&page=69',\n",
       " 'http://www.bestbuy.ca/api/v2/XML/search?categoryid=20352&pagesize=100&page=70',\n",
       " 'http://www.bestbuy.ca/api/v2/XML/search?categoryid=20352&pagesize=100&page=71',\n",
       " 'http://www.bestbuy.ca/api/v2/XML/search?categoryid=20352&pagesize=100&page=72',\n",
       " 'http://www.bestbuy.ca/api/v2/XML/search?categoryid=20352&pagesize=100&page=73',\n",
       " 'http://www.bestbuy.ca/api/v2/XML/search?categoryid=20352&pagesize=100&page=74',\n",
       " 'http://www.bestbuy.ca/api/v2/XML/search?categoryid=20352&pagesize=100&page=75',\n",
       " 'http://www.bestbuy.ca/api/v2/XML/search?categoryid=20352&pagesize=100&page=76',\n",
       " 'http://www.bestbuy.ca/api/v2/XML/search?categoryid=20352&pagesize=100&page=77',\n",
       " 'http://www.bestbuy.ca/api/v2/XML/search?categoryid=20352&pagesize=100&page=78',\n",
       " 'http://www.bestbuy.ca/api/v2/XML/search?categoryid=20352&pagesize=100&page=79',\n",
       " 'http://www.bestbuy.ca/api/v2/XML/search?categoryid=20352&pagesize=100&page=80',\n",
       " 'http://www.bestbuy.ca/api/v2/XML/search?categoryid=20352&pagesize=100&page=81',\n",
       " 'http://www.bestbuy.ca/api/v2/XML/search?categoryid=20352&pagesize=100&page=82',\n",
       " 'http://www.bestbuy.ca/api/v2/XML/search?categoryid=20352&pagesize=100&page=83',\n",
       " 'http://www.bestbuy.ca/api/v2/XML/search?categoryid=20352&pagesize=100&page=84',\n",
       " 'http://www.bestbuy.ca/api/v2/XML/search?categoryid=20352&pagesize=100&page=85',\n",
       " 'http://www.bestbuy.ca/api/v2/XML/search?categoryid=20352&pagesize=100&page=86',\n",
       " 'http://www.bestbuy.ca/api/v2/XML/search?categoryid=20352&pagesize=100&page=87',\n",
       " 'http://www.bestbuy.ca/api/v2/XML/search?categoryid=20352&pagesize=100&page=88',\n",
       " 'http://www.bestbuy.ca/api/v2/XML/search?categoryid=20352&pagesize=100&page=89',\n",
       " 'http://www.bestbuy.ca/api/v2/XML/search?categoryid=20352&pagesize=100&page=90',\n",
       " 'http://www.bestbuy.ca/api/v2/XML/search?categoryid=20352&pagesize=100&page=91',\n",
       " 'http://www.bestbuy.ca/api/v2/XML/search?categoryid=20352&pagesize=100&page=92',\n",
       " 'http://www.bestbuy.ca/api/v2/XML/search?categoryid=20352&pagesize=100&page=93',\n",
       " 'http://www.bestbuy.ca/api/v2/XML/search?categoryid=20352&pagesize=100&page=94',\n",
       " 'http://www.bestbuy.ca/api/v2/XML/search?categoryid=20352&pagesize=100&page=95',\n",
       " 'http://www.bestbuy.ca/api/v2/XML/search?categoryid=20352&pagesize=100&page=96',\n",
       " 'http://www.bestbuy.ca/api/v2/XML/search?categoryid=20352&pagesize=100&page=97',\n",
       " 'http://www.bestbuy.ca/api/v2/XML/search?categoryid=20352&pagesize=100&page=98',\n",
       " 'http://www.bestbuy.ca/api/v2/XML/search?categoryid=20352&pagesize=100&page=99',\n",
       " 'http://www.bestbuy.ca/api/v2/XML/search?categoryid=20352&pagesize=100&page=100']"
      ]
     },
     "execution_count": 2,
     "metadata": {},
     "output_type": "execute_result"
    }
   ],
   "source": [
    "df_ = pd.DataFrame()\n",
    "urllist = [\"http://www.bestbuy.ca/api/v2/XML/search?categoryid=20352&pagesize=100&page=\" + str(i) for i in range(1,101)]\n",
    "urllist"
   ]
  },
  {
   "cell_type": "code",
   "execution_count": 3,
   "metadata": {},
   "outputs": [
    {
     "name": "stderr",
     "output_type": "stream",
     "text": [
      "C:\\Users\\user\\Anaconda3\\lib\\site-packages\\pandas\\core\\frame.py:7123: FutureWarning: Sorting because non-concatenation axis is not aligned. A future version\n",
      "of pandas will change to not sort by default.\n",
      "\n",
      "To accept the future behavior, pass 'sort=False'.\n",
      "\n",
      "To retain the current behavior and silence the warning, pass 'sort=True'.\n",
      "\n",
      "  sort=sort,\n"
     ]
    }
   ],
   "source": [
    "count=0 \n",
    "\n",
    "for url in urllist: \n",
    "    response_new = requests.get(url)\n",
    "    \n",
    "    if count == 0: \n",
    "        df = pd.DataFrame(xmltodict.parse(response_new.text)['SearchResponse']['Products']['Product'])\n",
    "        df['Page'] = 1\n",
    "        count += 1 \n",
    "    \n",
    "    else: \n",
    "        df2 = pd.DataFrame(xmltodict.parse(response_new.text)['SearchResponse']['Products']['Product'])\n",
    "        df2['Page'] = count + 1 \n",
    "        df = df.append(df2)\n",
    "        count += 1 \n",
    "\n",
    "df = df.reset_index()"
   ]
  },
  {
   "cell_type": "markdown",
   "metadata": {},
   "source": [
    "## Seller Extraction"
   ]
  },
  {
   "cell_type": "code",
   "execution_count": 4,
   "metadata": {
    "scrolled": true
   },
   "outputs": [
    {
     "data": {
      "text/plain": [
       "{'Microcad Computer Corporation': 62,\n",
       " 'NetTradez': 527,\n",
       " 'Best Buy Business': 267,\n",
       " 'ORION COMPUTER AND ELECTRONICS': 11,\n",
       " 'PRO Open Box': 216,\n",
       " 'Olde Time Mac': 29,\n",
       " 'THE PC ROOM': 99,\n",
       " 'Electronics_Canada': 19,\n",
       " 'DCR': 164,\n",
       " 'Certified Refurbisher': 33,\n",
       " 'CDI Computer Dealers Inc.': 333,\n",
       " 'ALC Micro': 33,\n",
       " 'OEM': 38,\n",
       " 'Wireless Experts, Inc.': 2,\n",
       " 'Canada Wholesale': 10,\n",
       " 'Aero Malls Inc.': 23,\n",
       " 'IGO Electronics': 85,\n",
       " 'DirectEASYBUY': 65,\n",
       " 'Mike’s Computer Shop': 350,\n",
       " 'AlwaysTech': 14,\n",
       " 'TSC Deals': 19,\n",
       " 'Refurbanana': 3,\n",
       " 'Mega PC Mall': 2,\n",
       " 'OpenBox': 13,\n",
       " 'CPR upper beeches toronto': 2,\n",
       " 'RefurbIT': 39,\n",
       " 'SaveOnMacs': 19,\n",
       " 'MCI ONLINE': 37,\n",
       " 'MFG DIRECT ELECTRONICS': 9,\n",
       " 'TecnoCanada': 16,\n",
       " 'Canadian Outlet': 14,\n",
       " 'Tecnodeals': 103,\n",
       " 'Computer Depot': 41,\n",
       " 'QR Computers': 20,\n",
       " 'Advanced Skyline Technology Ltd.': 70,\n",
       " 'TVOUTLET': 12,\n",
       " 'ACM Électronique': 17,\n",
       " 'Techdealz': 8,\n",
       " 'SIPL Online': 30,\n",
       " 'OneDealOutlet Canada': 175,\n",
       " 'Lenovo Canada': 27,\n",
       " 'Vancouver Electronic Depot': 10,\n",
       " 'Exooto Media': 13,\n",
       " 'Nem Distribution': 13,\n",
       " 'Advanced Computers': 138,\n",
       " 'Square PC': 246,\n",
       " 'BigOnDeals': 12,\n",
       " 'Deal Targets': 281,\n",
       " 'VLCanada': 2,\n",
       " 'Newseed': 4,\n",
       " 'CELL4LESS': 5,\n",
       " 'X-Dynamic Systems': 16,\n",
       " 'iSanek': 126,\n",
       " 'MichaelElectronics2': 5162,\n",
       " 'TWI Store': 31,\n",
       " 'BidDeal': 23,\n",
       " 'Laptopking': 2,\n",
       " 'Etech': 3,\n",
       " 'TeleasyOnline': 26,\n",
       " 'COMPUPOINT INC.': 50,\n",
       " 'CTSMAR': 3,\n",
       " 'DealWiz': 11,\n",
       " 'Wintronic Computers Plus': 32,\n",
       " 'TechSavings': 29,\n",
       " 'Eurocom Corporation': 35,\n",
       " 'CFI eStore': 3,\n",
       " 'Experimax': 14,\n",
       " 'Vertex Nano Technology': 9,\n",
       " 'Outdoor Laptops': 22,\n",
       " 'Compute4Less Corp': 3,\n",
       " 'Canadian Electronics': 6,\n",
       " 'TECDATA ENGINEERS': 3,\n",
       " 'Best Tech Canada': 2,\n",
       " 'COMPACCESSORIES': 3,\n",
       " 'RUGGEDBOOKS Inc.': 26,\n",
       " 'Deals Next Door': 2,\n",
       " 'ITFactory': 3,\n",
       " 'Quick Tech': 3,\n",
       " 'TTWILI': 5,\n",
       " 'TechGenius': 16,\n",
       " 'Dr. Liquidator': 2,\n",
       " 'Fast Distribution': 2,\n",
       " 'Dealfactor Canada': 8,\n",
       " None: 2,\n",
       " 'UNIWAY': 5,\n",
       " 'EXPERTPRO': 12,\n",
       " 'Conquest Distributors': 2,\n",
       " 'Canada cellular': 7,\n",
       " 'Urban Inspirations': 2,\n",
       " 'YY Page': 2,\n",
       " '123wowdeals': 6,\n",
       " 'TiGuyCo Plus': 2,\n",
       " 'Sunterra Equipment Inc': 16,\n",
       " 'Datamatrix': 4,\n",
       " 'DigitalShopper': 8,\n",
       " 'ULTIMAXX CANADA': 4,\n",
       " 'CLX Gaming': 13,\n",
       " 'Micropeer': 2,\n",
       " 'Cellular Tech': 2,\n",
       " 'Techville': 2,\n",
       " 'GADGET HOUSE': 2,\n",
       " 'ERA': 3}"
      ]
     },
     "execution_count": 4,
     "metadata": {},
     "output_type": "execute_result"
    }
   ],
   "source": [
    "notBB = df[~df['Seller'].isnull()]\n",
    "BB = df[df['Seller'].isnull()]\n",
    "\n",
    "seller = [notBB['Seller'].iloc[i].get('Name') for i in range(0,len(notBB))]\n",
    "sellunique =[] \n",
    "numsell = {} \n",
    "\n",
    "for x in seller: \n",
    "    if x not in sellunique: \n",
    "        sellunique.append(x)\n",
    "        numsell[x] = 1\n",
    "    if x in sellunique: \n",
    "        numsell[x] += 1 \n",
    "\n",
    "sellunique\n",
    "numsell"
   ]
  },
  {
   "cell_type": "markdown",
   "metadata": {},
   "source": [
    "## Description Score"
   ]
  },
  {
   "cell_type": "code",
   "execution_count": 5,
   "metadata": {},
   "outputs": [
    {
     "name": "stdout",
     "output_type": "stream",
     "text": [
      "48.573664727657324\n",
      "51.14862385321101\n"
     ]
    }
   ],
   "source": [
    "desclen = [len(notBB['ShortDescription'].iloc[i].split()) for i in range(0,len(notBB))]\n",
    "uniqlen = [len(set(notBB['ShortDescription'].iloc[i].split())) for i in range(0,len(notBB))]\n",
    "\n",
    "BBuniqlen = [len(set(BB['ShortDescription'].iloc[i].split())) for i in range(0,len(BB))]\n",
    "print(mean(uniqlen))\n",
    "print(mean(BBuniqlen))"
   ]
  },
  {
   "cell_type": "code",
   "execution_count": 6,
   "metadata": {},
   "outputs": [],
   "source": [
    "numworddiff = [i/mean(BBuniqlen) for i in uniqlen]"
   ]
  },
  {
   "cell_type": "code",
   "execution_count": 7,
   "metadata": {},
   "outputs": [
    {
     "data": {
      "text/plain": [
       "hd       9623\n",
       "10       8126\n",
       "intel    7210\n",
       "ram      6944\n",
       "ssd      6703\n",
       "dtype: int64"
      ]
     },
     "execution_count": 7,
     "metadata": {},
     "output_type": "execute_result"
    }
   ],
   "source": [
    "cv = CountVectorizer(stop_words='english')\n",
    "\n",
    "shortdesc = notBB['ShortDescription']\n",
    "wordcount = cv.fit_transform(shortdesc).toarray()\n",
    "wordcount = pd.DataFrame(wordcount, columns=cv.get_feature_names())\n",
    "wordlist = wordcount.sum(axis=0).sort_values(ascending=False).index.tolist()\n",
    "wordcount.sum(axis=0).sort_values(ascending=False)[0:5]"
   ]
  },
  {
   "cell_type": "code",
   "execution_count": 8,
   "metadata": {},
   "outputs": [
    {
     "data": {
      "text/plain": [
       "laptop       586\n",
       "strong       470\n",
       "processor    426\n",
       "core         389\n",
       "ram          383\n",
       "dtype: int64"
      ]
     },
     "execution_count": 8,
     "metadata": {},
     "output_type": "execute_result"
    }
   ],
   "source": [
    "BBshortdesc = BB['ShortDescription']\n",
    "BBwordcount = cv.fit_transform(BBshortdesc).toarray()\n",
    "BBwordcount = pd.DataFrame(BBwordcount, columns=cv.get_feature_names())\n",
    "BBwordlist = BBwordcount.sum(axis=0).sort_values(ascending=False).index.tolist()\n",
    "BBwordcount.sum(axis=0).sort_values(ascending=False)[0:5]"
   ]
  },
  {
   "cell_type": "code",
   "execution_count": 9,
   "metadata": {},
   "outputs": [],
   "source": [
    "wordinlist = [[j for j in notBB['ShortDescription'].iloc[i].split() if j in BBwordlist] for i in range(0,len(notBB))]\n",
    "propinlist = [len(wordinlist[i])/uniqlen[i] for i in range(0,len(wordinlist))]"
   ]
  },
  {
   "cell_type": "code",
   "execution_count": 10,
   "metadata": {},
   "outputs": [
    {
     "name": "stderr",
     "output_type": "stream",
     "text": [
      "C:\\Users\\user\\Anaconda3\\lib\\site-packages\\ipykernel_launcher.py:1: SettingWithCopyWarning: \n",
      "A value is trying to be set on a copy of a slice from a DataFrame.\n",
      "Try using .loc[row_indexer,col_indexer] = value instead\n",
      "\n",
      "See the caveats in the documentation: http://pandas.pydata.org/pandas-docs/stable/user_guide/indexing.html#returning-a-view-versus-a-copy\n",
      "  \"\"\"Entry point for launching an IPython kernel.\n"
     ]
    },
    {
     "ename": "KeyError",
     "evalue": "'proportionlength'",
     "output_type": "error",
     "traceback": [
      "\u001b[1;31m---------------------------------------------------------------------------\u001b[0m",
      "\u001b[1;31mKeyError\u001b[0m                                  Traceback (most recent call last)",
      "\u001b[1;32m~\\Anaconda3\\lib\\site-packages\\pandas\\core\\indexes\\base.py\u001b[0m in \u001b[0;36mget_loc\u001b[1;34m(self, key, method, tolerance)\u001b[0m\n\u001b[0;32m   2896\u001b[0m             \u001b[1;32mtry\u001b[0m\u001b[1;33m:\u001b[0m\u001b[1;33m\u001b[0m\u001b[1;33m\u001b[0m\u001b[0m\n\u001b[1;32m-> 2897\u001b[1;33m                 \u001b[1;32mreturn\u001b[0m \u001b[0mself\u001b[0m\u001b[1;33m.\u001b[0m\u001b[0m_engine\u001b[0m\u001b[1;33m.\u001b[0m\u001b[0mget_loc\u001b[0m\u001b[1;33m(\u001b[0m\u001b[0mkey\u001b[0m\u001b[1;33m)\u001b[0m\u001b[1;33m\u001b[0m\u001b[1;33m\u001b[0m\u001b[0m\n\u001b[0m\u001b[0;32m   2898\u001b[0m             \u001b[1;32mexcept\u001b[0m \u001b[0mKeyError\u001b[0m\u001b[1;33m:\u001b[0m\u001b[1;33m\u001b[0m\u001b[1;33m\u001b[0m\u001b[0m\n",
      "\u001b[1;32mpandas\\_libs\\index.pyx\u001b[0m in \u001b[0;36mpandas._libs.index.IndexEngine.get_loc\u001b[1;34m()\u001b[0m\n",
      "\u001b[1;32mpandas\\_libs\\index.pyx\u001b[0m in \u001b[0;36mpandas._libs.index.IndexEngine.get_loc\u001b[1;34m()\u001b[0m\n",
      "\u001b[1;32mpandas\\_libs\\hashtable_class_helper.pxi\u001b[0m in \u001b[0;36mpandas._libs.hashtable.PyObjectHashTable.get_item\u001b[1;34m()\u001b[0m\n",
      "\u001b[1;32mpandas\\_libs\\hashtable_class_helper.pxi\u001b[0m in \u001b[0;36mpandas._libs.hashtable.PyObjectHashTable.get_item\u001b[1;34m()\u001b[0m\n",
      "\u001b[1;31mKeyError\u001b[0m: 'proportionlength'",
      "\nDuring handling of the above exception, another exception occurred:\n",
      "\u001b[1;31mKeyError\u001b[0m                                  Traceback (most recent call last)",
      "\u001b[1;32m<ipython-input-10-a80bc49e267f>\u001b[0m in \u001b[0;36m<module>\u001b[1;34m\u001b[0m\n\u001b[0;32m      5\u001b[0m \u001b[1;31m#notBB['wordsinlist'] = wordinlist\u001b[0m\u001b[1;33m\u001b[0m\u001b[1;33m\u001b[0m\u001b[1;33m\u001b[0m\u001b[0m\n\u001b[0;32m      6\u001b[0m \u001b[1;31m#notBB['proportioninlist'] = propinlist\u001b[0m\u001b[1;33m\u001b[0m\u001b[1;33m\u001b[0m\u001b[1;33m\u001b[0m\u001b[0m\n\u001b[1;32m----> 7\u001b[1;33m \u001b[0mnotBB\u001b[0m\u001b[1;33m[\u001b[0m\u001b[1;34m'descrscore'\u001b[0m\u001b[1;33m]\u001b[0m \u001b[1;33m=\u001b[0m \u001b[1;33m(\u001b[0m\u001b[0mnotBB\u001b[0m\u001b[1;33m[\u001b[0m\u001b[1;34m'proportionlength'\u001b[0m\u001b[1;33m]\u001b[0m \u001b[1;33m+\u001b[0m \u001b[0mnotBB\u001b[0m\u001b[1;33m[\u001b[0m\u001b[1;34m'proportioninlist'\u001b[0m\u001b[1;33m]\u001b[0m\u001b[1;33m)\u001b[0m\u001b[1;33m/\u001b[0m\u001b[1;36m2\u001b[0m\u001b[1;33m\u001b[0m\u001b[1;33m\u001b[0m\u001b[0m\n\u001b[0m",
      "\u001b[1;32m~\\Anaconda3\\lib\\site-packages\\pandas\\core\\frame.py\u001b[0m in \u001b[0;36m__getitem__\u001b[1;34m(self, key)\u001b[0m\n\u001b[0;32m   2978\u001b[0m             \u001b[1;32mif\u001b[0m \u001b[0mself\u001b[0m\u001b[1;33m.\u001b[0m\u001b[0mcolumns\u001b[0m\u001b[1;33m.\u001b[0m\u001b[0mnlevels\u001b[0m \u001b[1;33m>\u001b[0m \u001b[1;36m1\u001b[0m\u001b[1;33m:\u001b[0m\u001b[1;33m\u001b[0m\u001b[1;33m\u001b[0m\u001b[0m\n\u001b[0;32m   2979\u001b[0m                 \u001b[1;32mreturn\u001b[0m \u001b[0mself\u001b[0m\u001b[1;33m.\u001b[0m\u001b[0m_getitem_multilevel\u001b[0m\u001b[1;33m(\u001b[0m\u001b[0mkey\u001b[0m\u001b[1;33m)\u001b[0m\u001b[1;33m\u001b[0m\u001b[1;33m\u001b[0m\u001b[0m\n\u001b[1;32m-> 2980\u001b[1;33m             \u001b[0mindexer\u001b[0m \u001b[1;33m=\u001b[0m \u001b[0mself\u001b[0m\u001b[1;33m.\u001b[0m\u001b[0mcolumns\u001b[0m\u001b[1;33m.\u001b[0m\u001b[0mget_loc\u001b[0m\u001b[1;33m(\u001b[0m\u001b[0mkey\u001b[0m\u001b[1;33m)\u001b[0m\u001b[1;33m\u001b[0m\u001b[1;33m\u001b[0m\u001b[0m\n\u001b[0m\u001b[0;32m   2981\u001b[0m             \u001b[1;32mif\u001b[0m \u001b[0mis_integer\u001b[0m\u001b[1;33m(\u001b[0m\u001b[0mindexer\u001b[0m\u001b[1;33m)\u001b[0m\u001b[1;33m:\u001b[0m\u001b[1;33m\u001b[0m\u001b[1;33m\u001b[0m\u001b[0m\n\u001b[0;32m   2982\u001b[0m                 \u001b[0mindexer\u001b[0m \u001b[1;33m=\u001b[0m \u001b[1;33m[\u001b[0m\u001b[0mindexer\u001b[0m\u001b[1;33m]\u001b[0m\u001b[1;33m\u001b[0m\u001b[1;33m\u001b[0m\u001b[0m\n",
      "\u001b[1;32m~\\Anaconda3\\lib\\site-packages\\pandas\\core\\indexes\\base.py\u001b[0m in \u001b[0;36mget_loc\u001b[1;34m(self, key, method, tolerance)\u001b[0m\n\u001b[0;32m   2897\u001b[0m                 \u001b[1;32mreturn\u001b[0m \u001b[0mself\u001b[0m\u001b[1;33m.\u001b[0m\u001b[0m_engine\u001b[0m\u001b[1;33m.\u001b[0m\u001b[0mget_loc\u001b[0m\u001b[1;33m(\u001b[0m\u001b[0mkey\u001b[0m\u001b[1;33m)\u001b[0m\u001b[1;33m\u001b[0m\u001b[1;33m\u001b[0m\u001b[0m\n\u001b[0;32m   2898\u001b[0m             \u001b[1;32mexcept\u001b[0m \u001b[0mKeyError\u001b[0m\u001b[1;33m:\u001b[0m\u001b[1;33m\u001b[0m\u001b[1;33m\u001b[0m\u001b[0m\n\u001b[1;32m-> 2899\u001b[1;33m                 \u001b[1;32mreturn\u001b[0m \u001b[0mself\u001b[0m\u001b[1;33m.\u001b[0m\u001b[0m_engine\u001b[0m\u001b[1;33m.\u001b[0m\u001b[0mget_loc\u001b[0m\u001b[1;33m(\u001b[0m\u001b[0mself\u001b[0m\u001b[1;33m.\u001b[0m\u001b[0m_maybe_cast_indexer\u001b[0m\u001b[1;33m(\u001b[0m\u001b[0mkey\u001b[0m\u001b[1;33m)\u001b[0m\u001b[1;33m)\u001b[0m\u001b[1;33m\u001b[0m\u001b[1;33m\u001b[0m\u001b[0m\n\u001b[0m\u001b[0;32m   2900\u001b[0m         \u001b[0mindexer\u001b[0m \u001b[1;33m=\u001b[0m \u001b[0mself\u001b[0m\u001b[1;33m.\u001b[0m\u001b[0mget_indexer\u001b[0m\u001b[1;33m(\u001b[0m\u001b[1;33m[\u001b[0m\u001b[0mkey\u001b[0m\u001b[1;33m]\u001b[0m\u001b[1;33m,\u001b[0m \u001b[0mmethod\u001b[0m\u001b[1;33m=\u001b[0m\u001b[0mmethod\u001b[0m\u001b[1;33m,\u001b[0m \u001b[0mtolerance\u001b[0m\u001b[1;33m=\u001b[0m\u001b[0mtolerance\u001b[0m\u001b[1;33m)\u001b[0m\u001b[1;33m\u001b[0m\u001b[1;33m\u001b[0m\u001b[0m\n\u001b[0;32m   2901\u001b[0m         \u001b[1;32mif\u001b[0m \u001b[0mindexer\u001b[0m\u001b[1;33m.\u001b[0m\u001b[0mndim\u001b[0m \u001b[1;33m>\u001b[0m \u001b[1;36m1\u001b[0m \u001b[1;32mor\u001b[0m \u001b[0mindexer\u001b[0m\u001b[1;33m.\u001b[0m\u001b[0msize\u001b[0m \u001b[1;33m>\u001b[0m \u001b[1;36m1\u001b[0m\u001b[1;33m:\u001b[0m\u001b[1;33m\u001b[0m\u001b[1;33m\u001b[0m\u001b[0m\n",
      "\u001b[1;32mpandas\\_libs\\index.pyx\u001b[0m in \u001b[0;36mpandas._libs.index.IndexEngine.get_loc\u001b[1;34m()\u001b[0m\n",
      "\u001b[1;32mpandas\\_libs\\index.pyx\u001b[0m in \u001b[0;36mpandas._libs.index.IndexEngine.get_loc\u001b[1;34m()\u001b[0m\n",
      "\u001b[1;32mpandas\\_libs\\hashtable_class_helper.pxi\u001b[0m in \u001b[0;36mpandas._libs.hashtable.PyObjectHashTable.get_item\u001b[1;34m()\u001b[0m\n",
      "\u001b[1;32mpandas\\_libs\\hashtable_class_helper.pxi\u001b[0m in \u001b[0;36mpandas._libs.hashtable.PyObjectHashTable.get_item\u001b[1;34m()\u001b[0m\n",
      "\u001b[1;31mKeyError\u001b[0m: 'proportionlength'"
     ]
    }
   ],
   "source": [
    "notBB['sellername'] = seller\n",
    "#notBB['length'] = desclen\n",
    "#notBB['uniquelength'] = uniqlen\n",
    "#notBB['proportionlength'] = numworddiff\n",
    "#notBB['wordsinlist'] = wordinlist\n",
    "#notBB['proportioninlist'] = propinlist\n",
    "notBB['descrscore'] = (notBB['proportionlength'] + notBB['proportioninlist'])/2"
   ]
  },
  {
   "cell_type": "markdown",
   "metadata": {},
   "source": [
    "## Title Score"
   ]
  },
  {
   "cell_type": "code",
   "execution_count": null,
   "metadata": {},
   "outputs": [],
   "source": [
    "titlen = [len(set(notBB['SeoText'].iloc[i].split('-'))) for i in range(0,len(notBB))]\n",
    "BBtitlen = [len(set(BB['SeoText'].iloc[i].split('-'))) for i in range(0,len(BB))]\n",
    "titlediff = [min(2-i/mean(BBtitlen),1) for i in titlen]\n",
    "\n",
    "print(mean(titlen))\n",
    "print(mean(BBtitlen))"
   ]
  },
  {
   "cell_type": "code",
   "execution_count": null,
   "metadata": {},
   "outputs": [],
   "source": [
    "title = notBB['SeoText']\n",
    "titlecount = cv.fit_transform(title).toarray()\n",
    "titlecount = pd.DataFrame(titlecount, columns=cv.get_feature_names())\n",
    "titlelist = titlecount.sum(axis=0).sort_values(ascending=False).index.tolist()\n",
    "titlecount.sum(axis=0).sort_values(ascending=False)[0:5]"
   ]
  },
  {
   "cell_type": "code",
   "execution_count": null,
   "metadata": {},
   "outputs": [],
   "source": [
    "BBtitle = BB['SeoText']\n",
    "BBtitlecount = cv.fit_transform(BBtitle).toarray()\n",
    "BBtitlecount = pd.DataFrame(BBtitlecount, columns=cv.get_feature_names())\n",
    "BBtitlelist = BBtitlecount.sum(axis=0).sort_values(ascending=False).index.tolist()\n",
    "BBtitlecount.sum(axis=0).sort_values(ascending=False)[0:5]"
   ]
  },
  {
   "cell_type": "code",
   "execution_count": null,
   "metadata": {},
   "outputs": [],
   "source": [
    "titleinlist = [[j for j in notBB['ShortDescription'].iloc[i].split() if j in BBwordlist] for i in range(0,len(notBB))]\n",
    "proptitleinlist = [len(wordinlist[i])/uniqlen[i] for i in range(0,len(wordinlist))]"
   ]
  },
  {
   "cell_type": "code",
   "execution_count": null,
   "metadata": {},
   "outputs": [],
   "source": [
    "notBB['titlelength'] = titlen\n",
    "notBB['proportiontitle'] = titlediff\n",
    "notBB['titleinlist'] = titleinlist\n",
    "notBB['proptitleinlist'] = proptitleinlist\n",
    "notBB['titlescore'] = (notBB['proportiontitle'] + notBB['proptitleinlist'])/2"
   ]
  },
  {
   "cell_type": "code",
   "execution_count": null,
   "metadata": {},
   "outputs": [],
   "source": [
    "notBB.head()"
   ]
  },
  {
   "cell_type": "markdown",
   "metadata": {},
   "source": [
    "## Image"
   ]
  },
  {
   "cell_type": "code",
   "execution_count": null,
   "metadata": {},
   "outputs": [],
   "source": [
    "imgscore = [1 if i != np.nan else 0 for i in notBB['highResImage'] ]\n",
    "imgscore"
   ]
  },
  {
   "cell_type": "code",
   "execution_count": null,
   "metadata": {},
   "outputs": [],
   "source": [
    "notBB['imgscore'] = imgscore"
   ]
  },
  {
   "cell_type": "code",
   "execution_count": null,
   "metadata": {},
   "outputs": [],
   "source": [
    "notBB"
   ]
  }
 ],
 "metadata": {
  "kernelspec": {
   "display_name": "Python 3",
   "language": "python",
   "name": "python3"
  },
  "language_info": {
   "codemirror_mode": {
    "name": "ipython",
    "version": 3
   },
   "file_extension": ".py",
   "mimetype": "text/x-python",
   "name": "python",
   "nbconvert_exporter": "python",
   "pygments_lexer": "ipython3",
   "version": "3.7.3"
  }
 },
 "nbformat": 4,
 "nbformat_minor": 2
}
