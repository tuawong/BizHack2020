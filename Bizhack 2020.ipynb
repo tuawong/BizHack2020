{
 "cells": [
  {
   "cell_type": "code",
   "execution_count": 1,
   "metadata": {},
   "outputs": [],
   "source": [
    "import requests\n",
    "import xmltodict\n",
    "import pandas as pd\n",
    "import numpy as np\n",
    "import math\n",
    "from collections import Counter\n",
    "from statistics import mean\n"
   ]
  },
  {
   "cell_type": "code",
   "execution_count": 2,
   "metadata": {},
   "outputs": [
    {
     "data": {
      "text/plain": [
       "['http://www.bestbuy.ca/api/v2/XML/search?categoryid=20352&pagesize=100&page=1',\n",
       " 'http://www.bestbuy.ca/api/v2/XML/search?categoryid=20352&pagesize=100&page=2',\n",
       " 'http://www.bestbuy.ca/api/v2/XML/search?categoryid=20352&pagesize=100&page=3',\n",
       " 'http://www.bestbuy.ca/api/v2/XML/search?categoryid=20352&pagesize=100&page=4',\n",
       " 'http://www.bestbuy.ca/api/v2/XML/search?categoryid=20352&pagesize=100&page=5',\n",
       " 'http://www.bestbuy.ca/api/v2/XML/search?categoryid=20352&pagesize=100&page=6',\n",
       " 'http://www.bestbuy.ca/api/v2/XML/search?categoryid=20352&pagesize=100&page=7',\n",
       " 'http://www.bestbuy.ca/api/v2/XML/search?categoryid=20352&pagesize=100&page=8',\n",
       " 'http://www.bestbuy.ca/api/v2/XML/search?categoryid=20352&pagesize=100&page=9',\n",
       " 'http://www.bestbuy.ca/api/v2/XML/search?categoryid=20352&pagesize=100&page=10',\n",
       " 'http://www.bestbuy.ca/api/v2/XML/search?categoryid=20352&pagesize=100&page=11',\n",
       " 'http://www.bestbuy.ca/api/v2/XML/search?categoryid=20352&pagesize=100&page=12',\n",
       " 'http://www.bestbuy.ca/api/v2/XML/search?categoryid=20352&pagesize=100&page=13',\n",
       " 'http://www.bestbuy.ca/api/v2/XML/search?categoryid=20352&pagesize=100&page=14',\n",
       " 'http://www.bestbuy.ca/api/v2/XML/search?categoryid=20352&pagesize=100&page=15',\n",
       " 'http://www.bestbuy.ca/api/v2/XML/search?categoryid=20352&pagesize=100&page=16',\n",
       " 'http://www.bestbuy.ca/api/v2/XML/search?categoryid=20352&pagesize=100&page=17',\n",
       " 'http://www.bestbuy.ca/api/v2/XML/search?categoryid=20352&pagesize=100&page=18',\n",
       " 'http://www.bestbuy.ca/api/v2/XML/search?categoryid=20352&pagesize=100&page=19',\n",
       " 'http://www.bestbuy.ca/api/v2/XML/search?categoryid=20352&pagesize=100&page=20',\n",
       " 'http://www.bestbuy.ca/api/v2/XML/search?categoryid=20352&pagesize=100&page=21',\n",
       " 'http://www.bestbuy.ca/api/v2/XML/search?categoryid=20352&pagesize=100&page=22',\n",
       " 'http://www.bestbuy.ca/api/v2/XML/search?categoryid=20352&pagesize=100&page=23',\n",
       " 'http://www.bestbuy.ca/api/v2/XML/search?categoryid=20352&pagesize=100&page=24',\n",
       " 'http://www.bestbuy.ca/api/v2/XML/search?categoryid=20352&pagesize=100&page=25',\n",
       " 'http://www.bestbuy.ca/api/v2/XML/search?categoryid=20352&pagesize=100&page=26',\n",
       " 'http://www.bestbuy.ca/api/v2/XML/search?categoryid=20352&pagesize=100&page=27',\n",
       " 'http://www.bestbuy.ca/api/v2/XML/search?categoryid=20352&pagesize=100&page=28',\n",
       " 'http://www.bestbuy.ca/api/v2/XML/search?categoryid=20352&pagesize=100&page=29',\n",
       " 'http://www.bestbuy.ca/api/v2/XML/search?categoryid=20352&pagesize=100&page=30',\n",
       " 'http://www.bestbuy.ca/api/v2/XML/search?categoryid=20352&pagesize=100&page=31',\n",
       " 'http://www.bestbuy.ca/api/v2/XML/search?categoryid=20352&pagesize=100&page=32',\n",
       " 'http://www.bestbuy.ca/api/v2/XML/search?categoryid=20352&pagesize=100&page=33',\n",
       " 'http://www.bestbuy.ca/api/v2/XML/search?categoryid=20352&pagesize=100&page=34',\n",
       " 'http://www.bestbuy.ca/api/v2/XML/search?categoryid=20352&pagesize=100&page=35',\n",
       " 'http://www.bestbuy.ca/api/v2/XML/search?categoryid=20352&pagesize=100&page=36',\n",
       " 'http://www.bestbuy.ca/api/v2/XML/search?categoryid=20352&pagesize=100&page=37',\n",
       " 'http://www.bestbuy.ca/api/v2/XML/search?categoryid=20352&pagesize=100&page=38',\n",
       " 'http://www.bestbuy.ca/api/v2/XML/search?categoryid=20352&pagesize=100&page=39',\n",
       " 'http://www.bestbuy.ca/api/v2/XML/search?categoryid=20352&pagesize=100&page=40',\n",
       " 'http://www.bestbuy.ca/api/v2/XML/search?categoryid=20352&pagesize=100&page=41',\n",
       " 'http://www.bestbuy.ca/api/v2/XML/search?categoryid=20352&pagesize=100&page=42',\n",
       " 'http://www.bestbuy.ca/api/v2/XML/search?categoryid=20352&pagesize=100&page=43',\n",
       " 'http://www.bestbuy.ca/api/v2/XML/search?categoryid=20352&pagesize=100&page=44',\n",
       " 'http://www.bestbuy.ca/api/v2/XML/search?categoryid=20352&pagesize=100&page=45',\n",
       " 'http://www.bestbuy.ca/api/v2/XML/search?categoryid=20352&pagesize=100&page=46',\n",
       " 'http://www.bestbuy.ca/api/v2/XML/search?categoryid=20352&pagesize=100&page=47',\n",
       " 'http://www.bestbuy.ca/api/v2/XML/search?categoryid=20352&pagesize=100&page=48',\n",
       " 'http://www.bestbuy.ca/api/v2/XML/search?categoryid=20352&pagesize=100&page=49',\n",
       " 'http://www.bestbuy.ca/api/v2/XML/search?categoryid=20352&pagesize=100&page=50',\n",
       " 'http://www.bestbuy.ca/api/v2/XML/search?categoryid=20352&pagesize=100&page=51',\n",
       " 'http://www.bestbuy.ca/api/v2/XML/search?categoryid=20352&pagesize=100&page=52',\n",
       " 'http://www.bestbuy.ca/api/v2/XML/search?categoryid=20352&pagesize=100&page=53',\n",
       " 'http://www.bestbuy.ca/api/v2/XML/search?categoryid=20352&pagesize=100&page=54',\n",
       " 'http://www.bestbuy.ca/api/v2/XML/search?categoryid=20352&pagesize=100&page=55',\n",
       " 'http://www.bestbuy.ca/api/v2/XML/search?categoryid=20352&pagesize=100&page=56',\n",
       " 'http://www.bestbuy.ca/api/v2/XML/search?categoryid=20352&pagesize=100&page=57',\n",
       " 'http://www.bestbuy.ca/api/v2/XML/search?categoryid=20352&pagesize=100&page=58',\n",
       " 'http://www.bestbuy.ca/api/v2/XML/search?categoryid=20352&pagesize=100&page=59',\n",
       " 'http://www.bestbuy.ca/api/v2/XML/search?categoryid=20352&pagesize=100&page=60',\n",
       " 'http://www.bestbuy.ca/api/v2/XML/search?categoryid=20352&pagesize=100&page=61',\n",
       " 'http://www.bestbuy.ca/api/v2/XML/search?categoryid=20352&pagesize=100&page=62',\n",
       " 'http://www.bestbuy.ca/api/v2/XML/search?categoryid=20352&pagesize=100&page=63',\n",
       " 'http://www.bestbuy.ca/api/v2/XML/search?categoryid=20352&pagesize=100&page=64',\n",
       " 'http://www.bestbuy.ca/api/v2/XML/search?categoryid=20352&pagesize=100&page=65',\n",
       " 'http://www.bestbuy.ca/api/v2/XML/search?categoryid=20352&pagesize=100&page=66',\n",
       " 'http://www.bestbuy.ca/api/v2/XML/search?categoryid=20352&pagesize=100&page=67',\n",
       " 'http://www.bestbuy.ca/api/v2/XML/search?categoryid=20352&pagesize=100&page=68',\n",
       " 'http://www.bestbuy.ca/api/v2/XML/search?categoryid=20352&pagesize=100&page=69',\n",
       " 'http://www.bestbuy.ca/api/v2/XML/search?categoryid=20352&pagesize=100&page=70',\n",
       " 'http://www.bestbuy.ca/api/v2/XML/search?categoryid=20352&pagesize=100&page=71',\n",
       " 'http://www.bestbuy.ca/api/v2/XML/search?categoryid=20352&pagesize=100&page=72',\n",
       " 'http://www.bestbuy.ca/api/v2/XML/search?categoryid=20352&pagesize=100&page=73',\n",
       " 'http://www.bestbuy.ca/api/v2/XML/search?categoryid=20352&pagesize=100&page=74',\n",
       " 'http://www.bestbuy.ca/api/v2/XML/search?categoryid=20352&pagesize=100&page=75',\n",
       " 'http://www.bestbuy.ca/api/v2/XML/search?categoryid=20352&pagesize=100&page=76',\n",
       " 'http://www.bestbuy.ca/api/v2/XML/search?categoryid=20352&pagesize=100&page=77',\n",
       " 'http://www.bestbuy.ca/api/v2/XML/search?categoryid=20352&pagesize=100&page=78',\n",
       " 'http://www.bestbuy.ca/api/v2/XML/search?categoryid=20352&pagesize=100&page=79',\n",
       " 'http://www.bestbuy.ca/api/v2/XML/search?categoryid=20352&pagesize=100&page=80',\n",
       " 'http://www.bestbuy.ca/api/v2/XML/search?categoryid=20352&pagesize=100&page=81',\n",
       " 'http://www.bestbuy.ca/api/v2/XML/search?categoryid=20352&pagesize=100&page=82',\n",
       " 'http://www.bestbuy.ca/api/v2/XML/search?categoryid=20352&pagesize=100&page=83',\n",
       " 'http://www.bestbuy.ca/api/v2/XML/search?categoryid=20352&pagesize=100&page=84',\n",
       " 'http://www.bestbuy.ca/api/v2/XML/search?categoryid=20352&pagesize=100&page=85',\n",
       " 'http://www.bestbuy.ca/api/v2/XML/search?categoryid=20352&pagesize=100&page=86',\n",
       " 'http://www.bestbuy.ca/api/v2/XML/search?categoryid=20352&pagesize=100&page=87',\n",
       " 'http://www.bestbuy.ca/api/v2/XML/search?categoryid=20352&pagesize=100&page=88',\n",
       " 'http://www.bestbuy.ca/api/v2/XML/search?categoryid=20352&pagesize=100&page=89',\n",
       " 'http://www.bestbuy.ca/api/v2/XML/search?categoryid=20352&pagesize=100&page=90',\n",
       " 'http://www.bestbuy.ca/api/v2/XML/search?categoryid=20352&pagesize=100&page=91',\n",
       " 'http://www.bestbuy.ca/api/v2/XML/search?categoryid=20352&pagesize=100&page=92',\n",
       " 'http://www.bestbuy.ca/api/v2/XML/search?categoryid=20352&pagesize=100&page=93',\n",
       " 'http://www.bestbuy.ca/api/v2/XML/search?categoryid=20352&pagesize=100&page=94',\n",
       " 'http://www.bestbuy.ca/api/v2/XML/search?categoryid=20352&pagesize=100&page=95',\n",
       " 'http://www.bestbuy.ca/api/v2/XML/search?categoryid=20352&pagesize=100&page=96',\n",
       " 'http://www.bestbuy.ca/api/v2/XML/search?categoryid=20352&pagesize=100&page=97',\n",
       " 'http://www.bestbuy.ca/api/v2/XML/search?categoryid=20352&pagesize=100&page=98',\n",
       " 'http://www.bestbuy.ca/api/v2/XML/search?categoryid=20352&pagesize=100&page=99',\n",
       " 'http://www.bestbuy.ca/api/v2/XML/search?categoryid=20352&pagesize=100&page=100']"
      ]
     },
     "execution_count": 2,
     "metadata": {},
     "output_type": "execute_result"
    }
   ],
   "source": [
    "df_ = pd.DataFrame()\n",
    "urllist = [\"http://www.bestbuy.ca/api/v2/XML/search?categoryid=20352&pagesize=100&page=\" + str(i) for i in range(1,101)]\n"
   ]
  },
  {
   "cell_type": "code",
   "execution_count": 3,
   "metadata": {},
   "outputs": [
    {
     "name": "stderr",
     "output_type": "stream",
     "text": [
      "C:\\Users\\user\\Anaconda3\\lib\\site-packages\\pandas\\core\\frame.py:7123: FutureWarning: Sorting because non-concatenation axis is not aligned. A future version\n",
      "of pandas will change to not sort by default.\n",
      "\n",
      "To accept the future behavior, pass 'sort=False'.\n",
      "\n",
      "To retain the current behavior and silence the warning, pass 'sort=True'.\n",
      "\n",
      "  sort=sort,\n"
     ]
    }
   ],
   "source": [
    "count=0 \n",
    "\n",
    "for url in urllist: \n",
    "    response_new = requests.get(url)\n",
    "    \n",
    "    if count == 0: \n",
    "        df = pd.DataFrame(xmltodict.parse(response_new.text)['SearchResponse']['Products']['Product'])\n",
    "        df['Page'] = 1\n",
    "        count += 1 \n",
    "    \n",
    "    else: \n",
    "        df2 = pd.DataFrame(xmltodict.parse(response_new.text)['SearchResponse']['Products']['Product'])\n",
    "        df2['Page'] = count + 1 \n",
    "        df = df.append(df2)\n",
    "        count += 1 \n",
    "\n",
    "df = df.reset_index()"
   ]
  },
  {
   "cell_type": "code",
   "execution_count": 4,
   "metadata": {},
   "outputs": [
    {
     "data": {
      "text/plain": [
       "array(['Laptops', 'Chromebooks', 'Gaming Laptops', 'Apple MacBook Air',\n",
       "       '2 in 1 Laptops', 'Apple MacBook', 'Apple MacBook Pro'],\n",
       "      dtype=object)"
      ]
     },
     "execution_count": 4,
     "metadata": {},
     "output_type": "execute_result"
    }
   ],
   "source": [
    "cv = CountVectorizer(stop_words='english')\n",
    "catname = df['CategoryName'].unique()\n",
    "catname"
   ]
  },
  {
   "cell_type": "code",
   "execution_count": 5,
   "metadata": {
    "scrolled": true
   },
   "outputs": [
    {
     "name": "stdout",
     "output_type": "stream",
     "text": [
      "dict_keys(['Laptops', 'Chromebooks', 'Gaming Laptops', 'Apple MacBook Air', '2 in 1 Laptops', 'Apple MacBook', 'Apple MacBook Pro'])\n",
      "['gaming', 'ram', 'laptop', 'custom', 'intel', 'ssd', 'i7', 'nvidia', '9750h', 'rtx', 'pcie', '1tb', 'core', 'entertainment', 'hp', 'asus', '16gb', '2tb', 'omen', '32gb', 'hdd', 'sata', '64gb', 'gtx', '10', 'win', '512gb', '3xusb', '15', '2070', 'rog', 'ti', '1660', 'msi', '8gb', 'amd', 'ryzen', '8750h', '3750h', '15t', 'max', 'strix', '2080', 'i9', '2060', 'pro', 'home', '9880h', 'webcam', 'gigabyte', 'tuf', '17t', 'aorus', '256gb', 'dc100', 'iii', 'scar', 'g531gw', 'raid', '1650', 'gl731gt', '505du', '2s', 'zephyrus', '4tb', 'stealth', '2xusb', 'refurbished', 'i5', 'uhd', '17', 'gs75', '205', '620', 'raider', 'fx705dt', 'gx502gv', 'gl75', '9sdk', '057', 'certified', 'classic', 'aero', 'dell', 'tuf705du', 'kh74', 'lenovo', 'g6', '450', '8265u', 'probook', 'open', 'box', 'gp75', 'business', '9sd', '437', 'thinkpad', '2x1tb', 'geforce', 'black', 'fhd', 'win10', 'rgb', 'windows', 'ge63', 'gb', 'tuf705', '2x2tb', '2x512gb', 'alienware', 'acer', 'f74adp', '1xhdmi', 't490', 'ge75', '8665u', '1050', 'eurocom', 'ddr4', 'fx505', 'mobile', 'ge75287', '287', '128gb', 'creator', '48gb', '1080', '6tb', 'p75', '9300h', 'notebook', '24gb', 'sshd', 'g3', 'eng', '1920', 'xps', '802', '500gb', 'wa', '483', 'gs65', 'supercomputer', 'xa', 'x1', 'extreme', 'english', 'gx701', 'gx502gw', '1660ti', '1060', 'nitro', '3590', '64', '16', '4gb', 'workstation', 'optane', 'bit', '11a', 'predator', '8300h', '7590', 'super', 'wifi', '3tb', '9900k', 'set', '1050ti', '512', 'clx', 'hm', '1070', 'm17', 'ghz', '12gb', '51m', 'area', 'shadow', '3550h', '3x1tb', 'tornado', '3x2tb', '51', 'pavilion', 'x4c', 'inch', '40gb', 'fingerprint', 'g5', '7700hq', 'r2', 'quadro', 'touch', '144hz', 'tb', 'xeon', 'm15', 'x7c', '4k', 'hero', 'helios', 'en', '5tb', 'silver', '3x512gb', 'an515', 'lcd', 'gtx1060', '9570', '9700kf', '300', '480gb', 'zenbook', 'ci7', '8086k', 'aba', '9700k', '14', '11b', 'f5', '8700k', 'light', 'gen', '256', '500', 'legion', 'red', '6gb', 'hd', 'radeon', 'dc1000', 'qhd', 'duo', 'ii', 'display', 'sdram', '6inch', '8th', '32', 'manufacturer', 'oled', 'mdash', 'abl', 'gtx1070', 'ci5', 'razer', 'nvme', 'zbook', 'blade', 'x9c', 'pt515', '53', '13', 'grey', 'triton', '5590', 'ux581gv', 'titan', 'quad', 'abyss', 'gf75', 'vr', '250gb', '9980hk', '9900kf', '70', 'gl63', 'nightsky', 'nh', 'g7', 'ready', '6820hk', '9sc', '9750', 'gt75', 'win10home', 'hybrid', 'graphics', 'l340', '128', 'f7w', 'hexa', 'superlaptop', 'ideapad', '71z5', '7300hq', '75l8', '278', '3gb', '039ca', '9tk', '071ca', '6ghz', '52', '9700f', '7790', '1270v5', '20', '8rc', '8rf', '4bq88ua', '8se', '43', '8sg', '2x', '8565u', '15irh', '2186g', '2176m', '4bq16ua', '8rg', '001', 'aluminum', 'gtx1650', 'ws65', 'gtx1050', 'ph315', 'deep', 'win10pro', 'we65', 'w10', 'vivobook', 'ultra', 'touchscreen', 'space', 'slim', 'rx560x', 'rx17', 'g731gv', 'g7790', 'gddr5', 'ws75', 'we75', 'gx501', 'monster', 'aspire', 'ips', 'gtx960', 'p3200', 'cb', 'mx250', 'lighting', '2727slv', 'q72s', '2ghz', 'q72sp', '284ca', 'r2mg', '277ca', '3ci7', '2666', '256ssd', '426ca', '256gb1tb', 'r3', 'raid0', '432ca', 'ramgtx', '2500u', 'q4waa', 'q2yaa', 'nb', 'q3faa', 'p5200', '3inch', 'p6204gb', '3ms', 'p65', 'pb74', '32g', 'ph317', '240gb', '30', 'ordi', 'ph517', 'online', 'nx', 'prestige', '2x500gb', 'non', 'ps42', 'p4200', 'retail', 'rtx2070', '223ca', 'rs51', 'wp65', '11ac', '1080p', 'xb71t', 'xb74', '10510u', 'xb78k', 'y520', 'y540', '0tb512g', '0tb256gb', '098ca', '096ca', '081ca', 'y7000', 'y720', 'y740', '036ca', '024ca', '018ca', '014ca', '005', '003', '12', '120gb', '1228ca', 'screen', 'rs71', '2176g', '216ca', 'rtx206016gb', 'manufacture', 'rx', 'rx15', '202ca', 's7120174', '1920x1080', '18', 'windows10', 'series', '17ichg', 'sky', 'spp', 'stealh', 'ti15', '15ikbn', 'ux550ge', 'w10h', '128gb1tbblack', '448ca', 'jeu', '467ca', 'dominator', 'ddr', 'dg0000', '8re', 'dg0010nr', '8ra', 'dk0020nr', '899ca', '8950hk', '8850h', '8750h12gb', 'dk0030nr', 'edition', 'dd', 'epic', '8550u', 'fx504gd', 'fx505gt', '8250u', '81sx0005us', '81lk000pus', '81hh0037us', '80wk001lus', 'fx705gm', 'g701vi', '8sf', 'dc1040nr', '79e8', 'ca', 'an715', 'a10rb', '9tl', 'aw17r4', '9tj', '9th', '9sfk', '9sf', '9se', 'bi5n7', 'bi7n9', 'cd0010nr', 'dc1030nr', 'cd0020nr', 'cd0030nr', 'chroma', 'cnc', 'cx0010ca', 'db71', 'zephrus', '9700', '960gb', 'dc1020nr', '9400f', '7rf', 'g703gx', 'm4000m', '512gv', 'gp63', 'gpfaa', 'gt', '616ca', 'gt72s', '59qp', '560x', 'gt83', '522l', '520', 'gtx1080', '512gssd', '6700', 'gtx1660ti', '512g', 'gu502gu', '500gbssd', 'hdd256ssd', 'hm370', 'intelcore', 'iv', 'an517', 'leopard', 'm3000m', '655ca', '6700hq', '7746', '6th', '7700k', 'g731gu', '762q', '75rt', '752b', '73z5', '72rg', '72ev', '7200rpm', 'gddr6', 'ge73vr', 'geforcegtx', '6700k', '6qz97ua', '6qz96ua', '6qz95ua', '6qx97ua', '6qx96ua', 'gf', '6in', 'gf63', 'gl531gw', '699ca', 'gl703ge', 'dc1010nr']\n"
     ]
    }
   ],
   "source": [
    "keyword = {} \n",
    "\n",
    "for i in range (0, len(catname)):\n",
    "    dat = df.loc[df['CategoryName']==catname[i]]['SeoText']\n",
    "    wordcount = cv.fit_transform(dat).toarray()\n",
    "    wordcount = pd.DataFrame(wordcount, columns=cv.get_feature_names())\n",
    "    wordlist = wordcount.sum(axis=0).sort_values(ascending=False).index.tolist()\n",
    "    \n",
    "    keyword[catname[i]] = wordlist\n",
    "\n",
    "print(keyword.keys())\n",
    "print(keyword[catname[2]])\n"
   ]
  },
  {
   "cell_type": "markdown",
   "metadata": {},
   "source": [
    "## Seller Extraction"
   ]
  },
  {
   "cell_type": "code",
   "execution_count": 6,
   "metadata": {
    "scrolled": true
   },
   "outputs": [
    {
     "data": {
      "text/plain": [
       "{'Microcad Computer Corporation': 60,\n",
       " 'TVOUTLET': 33,\n",
       " 'Best Buy Business': 263,\n",
       " 'SaveOnMacs': 36,\n",
       " 'Olde Time Mac': 36,\n",
       " 'NetTradez': 503,\n",
       " 'ORION COMPUTER AND ELECTRONICS': 12,\n",
       " 'PRO Open Box': 215,\n",
       " 'THE PC ROOM': 98,\n",
       " 'Electronics_Canada': 18,\n",
       " 'DCR': 163,\n",
       " 'Certified Refurbisher': 34,\n",
       " 'CDI Computer Dealers Inc.': 334,\n",
       " 'ALC Micro': 34,\n",
       " 'OEM': 37,\n",
       " 'Wireless Experts, Inc.': 2,\n",
       " 'Canada Wholesale': 10,\n",
       " 'Aero Malls Inc.': 26,\n",
       " 'IGO Electronics': 85,\n",
       " 'DirectEASYBUY': 83,\n",
       " 'Mike’s Computer Shop': 345,\n",
       " 'AlwaysTech': 14,\n",
       " 'TSC Deals': 18,\n",
       " 'Mega PC Mall': 2,\n",
       " 'OpenBox': 13,\n",
       " 'CPR upper beeches toronto': 2,\n",
       " 'RefurbIT': 40,\n",
       " 'MCI ONLINE': 37,\n",
       " 'MFG DIRECT ELECTRONICS': 9,\n",
       " 'TecnoCanada': 16,\n",
       " 'Canadian Outlet': 14,\n",
       " 'Tecnodeals': 108,\n",
       " 'Computer Depot': 41,\n",
       " 'QR Computers': 18,\n",
       " 'Advanced Skyline Technology Ltd.': 70,\n",
       " 'ACM Électronique': 17,\n",
       " 'Techdealz': 8,\n",
       " 'SIPL Online': 30,\n",
       " 'OneDealOutlet Canada': 182,\n",
       " 'Lenovo Canada': 66,\n",
       " 'Exooto Media': 13,\n",
       " 'Advanced Computers': 139,\n",
       " 'Square PC': 247,\n",
       " 'Deal Targets': 282,\n",
       " 'VLCanada': 2,\n",
       " 'Newseed': 4,\n",
       " 'CELL4LESS': 5,\n",
       " 'UNIWAY': 10,\n",
       " 'X-Dynamic Systems': 17,\n",
       " 'MichaelElectronics2': 5063,\n",
       " 'TWI Store': 31,\n",
       " 'BidDeal': 24,\n",
       " 'Nem Distribution': 11,\n",
       " 'Laptopking': 2,\n",
       " 'Etech': 3,\n",
       " 'TeleasyOnline': 23,\n",
       " 'iSanek': 120,\n",
       " 'COMPUPOINT INC.': 50,\n",
       " 'CTSMAR': 3,\n",
       " 'Vancouver Electronic Depot': 13,\n",
       " 'BigOnDeals': 20,\n",
       " 'DealWiz': 19,\n",
       " 'TechSavings': 29,\n",
       " 'Eurocom Corporation': 34,\n",
       " 'CFI eStore': 3,\n",
       " 'Experimax': 14,\n",
       " 'Vertex Nano Technology': 9,\n",
       " 'Outdoor Laptops': 22,\n",
       " 'Compute4Less Corp': 4,\n",
       " 'Wintronic Computers Plus': 30,\n",
       " 'Canadian Electronics': 7,\n",
       " 'TECDATA ENGINEERS': 3,\n",
       " 'Best Tech Canada': 3,\n",
       " 'COMPACCESSORIES': 3,\n",
       " 'RUGGEDBOOKS Inc.': 26,\n",
       " 'Deals Next Door': 2,\n",
       " 'ITFactory': 3,\n",
       " 'Quick Tech': 4,\n",
       " 'TTWILI': 5,\n",
       " 'TechGenius': 16,\n",
       " 'Dr. Liquidator': 2,\n",
       " 'Fast Distribution': 2,\n",
       " 'Dealfactor Canada': 8,\n",
       " 'Refurbanana': 2,\n",
       " None: 2,\n",
       " 'EXPERTPRO': 12,\n",
       " 'Conquest Distributors': 2,\n",
       " 'Canada cellular': 6,\n",
       " 'Urban Inspirations': 2,\n",
       " 'YY Page': 2,\n",
       " '123wowdeals': 6,\n",
       " 'TiGuyCo Plus': 2,\n",
       " 'Sunterra Equipment Inc': 16,\n",
       " 'Datamatrix': 4,\n",
       " 'DigitalShopper': 8,\n",
       " 'ULTIMAXX CANADA': 4,\n",
       " 'CLX Gaming': 13,\n",
       " 'Micropeer': 2,\n",
       " 'Cellular Tech': 2,\n",
       " 'Techville': 2,\n",
       " 'GADGET HOUSE': 2,\n",
       " 'ERA': 3,\n",
       " 'SABJOL': 2,\n",
       " 'Brands World': 2,\n",
       " 'Simple Boutique': 2}"
      ]
     },
     "execution_count": 6,
     "metadata": {},
     "output_type": "execute_result"
    }
   ],
   "source": [
    "notBB = df[~df['Seller'].isnull()]\n",
    "BB = df[df['Seller'].isnull()]\n",
    "\n",
    "seller = [notBB['Seller'].iloc[i].get('Name') for i in range(0,len(notBB))]\n",
    "sellunique =[] \n",
    "numsell = {} \n",
    "\n",
    "for x in seller: \n",
    "    if x not in sellunique: \n",
    "        sellunique.append(x)\n",
    "        numsell[x] = 1\n",
    "    if x in sellunique: \n",
    "        numsell[x] += 1 \n",
    "\n",
    "sellunique\n",
    "numsell"
   ]
  },
  {
   "cell_type": "markdown",
   "metadata": {},
   "source": [
    "## Description Score"
   ]
  },
  {
   "cell_type": "code",
   "execution_count": 10,
   "metadata": {},
   "outputs": [
    {
     "name": "stdout",
     "output_type": "stream",
     "text": [
      "48.16562665256478\n",
      "51.14862385321101\n"
     ]
    }
   ],
   "source": [
    "desclen = [len(notBB['ShortDescription'].iloc[i].split()) for i in range(0,len(notBB))]\n",
    "uniqlen = [len(set(notBB['ShortDescription'].iloc[i].split())) for i in range(0,len(notBB))]\n",
    "\n",
    "BBlen = [len((BB['ShortDescription'].iloc[i].split())) for i in range(0,len(BB))]\n",
    "BBuniqlen = [len(set(BB['ShortDescription'].iloc[i].split())) for i in range(0,len(BB))]\n",
    "print(mean(uniqlen))\n",
    "print(mean(BBuniqlen))"
   ]
  },
  {
   "cell_type": "code",
   "execution_count": 11,
   "metadata": {},
   "outputs": [],
   "source": [
    "numworddiff = [i/mean(BBlen) for i in desclen]"
   ]
  },
  {
   "cell_type": "code",
   "execution_count": 12,
   "metadata": {},
   "outputs": [
    {
     "data": {
      "text/plain": [
       "hd       9448\n",
       "10       8097\n",
       "intel    7057\n",
       "ram      6911\n",
       "ssd      6668\n",
       "dtype: int64"
      ]
     },
     "execution_count": 12,
     "metadata": {},
     "output_type": "execute_result"
    }
   ],
   "source": [
    "shortdesc = notBB['ShortDescription']\n",
    "wordcount = cv.fit_transform(shortdesc).toarray()\n",
    "wordcount = pd.DataFrame(wordcount, columns=cv.get_feature_names())\n",
    "wordlist = wordcount.sum(axis=0).sort_values(ascending=False).index.tolist()\n",
    "wordcount.sum(axis=0).sort_values(ascending=False)[0:5]"
   ]
  },
  {
   "cell_type": "code",
   "execution_count": 13,
   "metadata": {},
   "outputs": [
    {
     "data": {
      "text/plain": [
       "laptop       586\n",
       "strong       470\n",
       "processor    426\n",
       "core         389\n",
       "ram          383\n",
       "dtype: int64"
      ]
     },
     "execution_count": 13,
     "metadata": {},
     "output_type": "execute_result"
    }
   ],
   "source": [
    "BBshortdesc = BB['ShortDescription']\n",
    "BBwordcount = cv.fit_transform(BBshortdesc).toarray()\n",
    "BBwordcount = pd.DataFrame(BBwordcount, columns=cv.get_feature_names())\n",
    "BBwordlist = BBwordcount.sum(axis=0).sort_values(ascending=False).index.tolist()\n",
    "BBwordcount.sum(axis=0).sort_values(ascending=False)[0:5]"
   ]
  },
  {
   "cell_type": "code",
   "execution_count": 14,
   "metadata": {},
   "outputs": [],
   "source": [
    "wordinlist = [[j for j in notBB['ShortDescription'].iloc[i].split() \n",
    "               if j in BBwordlist] \n",
    "              for i in range(0,len(notBB))]\n",
    "\n",
    "BBinlist = [len([j for j in BB['ShortDescription'].iloc[i].split() \n",
    "                 if j in BBwordlist]) \n",
    "            for i in range(0,len(BB))]\n",
    "\n",
    "propinlist = [len(wordinlist[i])/uniqlen[i]\n",
    "              for i in range(0,len(wordinlist))]"
   ]
  },
  {
   "cell_type": "code",
   "execution_count": 15,
   "metadata": {},
   "outputs": [
    {
     "name": "stderr",
     "output_type": "stream",
     "text": [
      "C:\\Users\\user\\Anaconda3\\lib\\site-packages\\ipykernel_launcher.py:1: SettingWithCopyWarning: \n",
      "A value is trying to be set on a copy of a slice from a DataFrame.\n",
      "Try using .loc[row_indexer,col_indexer] = value instead\n",
      "\n",
      "See the caveats in the documentation: http://pandas.pydata.org/pandas-docs/stable/user_guide/indexing.html#returning-a-view-versus-a-copy\n",
      "  \"\"\"Entry point for launching an IPython kernel.\n",
      "C:\\Users\\user\\Anaconda3\\lib\\site-packages\\ipykernel_launcher.py:4: SettingWithCopyWarning: \n",
      "A value is trying to be set on a copy of a slice from a DataFrame.\n",
      "Try using .loc[row_indexer,col_indexer] = value instead\n",
      "\n",
      "See the caveats in the documentation: http://pandas.pydata.org/pandas-docs/stable/user_guide/indexing.html#returning-a-view-versus-a-copy\n",
      "  after removing the cwd from sys.path.\n",
      "C:\\Users\\user\\Anaconda3\\lib\\site-packages\\ipykernel_launcher.py:6: SettingWithCopyWarning: \n",
      "A value is trying to be set on a copy of a slice from a DataFrame.\n",
      "Try using .loc[row_indexer,col_indexer] = value instead\n",
      "\n",
      "See the caveats in the documentation: http://pandas.pydata.org/pandas-docs/stable/user_guide/indexing.html#returning-a-view-versus-a-copy\n",
      "  \n",
      "C:\\Users\\user\\Anaconda3\\lib\\site-packages\\ipykernel_launcher.py:7: SettingWithCopyWarning: \n",
      "A value is trying to be set on a copy of a slice from a DataFrame.\n",
      "Try using .loc[row_indexer,col_indexer] = value instead\n",
      "\n",
      "See the caveats in the documentation: http://pandas.pydata.org/pandas-docs/stable/user_guide/indexing.html#returning-a-view-versus-a-copy\n",
      "  import sys\n"
     ]
    }
   ],
   "source": [
    "notBB['sellername'] = seller\n",
    "#notBB['length'] = desclen\n",
    "#notBB['uniquelength'] = uniqlen\n",
    "notBB['proportionlength'] = numworddiff\n",
    "#notBB['wordsinlist'] = wordinlist\n",
    "notBB['proportioninlist'] = propinlist\n",
    "notBB['descrscore'] = (notBB['proportionlength'] + notBB['proportioninlist'])/2"
   ]
  },
  {
   "cell_type": "markdown",
   "metadata": {},
   "source": [
    "## Title Score"
   ]
  },
  {
   "cell_type": "code",
   "execution_count": 16,
   "metadata": {},
   "outputs": [
    {
     "name": "stdout",
     "output_type": "stream",
     "text": [
      "18.896245372818615\n",
      "14.906422018348623\n"
     ]
    }
   ],
   "source": [
    "titlen = [len((notBB['Name'].iloc[i].split())) for i in range(0,len(notBB))]\n",
    "BBtitlen = [len((BB['Name'].iloc[i].split())) for i in range(0,len(BB))]\n",
    "\n",
    "tituniqlen = [len(set(notBB['Name'].iloc[i].split())) for i in range(0,len(notBB))]\n",
    "BBtituniqlen = [len(set(BB['Name'].iloc[i].split())) for i in range(0,len(BB))]\n",
    "titlediff = [max(0,min(min(2-i/mean(BBtitlen),1),i/mean(BBtitlen))) for i in titlen]\n",
    "\n",
    "print(mean(titlen))\n",
    "print(mean(BBtitlen))"
   ]
  },
  {
   "cell_type": "code",
   "execution_count": 17,
   "metadata": {},
   "outputs": [
    {
     "data": {
      "text/plain": [
       "ram       7487\n",
       "laptop    6401\n",
       "intel     6299\n",
       "ssd       6279\n",
       "custom    5061\n",
       "dtype: int64"
      ]
     },
     "execution_count": 17,
     "metadata": {},
     "output_type": "execute_result"
    }
   ],
   "source": [
    "title = notBB['Name']\n",
    "titlecount = cv.fit_transform(title).toarray()\n",
    "titlecount = pd.DataFrame(titlecount, columns=cv.get_feature_names())\n",
    "titlelist = titlecount.sum(axis=0).sort_values(ascending=False).index.tolist()\n",
    "titlecount.sum(axis=0).sort_values(ascending=False)[0:5]"
   ]
  },
  {
   "cell_type": "code",
   "execution_count": 18,
   "metadata": {},
   "outputs": [
    {
     "data": {
      "text/plain": [
       "ram       541\n",
       "intel     450\n",
       "laptop    438\n",
       "ssd       402\n",
       "core      399\n",
       "dtype: int64"
      ]
     },
     "execution_count": 18,
     "metadata": {},
     "output_type": "execute_result"
    }
   ],
   "source": [
    "BBtitle = BB['Name']\n",
    "BBtitlecount = cv.fit_transform(BBtitle).toarray()\n",
    "BBtitlecount = pd.DataFrame(BBtitlecount, columns=cv.get_feature_names())\n",
    "BBtitlelist = BBtitlecount.sum(axis=0).sort_values(ascending=False).index.tolist()\n",
    "BBtitlecount.sum(axis=0).sort_values(ascending=False)[0:5]"
   ]
  },
  {
   "cell_type": "code",
   "execution_count": 19,
   "metadata": {},
   "outputs": [],
   "source": [
    "titleinlist = [[j for j in notBB['Name'].iloc[i].split() \n",
    "               if j.lower() in keyword[notBB['CategoryName'].iloc[i]]] \n",
    "               for i in range(0,len(notBB))]\n",
    "\n",
    "BBtitleinlist = [len([j for j in BB['Name'].iloc[i].split() \n",
    "                      if j.lower() in keyword[notBB['CategoryName'].iloc[i]]]) \n",
    "                 for i in range(0,len(BB))]\n",
    "\n",
    "proptitleinlist = [len(titleinlist[i])/tituniqlen[i] \n",
    "                   for i in range(0,len(wordinlist))]\n",
    "\n",
    "#proptitleinlist = [len(titleinlist[i])/tituniqlen[i] * (mean(BBtitleinlist)/mean(BBtituniqlen)) for i in range(0,len(wordinlist))]"
   ]
  },
  {
   "cell_type": "code",
   "execution_count": 20,
   "metadata": {},
   "outputs": [
    {
     "name": "stderr",
     "output_type": "stream",
     "text": [
      "C:\\Users\\user\\Anaconda3\\lib\\site-packages\\ipykernel_launcher.py:2: SettingWithCopyWarning: \n",
      "A value is trying to be set on a copy of a slice from a DataFrame.\n",
      "Try using .loc[row_indexer,col_indexer] = value instead\n",
      "\n",
      "See the caveats in the documentation: http://pandas.pydata.org/pandas-docs/stable/user_guide/indexing.html#returning-a-view-versus-a-copy\n",
      "  \n",
      "C:\\Users\\user\\Anaconda3\\lib\\site-packages\\ipykernel_launcher.py:4: SettingWithCopyWarning: \n",
      "A value is trying to be set on a copy of a slice from a DataFrame.\n",
      "Try using .loc[row_indexer,col_indexer] = value instead\n",
      "\n",
      "See the caveats in the documentation: http://pandas.pydata.org/pandas-docs/stable/user_guide/indexing.html#returning-a-view-versus-a-copy\n",
      "  after removing the cwd from sys.path.\n",
      "C:\\Users\\user\\Anaconda3\\lib\\site-packages\\ipykernel_launcher.py:5: SettingWithCopyWarning: \n",
      "A value is trying to be set on a copy of a slice from a DataFrame.\n",
      "Try using .loc[row_indexer,col_indexer] = value instead\n",
      "\n",
      "See the caveats in the documentation: http://pandas.pydata.org/pandas-docs/stable/user_guide/indexing.html#returning-a-view-versus-a-copy\n",
      "  \"\"\"\n"
     ]
    }
   ],
   "source": [
    "#notBB['titlelength'] = titlen\n",
    "notBB['proportiontitle'] = titlediff\n",
    "#notBB['titleinlist'] = titleinlist\n",
    "notBB['proptitleinlist'] = proptitleinlist\n",
    "notBB['titlescore'] = (notBB['proportiontitle'] + notBB['proptitleinlist'])/2"
   ]
  },
  {
   "cell_type": "code",
   "execution_count": 21,
   "metadata": {},
   "outputs": [
    {
     "data": {
      "text/html": [
       "<div>\n",
       "<style scoped>\n",
       "    .dataframe tbody tr th:only-of-type {\n",
       "        vertical-align: middle;\n",
       "    }\n",
       "\n",
       "    .dataframe tbody tr th {\n",
       "        vertical-align: top;\n",
       "    }\n",
       "\n",
       "    .dataframe thead th {\n",
       "        text-align: right;\n",
       "    }\n",
       "</style>\n",
       "<table border=\"1\" class=\"dataframe\">\n",
       "  <thead>\n",
       "    <tr style=\"text-align: right;\">\n",
       "      <th></th>\n",
       "      <th>index</th>\n",
       "      <th>CategoryName</th>\n",
       "      <th>CustomerRating</th>\n",
       "      <th>CustomerRatingCount</th>\n",
       "      <th>CustomerReviewCount</th>\n",
       "      <th>DisplayEndDateTime</th>\n",
       "      <th>DisplayStartDateTime</th>\n",
       "      <th>Ehf</th>\n",
       "      <th>HasFrenchContent</th>\n",
       "      <th>HasPromotion</th>\n",
       "      <th>...</th>\n",
       "      <th>ThumbnailImage</th>\n",
       "      <th>highResImage</th>\n",
       "      <th>isVisible</th>\n",
       "      <th>sellername</th>\n",
       "      <th>proportionlength</th>\n",
       "      <th>proportioninlist</th>\n",
       "      <th>descrscore</th>\n",
       "      <th>proportiontitle</th>\n",
       "      <th>proptitleinlist</th>\n",
       "      <th>titlescore</th>\n",
       "    </tr>\n",
       "  </thead>\n",
       "  <tbody>\n",
       "    <tr>\n",
       "      <td>18</td>\n",
       "      <td>18</td>\n",
       "      <td>Laptops</td>\n",
       "      <td>4</td>\n",
       "      <td>3</td>\n",
       "      <td>3</td>\n",
       "      <td>{'@xsi:nil': 'true'}</td>\n",
       "      <td>{'@xsi:nil': 'true'}</td>\n",
       "      <td>0</td>\n",
       "      <td>false</td>\n",
       "      <td>true</td>\n",
       "      <td>...</td>\n",
       "      <td>https://multimedia.bbycastatic.ca/multimedia/p...</td>\n",
       "      <td>https://multimedia.bbycastatic.ca/multimedia/p...</td>\n",
       "      <td>true</td>\n",
       "      <td>Microcad Computer Corporation</td>\n",
       "      <td>0.209119</td>\n",
       "      <td>0.000000</td>\n",
       "      <td>0.104560</td>\n",
       "      <td>0.524126</td>\n",
       "      <td>0.833333</td>\n",
       "      <td>0.678730</td>\n",
       "    </tr>\n",
       "    <tr>\n",
       "      <td>26</td>\n",
       "      <td>26</td>\n",
       "      <td>Chromebooks</td>\n",
       "      <td>0</td>\n",
       "      <td>0</td>\n",
       "      <td>0</td>\n",
       "      <td>{'@xsi:nil': 'true'}</td>\n",
       "      <td>{'@xsi:nil': 'true'}</td>\n",
       "      <td>0</td>\n",
       "      <td>false</td>\n",
       "      <td>true</td>\n",
       "      <td>...</td>\n",
       "      <td>https://multimedia.bbycastatic.ca/multimedia/p...</td>\n",
       "      <td>https://multimedia.bbycastatic.ca/multimedia/p...</td>\n",
       "      <td>true</td>\n",
       "      <td>Microcad Computer Corporation</td>\n",
       "      <td>0.400812</td>\n",
       "      <td>0.086957</td>\n",
       "      <td>0.243884</td>\n",
       "      <td>0.725382</td>\n",
       "      <td>0.526316</td>\n",
       "      <td>0.625849</td>\n",
       "    </tr>\n",
       "    <tr>\n",
       "      <td>29</td>\n",
       "      <td>29</td>\n",
       "      <td>Chromebooks</td>\n",
       "      <td>0</td>\n",
       "      <td>0</td>\n",
       "      <td>0</td>\n",
       "      <td>{'@xsi:nil': 'true'}</td>\n",
       "      <td>{'@xsi:nil': 'true'}</td>\n",
       "      <td>0</td>\n",
       "      <td>false</td>\n",
       "      <td>true</td>\n",
       "      <td>...</td>\n",
       "      <td>https://multimedia.bbycastatic.ca/multimedia/p...</td>\n",
       "      <td>https://multimedia.bbycastatic.ca/multimedia/p...</td>\n",
       "      <td>true</td>\n",
       "      <td>Microcad Computer Corporation</td>\n",
       "      <td>0.505372</td>\n",
       "      <td>0.000000</td>\n",
       "      <td>0.252686</td>\n",
       "      <td>0.658296</td>\n",
       "      <td>0.550000</td>\n",
       "      <td>0.604148</td>\n",
       "    </tr>\n",
       "    <tr>\n",
       "      <td>35</td>\n",
       "      <td>35</td>\n",
       "      <td>Apple MacBook Pro</td>\n",
       "      <td>0</td>\n",
       "      <td>0</td>\n",
       "      <td>0</td>\n",
       "      <td>{'@xsi:nil': 'true'}</td>\n",
       "      <td>{'@xsi:nil': 'true'}</td>\n",
       "      <td>0</td>\n",
       "      <td>false</td>\n",
       "      <td>true</td>\n",
       "      <td>...</td>\n",
       "      <td>https://multimedia.bbycastatic.ca/multimedia/p...</td>\n",
       "      <td>https://multimedia.bbycastatic.ca/multimedia/p...</td>\n",
       "      <td>true</td>\n",
       "      <td>TVOUTLET</td>\n",
       "      <td>0.975891</td>\n",
       "      <td>0.204082</td>\n",
       "      <td>0.589986</td>\n",
       "      <td>0.524126</td>\n",
       "      <td>0.500000</td>\n",
       "      <td>0.512063</td>\n",
       "    </tr>\n",
       "    <tr>\n",
       "      <td>42</td>\n",
       "      <td>42</td>\n",
       "      <td>Laptops</td>\n",
       "      <td>2</td>\n",
       "      <td>1</td>\n",
       "      <td>1</td>\n",
       "      <td>{'@xsi:nil': 'true'}</td>\n",
       "      <td>{'@xsi:nil': 'true'}</td>\n",
       "      <td>0</td>\n",
       "      <td>false</td>\n",
       "      <td>true</td>\n",
       "      <td>...</td>\n",
       "      <td>https://multimedia.bbycastatic.ca/multimedia/p...</td>\n",
       "      <td>https://multimedia.bbycastatic.ca/multimedia/p...</td>\n",
       "      <td>true</td>\n",
       "      <td>Microcad Computer Corporation</td>\n",
       "      <td>0.714491</td>\n",
       "      <td>0.184211</td>\n",
       "      <td>0.449351</td>\n",
       "      <td>0.524126</td>\n",
       "      <td>0.681818</td>\n",
       "      <td>0.602972</td>\n",
       "    </tr>\n",
       "  </tbody>\n",
       "</table>\n",
       "<p>5 rows × 42 columns</p>\n",
       "</div>"
      ],
      "text/plain": [
       "    index       CategoryName CustomerRating CustomerRatingCount  \\\n",
       "18     18            Laptops              4                   3   \n",
       "26     26        Chromebooks              0                   0   \n",
       "29     29        Chromebooks              0                   0   \n",
       "35     35  Apple MacBook Pro              0                   0   \n",
       "42     42            Laptops              2                   1   \n",
       "\n",
       "   CustomerReviewCount    DisplayEndDateTime  DisplayStartDateTime Ehf  \\\n",
       "18                   3  {'@xsi:nil': 'true'}  {'@xsi:nil': 'true'}   0   \n",
       "26                   0  {'@xsi:nil': 'true'}  {'@xsi:nil': 'true'}   0   \n",
       "29                   0  {'@xsi:nil': 'true'}  {'@xsi:nil': 'true'}   0   \n",
       "35                   0  {'@xsi:nil': 'true'}  {'@xsi:nil': 'true'}   0   \n",
       "42                   1  {'@xsi:nil': 'true'}  {'@xsi:nil': 'true'}   0   \n",
       "\n",
       "   HasFrenchContent HasPromotion  ...  \\\n",
       "18            false         true  ...   \n",
       "26            false         true  ...   \n",
       "29            false         true  ...   \n",
       "35            false         true  ...   \n",
       "42            false         true  ...   \n",
       "\n",
       "                                       ThumbnailImage  \\\n",
       "18  https://multimedia.bbycastatic.ca/multimedia/p...   \n",
       "26  https://multimedia.bbycastatic.ca/multimedia/p...   \n",
       "29  https://multimedia.bbycastatic.ca/multimedia/p...   \n",
       "35  https://multimedia.bbycastatic.ca/multimedia/p...   \n",
       "42  https://multimedia.bbycastatic.ca/multimedia/p...   \n",
       "\n",
       "                                         highResImage isVisible  \\\n",
       "18  https://multimedia.bbycastatic.ca/multimedia/p...      true   \n",
       "26  https://multimedia.bbycastatic.ca/multimedia/p...      true   \n",
       "29  https://multimedia.bbycastatic.ca/multimedia/p...      true   \n",
       "35  https://multimedia.bbycastatic.ca/multimedia/p...      true   \n",
       "42  https://multimedia.bbycastatic.ca/multimedia/p...      true   \n",
       "\n",
       "                       sellername proportionlength proportioninlist  \\\n",
       "18  Microcad Computer Corporation         0.209119         0.000000   \n",
       "26  Microcad Computer Corporation         0.400812         0.086957   \n",
       "29  Microcad Computer Corporation         0.505372         0.000000   \n",
       "35                       TVOUTLET         0.975891         0.204082   \n",
       "42  Microcad Computer Corporation         0.714491         0.184211   \n",
       "\n",
       "   descrscore proportiontitle proptitleinlist titlescore  \n",
       "18   0.104560        0.524126        0.833333   0.678730  \n",
       "26   0.243884        0.725382        0.526316   0.625849  \n",
       "29   0.252686        0.658296        0.550000   0.604148  \n",
       "35   0.589986        0.524126        0.500000   0.512063  \n",
       "42   0.449351        0.524126        0.681818   0.602972  \n",
       "\n",
       "[5 rows x 42 columns]"
      ]
     },
     "execution_count": 21,
     "metadata": {},
     "output_type": "execute_result"
    }
   ],
   "source": [
    "notBB.head()"
   ]
  },
  {
   "cell_type": "markdown",
   "metadata": {},
   "source": [
    "## Image"
   ]
  },
  {
   "cell_type": "code",
   "execution_count": 22,
   "metadata": {
    "scrolled": false
   },
   "outputs": [
    {
     "name": "stderr",
     "output_type": "stream",
     "text": [
      "C:\\Users\\user\\Anaconda3\\lib\\site-packages\\ipykernel_launcher.py:1: SettingWithCopyWarning: \n",
      "A value is trying to be set on a copy of a slice from a DataFrame.\n",
      "Try using .loc[row_indexer,col_indexer] = value instead\n",
      "\n",
      "See the caveats in the documentation: http://pandas.pydata.org/pandas-docs/stable/user_guide/indexing.html#returning-a-view-versus-a-copy\n",
      "  \"\"\"Entry point for launching an IPython kernel.\n",
      "C:\\Users\\user\\Anaconda3\\lib\\site-packages\\pandas\\core\\indexing.py:205: SettingWithCopyWarning: \n",
      "A value is trying to be set on a copy of a slice from a DataFrame\n",
      "\n",
      "See the caveats in the documentation: http://pandas.pydata.org/pandas-docs/stable/user_guide/indexing.html#returning-a-view-versus-a-copy\n",
      "  self._setitem_with_indexer(indexer, value)\n",
      "C:\\Users\\user\\Anaconda3\\lib\\site-packages\\ipykernel_launcher.py:5: SettingWithCopyWarning: \n",
      "A value is trying to be set on a copy of a slice from a DataFrame\n",
      "\n",
      "See the caveats in the documentation: http://pandas.pydata.org/pandas-docs/stable/user_guide/indexing.html#returning-a-view-versus-a-copy\n",
      "  \"\"\"\n"
     ]
    },
    {
     "data": {
      "text/plain": [
       "18    1\n",
       "26    1\n",
       "29    1\n",
       "35    1\n",
       "42    1\n",
       "Name: imgscore, dtype: int64"
      ]
     },
     "execution_count": 22,
     "metadata": {},
     "output_type": "execute_result"
    }
   ],
   "source": [
    "notBB['imgscore'] = 0 \n",
    "\n",
    "for i in range(0,notBB.shape[0]):\n",
    "    if notBB.highResImage.iloc[i] != np.nan: \n",
    "        notBB.imgscore.iloc[i] = 1 \n",
    "    elif notBB.ThumbnailImage.iloc[i] != np.nan: \n",
    "        notBB.imgscore.iloc[i] = 0.5 \n",
    "    else:\n",
    "        notBB.imgscore.iloc[i] = 0 \n",
    "\n",
    "notBB['imgscore'].head()"
   ]
  },
  {
   "cell_type": "markdown",
   "metadata": {},
   "source": [
    "## What's in the Box & Warranty"
   ]
  },
  {
   "cell_type": "code",
   "execution_count": 23,
   "metadata": {},
   "outputs": [],
   "source": [
    "product = pd.read_csv('product_wib.csv')\n",
    "product2 = product[['Name','HasWarranty','WhatsInTheBox']]"
   ]
  },
  {
   "cell_type": "code",
   "execution_count": 24,
   "metadata": {},
   "outputs": [
    {
     "data": {
      "text/plain": [
       "(376, 45)"
      ]
     },
     "execution_count": 24,
     "metadata": {},
     "output_type": "execute_result"
    }
   ],
   "source": [
    "merged = notBB.merge(product2, on='Name')\n",
    "merged.shape"
   ]
  },
  {
   "cell_type": "code",
   "execution_count": 25,
   "metadata": {},
   "outputs": [
    {
     "data": {
      "text/plain": [
       "0      0\n",
       "1      0\n",
       "2      0\n",
       "3      0\n",
       "4      0\n",
       "      ..\n",
       "371    0\n",
       "372    0\n",
       "373    0\n",
       "374    0\n",
       "375    0\n",
       "Name: warrantyscore, Length: 376, dtype: int64"
      ]
     },
     "execution_count": 25,
     "metadata": {},
     "output_type": "execute_result"
    }
   ],
   "source": [
    "merged['warrantyscore'] = 0 \n",
    "\n",
    "for i in range(0,merged.shape[0]):\n",
    "    if merged.HasWarranty.iloc[i] ==True: \n",
    "        merged.warrantyscore.iloc[i] = 1 \n",
    "\n",
    "merged['warrantyscore']"
   ]
  },
  {
   "cell_type": "code",
   "execution_count": 26,
   "metadata": {},
   "outputs": [
    {
     "data": {
      "text/plain": [
       "0      1\n",
       "1      1\n",
       "2      1\n",
       "3      1\n",
       "4      1\n",
       "      ..\n",
       "371    1\n",
       "372    1\n",
       "373    1\n",
       "374    1\n",
       "375    1\n",
       "Name: inboxscore, Length: 376, dtype: int64"
      ]
     },
     "execution_count": 26,
     "metadata": {},
     "output_type": "execute_result"
    }
   ],
   "source": [
    "merged['inboxscore'] = 0 \n",
    "\n",
    "for i in range(0,merged.shape[0]):\n",
    "    if merged.WhatsInTheBox.iloc[i] !=np.nan: \n",
    "        merged.inboxscore.iloc[i] = 1 \n",
    "\n",
    "merged['inboxscore']"
   ]
  },
  {
   "cell_type": "markdown",
   "metadata": {},
   "source": [
    "## Product Spec"
   ]
  },
  {
   "cell_type": "code",
   "execution_count": 27,
   "metadata": {},
   "outputs": [],
   "source": [
    "#product = pd.read_csv('product_spec.csv')\n",
    "#product.columns\n",
    "#len(product['Specs'][0])"
   ]
  },
  {
   "cell_type": "markdown",
   "metadata": {},
   "source": [
    "Due to time-constraint, we consider generating synthetic data in calculating product specification score."
   ]
  },
  {
   "cell_type": "code",
   "execution_count": 28,
   "metadata": {},
   "outputs": [
    {
     "data": {
      "text/plain": [
       "0      0.831598\n",
       "1      0.374945\n",
       "2      0.125991\n",
       "3      0.129756\n",
       "4      0.522988\n",
       "         ...   \n",
       "371    0.286910\n",
       "372    0.806433\n",
       "373    0.202911\n",
       "374    0.222560\n",
       "375    0.318376\n",
       "Name: specscore, Length: 376, dtype: float64"
      ]
     },
     "execution_count": 28,
     "metadata": {},
     "output_type": "execute_result"
    }
   ],
   "source": [
    "merged['specscore'] = np.random.uniform(0,1,merged.shape[0])\n",
    "merged['specscore']"
   ]
  },
  {
   "cell_type": "markdown",
   "metadata": {},
   "source": [
    "## Final Score"
   ]
  },
  {
   "cell_type": "code",
   "execution_count": 29,
   "metadata": {},
   "outputs": [
    {
     "data": {
      "text/plain": [
       "Index(['index', 'CategoryName', 'CustomerRating', 'CustomerRatingCount',\n",
       "       'CustomerReviewCount', 'DisplayEndDateTime', 'DisplayStartDateTime',\n",
       "       'Ehf', 'HasFrenchContent', 'HasPromotion', 'HideSaleEndDate',\n",
       "       'HideSavings', 'IsAdvertised', 'IsClearance', 'IsFrenchCompliant',\n",
       "       'IsInStoreOnly', 'IsMarketplace', 'IsOnlineOnly', 'IsPreorderable',\n",
       "       'IsPriceEndsLabel', 'Name', 'Page', 'PriceUnit', 'ProductUrl',\n",
       "       'RegularPrice', 'RequiresAgeVerification', 'SaleEndDateTime',\n",
       "       'SalePrice', 'Seller', 'SeoText', 'ShortDescription', 'Sku',\n",
       "       'ThumbnailImage', 'highResImage', 'isVisible', 'sellername',\n",
       "       'proportionlength', 'proportioninlist', 'descrscore', 'proportiontitle',\n",
       "       'proptitleinlist', 'titlescore', 'imgscore'],\n",
       "      dtype='object')"
      ]
     },
     "execution_count": 29,
     "metadata": {},
     "output_type": "execute_result"
    }
   ],
   "source": [
    "notBB.columns"
   ]
  },
  {
   "cell_type": "code",
   "execution_count": 30,
   "metadata": {},
   "outputs": [
    {
     "name": "stderr",
     "output_type": "stream",
     "text": [
      "C:\\Users\\user\\Anaconda3\\lib\\site-packages\\ipykernel_launcher.py:7: SettingWithCopyWarning: \n",
      "A value is trying to be set on a copy of a slice from a DataFrame.\n",
      "Try using .loc[row_indexer,col_indexer] = value instead\n",
      "\n",
      "See the caveats in the documentation: http://pandas.pydata.org/pandas-docs/stable/user_guide/indexing.html#returning-a-view-versus-a-copy\n",
      "  import sys\n"
     ]
    }
   ],
   "source": [
    "## Large Data Set Score\n",
    "description_weight =  15\n",
    "title_weight = 20\n",
    "image_weight = 20\n",
    "\n",
    "allweight = [description_weight,title_weight,image_weight] \n",
    "notBB['final_score'] = (description_weight*notBB['descrscore']+ title_weight*notBB['titlescore'] + image_weight*notBB['imgscore'])/sum(allweight)\n"
   ]
  },
  {
   "cell_type": "markdown",
   "metadata": {},
   "source": [
    "## Subset Data Score"
   ]
  },
  {
   "cell_type": "code",
   "execution_count": 31,
   "metadata": {},
   "outputs": [
    {
     "data": {
      "text/plain": [
       "Index(['index', 'CategoryName', 'CustomerRating', 'CustomerRatingCount',\n",
       "       'CustomerReviewCount', 'DisplayEndDateTime', 'DisplayStartDateTime',\n",
       "       'Ehf', 'HasFrenchContent', 'HasPromotion', 'HideSaleEndDate',\n",
       "       'HideSavings', 'IsAdvertised', 'IsClearance', 'IsFrenchCompliant',\n",
       "       'IsInStoreOnly', 'IsMarketplace', 'IsOnlineOnly', 'IsPreorderable',\n",
       "       'IsPriceEndsLabel', 'Name', 'Page', 'PriceUnit', 'ProductUrl',\n",
       "       'RegularPrice', 'RequiresAgeVerification', 'SaleEndDateTime',\n",
       "       'SalePrice', 'Seller', 'SeoText', 'ShortDescription', 'Sku',\n",
       "       'ThumbnailImage', 'highResImage', 'isVisible', 'sellername',\n",
       "       'proportionlength', 'proportioninlist', 'descrscore', 'proportiontitle',\n",
       "       'proptitleinlist', 'titlescore', 'imgscore', 'HasWarranty',\n",
       "       'WhatsInTheBox', 'warrantyscore', 'inboxscore', 'specscore'],\n",
       "      dtype='object')"
      ]
     },
     "execution_count": 31,
     "metadata": {},
     "output_type": "execute_result"
    }
   ],
   "source": [
    "merged.columns"
   ]
  },
  {
   "cell_type": "code",
   "execution_count": 32,
   "metadata": {},
   "outputs": [
    {
     "data": {
      "text/html": [
       "<div>\n",
       "<style scoped>\n",
       "    .dataframe tbody tr th:only-of-type {\n",
       "        vertical-align: middle;\n",
       "    }\n",
       "\n",
       "    .dataframe tbody tr th {\n",
       "        vertical-align: top;\n",
       "    }\n",
       "\n",
       "    .dataframe thead th {\n",
       "        text-align: right;\n",
       "    }\n",
       "</style>\n",
       "<table border=\"1\" class=\"dataframe\">\n",
       "  <thead>\n",
       "    <tr style=\"text-align: right;\">\n",
       "      <th></th>\n",
       "      <th>index</th>\n",
       "      <th>CategoryName</th>\n",
       "      <th>CustomerRating</th>\n",
       "      <th>CustomerRatingCount</th>\n",
       "      <th>CustomerReviewCount</th>\n",
       "      <th>DisplayEndDateTime</th>\n",
       "      <th>DisplayStartDateTime</th>\n",
       "      <th>Ehf</th>\n",
       "      <th>HasFrenchContent</th>\n",
       "      <th>HasPromotion</th>\n",
       "      <th>...</th>\n",
       "      <th>proportiontitle</th>\n",
       "      <th>proptitleinlist</th>\n",
       "      <th>titlescore</th>\n",
       "      <th>imgscore</th>\n",
       "      <th>HasWarranty</th>\n",
       "      <th>WhatsInTheBox</th>\n",
       "      <th>warrantyscore</th>\n",
       "      <th>inboxscore</th>\n",
       "      <th>specscore</th>\n",
       "      <th>final_score</th>\n",
       "    </tr>\n",
       "  </thead>\n",
       "  <tbody>\n",
       "    <tr>\n",
       "      <td>0</td>\n",
       "      <td>18</td>\n",
       "      <td>Laptops</td>\n",
       "      <td>4</td>\n",
       "      <td>3</td>\n",
       "      <td>3</td>\n",
       "      <td>{'@xsi:nil': 'true'}</td>\n",
       "      <td>{'@xsi:nil': 'true'}</td>\n",
       "      <td>0</td>\n",
       "      <td>false</td>\n",
       "      <td>true</td>\n",
       "      <td>...</td>\n",
       "      <td>0.524126</td>\n",
       "      <td>0.833333</td>\n",
       "      <td>0.678730</td>\n",
       "      <td>1</td>\n",
       "      <td>False</td>\n",
       "      <td>HP 14\" EliteBook 840 G3 Laptop</td>\n",
       "      <td>0</td>\n",
       "      <td>1</td>\n",
       "      <td>0.831598</td>\n",
       "      <td>0.656914</td>\n",
       "    </tr>\n",
       "    <tr>\n",
       "      <td>1</td>\n",
       "      <td>26</td>\n",
       "      <td>Chromebooks</td>\n",
       "      <td>0</td>\n",
       "      <td>0</td>\n",
       "      <td>0</td>\n",
       "      <td>{'@xsi:nil': 'true'}</td>\n",
       "      <td>{'@xsi:nil': 'true'}</td>\n",
       "      <td>0</td>\n",
       "      <td>false</td>\n",
       "      <td>true</td>\n",
       "      <td>...</td>\n",
       "      <td>0.725382</td>\n",
       "      <td>0.526316</td>\n",
       "      <td>0.625849</td>\n",
       "      <td>1</td>\n",
       "      <td>False</td>\n",
       "      <td>Chromebook, Power Adapter</td>\n",
       "      <td>0</td>\n",
       "      <td>1</td>\n",
       "      <td>0.374945</td>\n",
       "      <td>0.580228</td>\n",
       "    </tr>\n",
       "    <tr>\n",
       "      <td>2</td>\n",
       "      <td>29</td>\n",
       "      <td>Chromebooks</td>\n",
       "      <td>0</td>\n",
       "      <td>0</td>\n",
       "      <td>0</td>\n",
       "      <td>{'@xsi:nil': 'true'}</td>\n",
       "      <td>{'@xsi:nil': 'true'}</td>\n",
       "      <td>0</td>\n",
       "      <td>false</td>\n",
       "      <td>true</td>\n",
       "      <td>...</td>\n",
       "      <td>0.658296</td>\n",
       "      <td>0.550000</td>\n",
       "      <td>0.604148</td>\n",
       "      <td>1</td>\n",
       "      <td>False</td>\n",
       "      <td>Chromebook, Power adapter, Wireless Mouse, Lap...</td>\n",
       "      <td>0</td>\n",
       "      <td>1</td>\n",
       "      <td>0.125991</td>\n",
       "      <td>0.526773</td>\n",
       "    </tr>\n",
       "    <tr>\n",
       "      <td>3</td>\n",
       "      <td>42</td>\n",
       "      <td>Laptops</td>\n",
       "      <td>2</td>\n",
       "      <td>1</td>\n",
       "      <td>1</td>\n",
       "      <td>{'@xsi:nil': 'true'}</td>\n",
       "      <td>{'@xsi:nil': 'true'}</td>\n",
       "      <td>0</td>\n",
       "      <td>false</td>\n",
       "      <td>true</td>\n",
       "      <td>...</td>\n",
       "      <td>0.524126</td>\n",
       "      <td>0.681818</td>\n",
       "      <td>0.602972</td>\n",
       "      <td>1</td>\n",
       "      <td>False</td>\n",
       "      <td>Laptop, Power Cable</td>\n",
       "      <td>0</td>\n",
       "      <td>1</td>\n",
       "      <td>0.129756</td>\n",
       "      <td>0.566564</td>\n",
       "    </tr>\n",
       "    <tr>\n",
       "      <td>4</td>\n",
       "      <td>53</td>\n",
       "      <td>2 in 1 Laptops</td>\n",
       "      <td>5</td>\n",
       "      <td>1</td>\n",
       "      <td>1</td>\n",
       "      <td>{'@xsi:nil': 'true'}</td>\n",
       "      <td>{'@xsi:nil': 'true'}</td>\n",
       "      <td>0</td>\n",
       "      <td>false</td>\n",
       "      <td>true</td>\n",
       "      <td>...</td>\n",
       "      <td>0.859552</td>\n",
       "      <td>0.470588</td>\n",
       "      <td>0.665070</td>\n",
       "      <td>1</td>\n",
       "      <td>False</td>\n",
       "      <td>['HP 13.3\" EliteBook x360 1030 G2', 'Power Ada...</td>\n",
       "      <td>0</td>\n",
       "      <td>1</td>\n",
       "      <td>0.522988</td>\n",
       "      <td>0.683052</td>\n",
       "    </tr>\n",
       "  </tbody>\n",
       "</table>\n",
       "<p>5 rows × 49 columns</p>\n",
       "</div>"
      ],
      "text/plain": [
       "   index    CategoryName CustomerRating CustomerRatingCount  \\\n",
       "0     18         Laptops              4                   3   \n",
       "1     26     Chromebooks              0                   0   \n",
       "2     29     Chromebooks              0                   0   \n",
       "3     42         Laptops              2                   1   \n",
       "4     53  2 in 1 Laptops              5                   1   \n",
       "\n",
       "  CustomerReviewCount    DisplayEndDateTime  DisplayStartDateTime Ehf  \\\n",
       "0                   3  {'@xsi:nil': 'true'}  {'@xsi:nil': 'true'}   0   \n",
       "1                   0  {'@xsi:nil': 'true'}  {'@xsi:nil': 'true'}   0   \n",
       "2                   0  {'@xsi:nil': 'true'}  {'@xsi:nil': 'true'}   0   \n",
       "3                   1  {'@xsi:nil': 'true'}  {'@xsi:nil': 'true'}   0   \n",
       "4                   1  {'@xsi:nil': 'true'}  {'@xsi:nil': 'true'}   0   \n",
       "\n",
       "  HasFrenchContent HasPromotion  ... proportiontitle proptitleinlist  \\\n",
       "0            false         true  ...        0.524126        0.833333   \n",
       "1            false         true  ...        0.725382        0.526316   \n",
       "2            false         true  ...        0.658296        0.550000   \n",
       "3            false         true  ...        0.524126        0.681818   \n",
       "4            false         true  ...        0.859552        0.470588   \n",
       "\n",
       "  titlescore imgscore HasWarranty  \\\n",
       "0   0.678730        1       False   \n",
       "1   0.625849        1       False   \n",
       "2   0.604148        1       False   \n",
       "3   0.602972        1       False   \n",
       "4   0.665070        1       False   \n",
       "\n",
       "                                       WhatsInTheBox warrantyscore inboxscore  \\\n",
       "0                     HP 14\" EliteBook 840 G3 Laptop             0          1   \n",
       "1                          Chromebook, Power Adapter             0          1   \n",
       "2  Chromebook, Power adapter, Wireless Mouse, Lap...             0          1   \n",
       "3                                Laptop, Power Cable             0          1   \n",
       "4  ['HP 13.3\" EliteBook x360 1030 G2', 'Power Ada...             0          1   \n",
       "\n",
       "  specscore final_score  \n",
       "0  0.831598    0.656914  \n",
       "1  0.374945    0.580228  \n",
       "2  0.125991    0.526773  \n",
       "3  0.129756    0.566564  \n",
       "4  0.522988    0.683052  \n",
       "\n",
       "[5 rows x 49 columns]"
      ]
     },
     "execution_count": 32,
     "metadata": {},
     "output_type": "execute_result"
    }
   ],
   "source": [
    "## Large Data Set Score\n",
    "description_weight =  20\n",
    "title_weight = 25\n",
    "image_weight = 25\n",
    "spec_weight = 20\n",
    "warranty_weight = 5 \n",
    "inbox_weight = 5 \n",
    "\n",
    "allweight = [description_weight,title_weight,image_weight,warranty_weight,inbox_weight,spec_weight] \n",
    "merged['final_score'] = (description_weight*merged['descrscore']+ title_weight*merged['titlescore'] + image_weight*merged['imgscore'] + warranty_weight*merged['warrantyscore'] + inbox_weight*merged['inboxscore'] + spec_weight*merged['specscore'] )/sum(allweight)\n",
    "merged.head()"
   ]
  },
  {
   "cell_type": "code",
   "execution_count": 33,
   "metadata": {},
   "outputs": [
    {
     "data": {
      "text/plain": [
       "count    9455.000000\n",
       "mean        0.736253\n",
       "std         0.057743\n",
       "min         0.407042\n",
       "25%         0.699743\n",
       "50%         0.745151\n",
       "75%         0.777625\n",
       "max         0.953361\n",
       "Name: final_score, dtype: float64"
      ]
     },
     "execution_count": 33,
     "metadata": {},
     "output_type": "execute_result"
    }
   ],
   "source": [
    "notBB['final_score'].describe()"
   ]
  },
  {
   "cell_type": "code",
   "execution_count": 34,
   "metadata": {},
   "outputs": [
    {
     "data": {
      "text/plain": [
       "376"
      ]
     },
     "execution_count": 34,
     "metadata": {},
     "output_type": "execute_result"
    }
   ],
   "source": [
    "len(merged)"
   ]
  },
  {
   "cell_type": "markdown",
   "metadata": {},
   "source": [
    "## Converting Score Data"
   ]
  },
  {
   "cell_type": "code",
   "execution_count": 35,
   "metadata": {},
   "outputs": [
    {
     "data": {
      "text/plain": [
       "Index(['index', 'CategoryName', 'CustomerRating', 'CustomerRatingCount',\n",
       "       'CustomerReviewCount', 'DisplayEndDateTime', 'DisplayStartDateTime',\n",
       "       'Ehf', 'HasFrenchContent', 'HasPromotion', 'HideSaleEndDate',\n",
       "       'HideSavings', 'IsAdvertised', 'IsClearance', 'IsFrenchCompliant',\n",
       "       'IsInStoreOnly', 'IsMarketplace', 'IsOnlineOnly', 'IsPreorderable',\n",
       "       'IsPriceEndsLabel', 'Name', 'Page', 'PriceUnit', 'ProductUrl',\n",
       "       'RegularPrice', 'RequiresAgeVerification', 'SaleEndDateTime',\n",
       "       'SalePrice', 'Seller', 'SeoText', 'ShortDescription', 'Sku',\n",
       "       'ThumbnailImage', 'highResImage', 'isVisible', 'sellername',\n",
       "       'proportionlength', 'proportioninlist', 'descrscore', 'proportiontitle',\n",
       "       'proptitleinlist', 'titlescore', 'imgscore', 'HasWarranty',\n",
       "       'WhatsInTheBox', 'warrantyscore', 'inboxscore', 'specscore',\n",
       "       'final_score'],\n",
       "      dtype='object')"
      ]
     },
     "execution_count": 35,
     "metadata": {},
     "output_type": "execute_result"
    }
   ],
   "source": [
    "merged.columns"
   ]
  },
  {
   "cell_type": "code",
   "execution_count": 36,
   "metadata": {},
   "outputs": [
    {
     "data": {
      "text/plain": [
       "Index(['subcategory', 'seller', 'name', 'proportionlength', 'proportioninlist',\n",
       "       'descrscore', 'proportiontitle', 'proptitleinlist', 'titlescore',\n",
       "       'imgscore', 'warrantyscore', 'inboxscore', 'overallscore', 'specscore',\n",
       "       'page', 'category', 'start', 'end'],\n",
       "      dtype='object')"
      ]
     },
     "execution_count": 36,
     "metadata": {},
     "output_type": "execute_result"
    }
   ],
   "source": [
    "merged2 = merged[['CategoryName','sellername', 'Name', 'proportionlength', 'proportioninlist','descrscore','proportiontitle',\n",
    "       'proptitleinlist','titlescore','imgscore','warrantyscore', 'inboxscore', 'final_score',\n",
    "       'specscore','Page']]\n",
    "\n",
    "merged2=merged2.rename(columns = {'CategoryName':'subcategory','sellername':'seller','Name':'name','Page':'page','final_score':'overallscore'})\n",
    "merged2['category'] = 'Laptops'\n",
    "merged2['start'] = 0 \n",
    "merged2['end'] = 1\n",
    "merged2.columns"
   ]
  },
  {
   "cell_type": "code",
   "execution_count": 38,
   "metadata": {},
   "outputs": [],
   "source": [
    "varlist = ['overall','descr','title','img','warranty','inbox','spec']\n",
    "scorelist = [i + 'score' for i in varlist]\n",
    "score25 = [i + 'score25th' for i in varlist]\n",
    "score50 = [i + 'score50th' for i in varlist]\n",
    "score75 = [i + 'score75th' for i in varlist]\n",
    "scorestate = [i + '_state' for i in varlist]"
   ]
  },
  {
   "cell_type": "code",
   "execution_count": 39,
   "metadata": {},
   "outputs": [],
   "source": [
    "for i in range (0,len(varlist)): \n",
    "    merged2[score25[i]] = merged2[scorelist[i]].describe()[4]\n",
    "    merged2[score50[i]] = merged2[scorelist[i]].describe()[5]\n",
    "    merged2[score75[i]] = merged2[scorelist[i]].describe()[6]\n",
    "    merged2[scorestate[i]] = 'Awesome'\n"
   ]
  },
  {
   "cell_type": "code",
   "execution_count": 40,
   "metadata": {},
   "outputs": [
    {
     "data": {
      "text/plain": [
       "0      0.678730\n",
       "1      0.625849\n",
       "2      0.604148\n",
       "3      0.602972\n",
       "4      0.665070\n",
       "         ...   \n",
       "371    0.570606\n",
       "372    0.870952\n",
       "373    0.753305\n",
       "374    0.757344\n",
       "375    0.713319\n",
       "Name: titlescore, Length: 376, dtype: float64"
      ]
     },
     "execution_count": 40,
     "metadata": {},
     "output_type": "execute_result"
    }
   ],
   "source": [
    "merged2['titlescore']"
   ]
  },
  {
   "cell_type": "code",
   "execution_count": 42,
   "metadata": {},
   "outputs": [],
   "source": [
    "for i in range(0,merged.shape[0]):\n",
    "    if merged2.overallscore.iloc[i] < merged2.overallscore25th.iloc[i]: \n",
    "        merged2.overall_state.iloc[i] = 'Need Improvement'\n",
    "    elif merged2.overallscore.iloc[i] < merged2.overallscore50th.iloc[i]: \n",
    "        merged2.overall_state.iloc[i] = 'Scope for Improvement'\n",
    "    elif merged2.overallscore.iloc[i] < merged2.overallscore75th.iloc[i]: \n",
    "        merged2.overall_state.iloc[i] = 'Almost There'"
   ]
  },
  {
   "cell_type": "code",
   "execution_count": 43,
   "metadata": {},
   "outputs": [],
   "source": [
    "for i in range(0,merged.shape[0]):\n",
    "    if merged2.descrscore.iloc[i] < merged2.descrscore25th.iloc[i]: \n",
    "        merged2.descr_state.iloc[i] = 'Need Improvement'\n",
    "    elif merged2.descrscore.iloc[i] < merged2.descrscore50th.iloc[i]: \n",
    "        merged2.descr_state.iloc[i] = 'Scope for Improvement'\n",
    "    elif merged2.descrscore.iloc[i] < merged2.descrscore75th.iloc[i]: \n",
    "        merged2.descr_state.iloc[i] = 'Almost There'"
   ]
  },
  {
   "cell_type": "code",
   "execution_count": 44,
   "metadata": {},
   "outputs": [],
   "source": [
    "for i in range(0,merged.shape[0]):\n",
    "    if merged2.titlescore.iloc[i] < merged2.titlescore25th.iloc[i]: \n",
    "        merged2.title_state.iloc[i] = 'Need Improvement'\n",
    "    elif merged2.titlescore.iloc[i] < merged2.titlescore50th.iloc[i]: \n",
    "        merged2.title_state.iloc[i] = 'Scope for Improvement'\n",
    "    elif merged2.titlescore.iloc[i] < merged2.titlescore75th.iloc[i]: \n",
    "        merged2.title_state.iloc[i] = 'Almost There'\n",
    "        "
   ]
  },
  {
   "cell_type": "code",
   "execution_count": 45,
   "metadata": {},
   "outputs": [],
   "source": [
    "for i in range(0,merged.shape[0]):\n",
    "    if merged2.imgscore.iloc[i] < merged2.imgscore25th.iloc[i]: \n",
    "        merged2.img_state.iloc[i] = 'Need Improvement'\n",
    "    elif merged2.imgscore.iloc[i] < merged2.imgscore50th.iloc[i]: \n",
    "        merged2.img_state.iloc[i] = 'Scope for Improvement'\n",
    "    elif merged2.imgscore.iloc[i] < merged2.imgscore75th.iloc[i]: \n",
    "        merged2.img_state.iloc[i] = 'Almost There'"
   ]
  },
  {
   "cell_type": "code",
   "execution_count": 46,
   "metadata": {},
   "outputs": [],
   "source": [
    "for i in range(0,merged.shape[0]):\n",
    "    if merged2.warrantyscore.iloc[i] <= merged2.warrantyscore25th.iloc[i]: \n",
    "        merged2.warranty_state.iloc[i] = 'Need Improvement'\n",
    "    elif merged2.warrantyscore.iloc[i] <= merged2.warrantyscore50th.iloc[i]: \n",
    "        merged2.warranty_state.iloc[i] = 'Scope for Improvement'\n",
    "    elif merged2.warrantyscore.iloc[i] <= merged2.warrantyscore75th.iloc[i]: \n",
    "        merged2.warranty_state.iloc[i] = 'Almost There'"
   ]
  },
  {
   "cell_type": "code",
   "execution_count": 47,
   "metadata": {},
   "outputs": [],
   "source": [
    "for i in range(0,merged.shape[0]):\n",
    "    if merged2.inboxscore.iloc[i] < merged2.inboxscore75th.iloc[i]: \n",
    "        merged2.inbox_state.iloc[i] = 'Almost There'\n",
    "    elif merged2.inboxscore.iloc[i] < merged2.inboxscore50th.iloc[i]: \n",
    "        merged2.inbox_state.iloc[i] = 'Scope for Improvement'\n",
    "    elif merged2.inboxscore.iloc[i] < merged2.inboxscore25th.iloc[i]: \n",
    "        merged2.inbox_state.iloc[i] = 'Need Improvement'"
   ]
  },
  {
   "cell_type": "code",
   "execution_count": 48,
   "metadata": {},
   "outputs": [],
   "source": [
    "for i in range(0,merged.shape[0]):\n",
    "    if merged2.specscore.iloc[i] < merged2.specscore75th.iloc[i]: \n",
    "        merged2.spec_state.iloc[i] = 'Almost There'\n",
    "    elif merged2.specscore.iloc[i] < merged2.specscore50th.iloc[i]: \n",
    "        merged2.spec_state.iloc[i] = 'Scope for Improvement'\n",
    "    elif merged2.specscore.iloc[i] < merged2.specscore25th.iloc[i]: \n",
    "        merged2.spec_state.iloc[i] = 'Need Improvement' "
   ]
  },
  {
   "cell_type": "code",
   "execution_count": 49,
   "metadata": {},
   "outputs": [],
   "source": [
    "merged2.to_csv('score.csv')"
   ]
  },
  {
   "cell_type": "markdown",
   "metadata": {},
   "source": [
    "## Product & Score"
   ]
  },
  {
   "cell_type": "code",
   "execution_count": 62,
   "metadata": {},
   "outputs": [
    {
     "data": {
      "text/plain": [
       "'Refurbished. MacBook Pro 13\" Retina 2.9GHz i5 16GB / 256GB - 2015 Model - Grade A, Excellent Condition, 9/10!'"
      ]
     },
     "execution_count": 62,
     "metadata": {},
     "output_type": "execute_result"
    }
   ],
   "source": [
    "notBB[notBB['sellername']=='Vancouver Electronic Depot']['ShortDescription'].iloc[0]"
   ]
  },
  {
   "cell_type": "code",
   "execution_count": 67,
   "metadata": {},
   "outputs": [
    {
     "data": {
      "text/html": [
       "<div>\n",
       "<style scoped>\n",
       "    .dataframe tbody tr th:only-of-type {\n",
       "        vertical-align: middle;\n",
       "    }\n",
       "\n",
       "    .dataframe tbody tr th {\n",
       "        vertical-align: top;\n",
       "    }\n",
       "\n",
       "    .dataframe thead th {\n",
       "        text-align: right;\n",
       "    }\n",
       "</style>\n",
       "<table border=\"1\" class=\"dataframe\">\n",
       "  <thead>\n",
       "    <tr style=\"text-align: right;\">\n",
       "      <th></th>\n",
       "      <th>subcategory</th>\n",
       "      <th>seller</th>\n",
       "      <th>name</th>\n",
       "      <th>proportionlength</th>\n",
       "      <th>proportioninlist</th>\n",
       "      <th>descrscore</th>\n",
       "      <th>proportiontitle</th>\n",
       "      <th>proptitleinlist</th>\n",
       "      <th>titlescore</th>\n",
       "      <th>imgscore</th>\n",
       "      <th>...</th>\n",
       "      <th>warrantyscore75th</th>\n",
       "      <th>warranty_state</th>\n",
       "      <th>inboxscore25th</th>\n",
       "      <th>inboxscore50th</th>\n",
       "      <th>inboxscore75th</th>\n",
       "      <th>inbox_state</th>\n",
       "      <th>specscore25th</th>\n",
       "      <th>specscore50th</th>\n",
       "      <th>specscore75th</th>\n",
       "      <th>spec_state</th>\n",
       "    </tr>\n",
       "  </thead>\n",
       "  <tbody>\n",
       "    <tr>\n",
       "      <td>311</td>\n",
       "      <td>Apple MacBook Pro</td>\n",
       "      <td>Vancouver Electronic Depot</td>\n",
       "      <td>MacBook Pro 13\" Retina 2.9GHz i5 16GB / 256GB ...</td>\n",
       "      <td>0.331106</td>\n",
       "      <td>0.055556</td>\n",
       "      <td>0.193331</td>\n",
       "      <td>0.725382</td>\n",
       "      <td>0.555556</td>\n",
       "      <td>0.640469</td>\n",
       "      <td>1</td>\n",
       "      <td>...</td>\n",
       "      <td>0.0</td>\n",
       "      <td>Need Improvement</td>\n",
       "      <td>1.0</td>\n",
       "      <td>1.0</td>\n",
       "      <td>1.0</td>\n",
       "      <td>Awesome</td>\n",
       "      <td>0.258346</td>\n",
       "      <td>0.483624</td>\n",
       "      <td>0.75737</td>\n",
       "      <td>Almost There</td>\n",
       "    </tr>\n",
       "  </tbody>\n",
       "</table>\n",
       "<p>1 rows × 46 columns</p>\n",
       "</div>"
      ],
      "text/plain": [
       "           subcategory                      seller  \\\n",
       "311  Apple MacBook Pro  Vancouver Electronic Depot   \n",
       "\n",
       "                                                  name  proportionlength  \\\n",
       "311  MacBook Pro 13\" Retina 2.9GHz i5 16GB / 256GB ...          0.331106   \n",
       "\n",
       "     proportioninlist  descrscore  proportiontitle  proptitleinlist  \\\n",
       "311          0.055556    0.193331         0.725382         0.555556   \n",
       "\n",
       "     titlescore  imgscore  ...  warrantyscore75th    warranty_state  \\\n",
       "311    0.640469         1  ...                0.0  Need Improvement   \n",
       "\n",
       "     inboxscore25th  inboxscore50th  inboxscore75th inbox_state  \\\n",
       "311             1.0             1.0             1.0     Awesome   \n",
       "\n",
       "     specscore25th  specscore50th  specscore75th    spec_state  \n",
       "311       0.258346       0.483624        0.75737  Almost There  \n",
       "\n",
       "[1 rows x 46 columns]"
      ]
     },
     "execution_count": 67,
     "metadata": {},
     "output_type": "execute_result"
    }
   ],
   "source": [
    "merged2[merged2['seller']=='Vancouver Electronic Depot']"
   ]
  },
  {
   "cell_type": "code",
   "execution_count": 63,
   "metadata": {},
   "outputs": [
    {
     "data": {
      "text/plain": [
       "seller\n",
       "Vancouver Electronic Depot          0.549535\n",
       "Etech                               0.561097\n",
       "Advanced Skyline Technology Ltd.    0.567995\n",
       "OEM                                 0.572126\n",
       "Electronics_Canada                  0.577410\n",
       "SIPL Online                         0.583869\n",
       "BigOnDeals                          0.585006\n",
       "UNIWAY                              0.595540\n",
       "SaveOnMacs                          0.600980\n",
       "TVOUTLET                            0.602495\n",
       "Olde Time Mac                       0.603218\n",
       "NetTradez                           0.612386\n",
       "Deal Targets                        0.613825\n",
       "Laptopking                          0.616542\n",
       "RefurbIT                            0.617548\n",
       "Microcad Computer Corporation       0.619783\n",
       "COMPUPOINT INC.                     0.621653\n",
       "TSC Deals                           0.624820\n",
       "X-Dynamic Systems                   0.626869\n",
       "Square PC                           0.629996\n",
       "CDI Computer Dealers Inc.           0.634694\n",
       "IGO Electronics                     0.634765\n",
       "ORION COMPUTER AND ELECTRONICS      0.639729\n",
       "Tecnodeals                          0.640613\n",
       "Certified Refurbisher               0.648063\n",
       "MFG DIRECT ELECTRONICS              0.650739\n",
       "MCI ONLINE                          0.655171\n",
       "Newseed                             0.657112\n",
       "Mike’s Computer Shop                0.659517\n",
       "Best Buy Business                   0.660696\n",
       "THE PC ROOM                         0.670184\n",
       "DirectEASYBUY                       0.672398\n",
       "Advanced Computers                  0.688474\n",
       "PRO Open Box                        0.707251\n",
       "TecnoCanada                         0.711453\n",
       "Canada Wholesale                    0.733329\n",
       "ALC Micro                           0.733468\n",
       "Mega PC Mall                        0.736014\n",
       "TWI Store                           0.743136\n",
       "Aero Malls Inc.                     0.747619\n",
       "QR Computers                        0.754147\n",
       "TechSavings                         0.754724\n",
       "AlwaysTech                          0.775643\n",
       "Wireless Experts, Inc.              0.790245\n",
       "OneDealOutlet Canada                0.797467\n",
       "Name: overallscore, dtype: float64"
      ]
     },
     "execution_count": 63,
     "metadata": {},
     "output_type": "execute_result"
    }
   ],
   "source": [
    "merged3 = merged2.groupby(['seller']).mean()\n",
    "merged3['overallscore'].sort_values()"
   ]
  }
 ],
 "metadata": {
  "kernelspec": {
   "display_name": "Python 3",
   "language": "python",
   "name": "python3"
  },
  "language_info": {
   "codemirror_mode": {
    "name": "ipython",
    "version": 3
   },
   "file_extension": ".py",
   "mimetype": "text/x-python",
   "name": "python",
   "nbconvert_exporter": "python",
   "pygments_lexer": "ipython3",
   "version": "3.7.3"
  }
 },
 "nbformat": 4,
 "nbformat_minor": 2
}
