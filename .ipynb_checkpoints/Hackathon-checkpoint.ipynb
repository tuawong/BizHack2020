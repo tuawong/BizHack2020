{
 "cells": [
  {
   "cell_type": "code",
   "execution_count": 1,
   "metadata": {},
   "outputs": [],
   "source": [
    "import requests\n",
    "import xmltodict\n",
    "import pandas as pd\n",
    "import numpy as np\n",
    "import math\n",
    "from collections import Counter\n",
    "from statistics import mean\n",
    "\n",
    "## Data Preprocessing\n",
    "from sklearn.preprocessing import OneHotEncoder\n",
    "from sklearn.impute import SimpleImputer, KNNImputer\n",
    "from sklearn.preprocessing import StandardScaler\n",
    "from sklearn.model_selection import train_test_split, cross_validate\n",
    "from sklearn.feature_extraction.text import CountVectorizer\n",
    "from sklearn.compose import ColumnTransformer\n",
    "from sklearn.pipeline import Pipeline "
   ]
  },
  {
   "cell_type": "code",
   "execution_count": 2,
   "metadata": {},
   "outputs": [
    {
     "data": {
      "text/plain": [
       "['http://www.bestbuy.ca/api/v2/XML/search?categoryid=20352&pagesize=100&page=1',\n",
       " 'http://www.bestbuy.ca/api/v2/XML/search?categoryid=20352&pagesize=100&page=2',\n",
       " 'http://www.bestbuy.ca/api/v2/XML/search?categoryid=20352&pagesize=100&page=3',\n",
       " 'http://www.bestbuy.ca/api/v2/XML/search?categoryid=20352&pagesize=100&page=4',\n",
       " 'http://www.bestbuy.ca/api/v2/XML/search?categoryid=20352&pagesize=100&page=5',\n",
       " 'http://www.bestbuy.ca/api/v2/XML/search?categoryid=20352&pagesize=100&page=6',\n",
       " 'http://www.bestbuy.ca/api/v2/XML/search?categoryid=20352&pagesize=100&page=7',\n",
       " 'http://www.bestbuy.ca/api/v2/XML/search?categoryid=20352&pagesize=100&page=8',\n",
       " 'http://www.bestbuy.ca/api/v2/XML/search?categoryid=20352&pagesize=100&page=9',\n",
       " 'http://www.bestbuy.ca/api/v2/XML/search?categoryid=20352&pagesize=100&page=10',\n",
       " 'http://www.bestbuy.ca/api/v2/XML/search?categoryid=20352&pagesize=100&page=11',\n",
       " 'http://www.bestbuy.ca/api/v2/XML/search?categoryid=20352&pagesize=100&page=12',\n",
       " 'http://www.bestbuy.ca/api/v2/XML/search?categoryid=20352&pagesize=100&page=13',\n",
       " 'http://www.bestbuy.ca/api/v2/XML/search?categoryid=20352&pagesize=100&page=14',\n",
       " 'http://www.bestbuy.ca/api/v2/XML/search?categoryid=20352&pagesize=100&page=15',\n",
       " 'http://www.bestbuy.ca/api/v2/XML/search?categoryid=20352&pagesize=100&page=16',\n",
       " 'http://www.bestbuy.ca/api/v2/XML/search?categoryid=20352&pagesize=100&page=17',\n",
       " 'http://www.bestbuy.ca/api/v2/XML/search?categoryid=20352&pagesize=100&page=18',\n",
       " 'http://www.bestbuy.ca/api/v2/XML/search?categoryid=20352&pagesize=100&page=19',\n",
       " 'http://www.bestbuy.ca/api/v2/XML/search?categoryid=20352&pagesize=100&page=20',\n",
       " 'http://www.bestbuy.ca/api/v2/XML/search?categoryid=20352&pagesize=100&page=21',\n",
       " 'http://www.bestbuy.ca/api/v2/XML/search?categoryid=20352&pagesize=100&page=22',\n",
       " 'http://www.bestbuy.ca/api/v2/XML/search?categoryid=20352&pagesize=100&page=23',\n",
       " 'http://www.bestbuy.ca/api/v2/XML/search?categoryid=20352&pagesize=100&page=24',\n",
       " 'http://www.bestbuy.ca/api/v2/XML/search?categoryid=20352&pagesize=100&page=25',\n",
       " 'http://www.bestbuy.ca/api/v2/XML/search?categoryid=20352&pagesize=100&page=26',\n",
       " 'http://www.bestbuy.ca/api/v2/XML/search?categoryid=20352&pagesize=100&page=27',\n",
       " 'http://www.bestbuy.ca/api/v2/XML/search?categoryid=20352&pagesize=100&page=28',\n",
       " 'http://www.bestbuy.ca/api/v2/XML/search?categoryid=20352&pagesize=100&page=29',\n",
       " 'http://www.bestbuy.ca/api/v2/XML/search?categoryid=20352&pagesize=100&page=30',\n",
       " 'http://www.bestbuy.ca/api/v2/XML/search?categoryid=20352&pagesize=100&page=31',\n",
       " 'http://www.bestbuy.ca/api/v2/XML/search?categoryid=20352&pagesize=100&page=32',\n",
       " 'http://www.bestbuy.ca/api/v2/XML/search?categoryid=20352&pagesize=100&page=33',\n",
       " 'http://www.bestbuy.ca/api/v2/XML/search?categoryid=20352&pagesize=100&page=34',\n",
       " 'http://www.bestbuy.ca/api/v2/XML/search?categoryid=20352&pagesize=100&page=35',\n",
       " 'http://www.bestbuy.ca/api/v2/XML/search?categoryid=20352&pagesize=100&page=36',\n",
       " 'http://www.bestbuy.ca/api/v2/XML/search?categoryid=20352&pagesize=100&page=37',\n",
       " 'http://www.bestbuy.ca/api/v2/XML/search?categoryid=20352&pagesize=100&page=38',\n",
       " 'http://www.bestbuy.ca/api/v2/XML/search?categoryid=20352&pagesize=100&page=39',\n",
       " 'http://www.bestbuy.ca/api/v2/XML/search?categoryid=20352&pagesize=100&page=40',\n",
       " 'http://www.bestbuy.ca/api/v2/XML/search?categoryid=20352&pagesize=100&page=41',\n",
       " 'http://www.bestbuy.ca/api/v2/XML/search?categoryid=20352&pagesize=100&page=42',\n",
       " 'http://www.bestbuy.ca/api/v2/XML/search?categoryid=20352&pagesize=100&page=43',\n",
       " 'http://www.bestbuy.ca/api/v2/XML/search?categoryid=20352&pagesize=100&page=44',\n",
       " 'http://www.bestbuy.ca/api/v2/XML/search?categoryid=20352&pagesize=100&page=45',\n",
       " 'http://www.bestbuy.ca/api/v2/XML/search?categoryid=20352&pagesize=100&page=46',\n",
       " 'http://www.bestbuy.ca/api/v2/XML/search?categoryid=20352&pagesize=100&page=47',\n",
       " 'http://www.bestbuy.ca/api/v2/XML/search?categoryid=20352&pagesize=100&page=48',\n",
       " 'http://www.bestbuy.ca/api/v2/XML/search?categoryid=20352&pagesize=100&page=49',\n",
       " 'http://www.bestbuy.ca/api/v2/XML/search?categoryid=20352&pagesize=100&page=50',\n",
       " 'http://www.bestbuy.ca/api/v2/XML/search?categoryid=20352&pagesize=100&page=51',\n",
       " 'http://www.bestbuy.ca/api/v2/XML/search?categoryid=20352&pagesize=100&page=52',\n",
       " 'http://www.bestbuy.ca/api/v2/XML/search?categoryid=20352&pagesize=100&page=53',\n",
       " 'http://www.bestbuy.ca/api/v2/XML/search?categoryid=20352&pagesize=100&page=54',\n",
       " 'http://www.bestbuy.ca/api/v2/XML/search?categoryid=20352&pagesize=100&page=55',\n",
       " 'http://www.bestbuy.ca/api/v2/XML/search?categoryid=20352&pagesize=100&page=56',\n",
       " 'http://www.bestbuy.ca/api/v2/XML/search?categoryid=20352&pagesize=100&page=57',\n",
       " 'http://www.bestbuy.ca/api/v2/XML/search?categoryid=20352&pagesize=100&page=58',\n",
       " 'http://www.bestbuy.ca/api/v2/XML/search?categoryid=20352&pagesize=100&page=59',\n",
       " 'http://www.bestbuy.ca/api/v2/XML/search?categoryid=20352&pagesize=100&page=60',\n",
       " 'http://www.bestbuy.ca/api/v2/XML/search?categoryid=20352&pagesize=100&page=61',\n",
       " 'http://www.bestbuy.ca/api/v2/XML/search?categoryid=20352&pagesize=100&page=62',\n",
       " 'http://www.bestbuy.ca/api/v2/XML/search?categoryid=20352&pagesize=100&page=63',\n",
       " 'http://www.bestbuy.ca/api/v2/XML/search?categoryid=20352&pagesize=100&page=64',\n",
       " 'http://www.bestbuy.ca/api/v2/XML/search?categoryid=20352&pagesize=100&page=65',\n",
       " 'http://www.bestbuy.ca/api/v2/XML/search?categoryid=20352&pagesize=100&page=66',\n",
       " 'http://www.bestbuy.ca/api/v2/XML/search?categoryid=20352&pagesize=100&page=67',\n",
       " 'http://www.bestbuy.ca/api/v2/XML/search?categoryid=20352&pagesize=100&page=68',\n",
       " 'http://www.bestbuy.ca/api/v2/XML/search?categoryid=20352&pagesize=100&page=69',\n",
       " 'http://www.bestbuy.ca/api/v2/XML/search?categoryid=20352&pagesize=100&page=70',\n",
       " 'http://www.bestbuy.ca/api/v2/XML/search?categoryid=20352&pagesize=100&page=71',\n",
       " 'http://www.bestbuy.ca/api/v2/XML/search?categoryid=20352&pagesize=100&page=72',\n",
       " 'http://www.bestbuy.ca/api/v2/XML/search?categoryid=20352&pagesize=100&page=73',\n",
       " 'http://www.bestbuy.ca/api/v2/XML/search?categoryid=20352&pagesize=100&page=74',\n",
       " 'http://www.bestbuy.ca/api/v2/XML/search?categoryid=20352&pagesize=100&page=75',\n",
       " 'http://www.bestbuy.ca/api/v2/XML/search?categoryid=20352&pagesize=100&page=76',\n",
       " 'http://www.bestbuy.ca/api/v2/XML/search?categoryid=20352&pagesize=100&page=77',\n",
       " 'http://www.bestbuy.ca/api/v2/XML/search?categoryid=20352&pagesize=100&page=78',\n",
       " 'http://www.bestbuy.ca/api/v2/XML/search?categoryid=20352&pagesize=100&page=79',\n",
       " 'http://www.bestbuy.ca/api/v2/XML/search?categoryid=20352&pagesize=100&page=80',\n",
       " 'http://www.bestbuy.ca/api/v2/XML/search?categoryid=20352&pagesize=100&page=81',\n",
       " 'http://www.bestbuy.ca/api/v2/XML/search?categoryid=20352&pagesize=100&page=82',\n",
       " 'http://www.bestbuy.ca/api/v2/XML/search?categoryid=20352&pagesize=100&page=83',\n",
       " 'http://www.bestbuy.ca/api/v2/XML/search?categoryid=20352&pagesize=100&page=84',\n",
       " 'http://www.bestbuy.ca/api/v2/XML/search?categoryid=20352&pagesize=100&page=85',\n",
       " 'http://www.bestbuy.ca/api/v2/XML/search?categoryid=20352&pagesize=100&page=86',\n",
       " 'http://www.bestbuy.ca/api/v2/XML/search?categoryid=20352&pagesize=100&page=87',\n",
       " 'http://www.bestbuy.ca/api/v2/XML/search?categoryid=20352&pagesize=100&page=88',\n",
       " 'http://www.bestbuy.ca/api/v2/XML/search?categoryid=20352&pagesize=100&page=89',\n",
       " 'http://www.bestbuy.ca/api/v2/XML/search?categoryid=20352&pagesize=100&page=90',\n",
       " 'http://www.bestbuy.ca/api/v2/XML/search?categoryid=20352&pagesize=100&page=91',\n",
       " 'http://www.bestbuy.ca/api/v2/XML/search?categoryid=20352&pagesize=100&page=92',\n",
       " 'http://www.bestbuy.ca/api/v2/XML/search?categoryid=20352&pagesize=100&page=93',\n",
       " 'http://www.bestbuy.ca/api/v2/XML/search?categoryid=20352&pagesize=100&page=94',\n",
       " 'http://www.bestbuy.ca/api/v2/XML/search?categoryid=20352&pagesize=100&page=95',\n",
       " 'http://www.bestbuy.ca/api/v2/XML/search?categoryid=20352&pagesize=100&page=96',\n",
       " 'http://www.bestbuy.ca/api/v2/XML/search?categoryid=20352&pagesize=100&page=97',\n",
       " 'http://www.bestbuy.ca/api/v2/XML/search?categoryid=20352&pagesize=100&page=98',\n",
       " 'http://www.bestbuy.ca/api/v2/XML/search?categoryid=20352&pagesize=100&page=99',\n",
       " 'http://www.bestbuy.ca/api/v2/XML/search?categoryid=20352&pagesize=100&page=100']"
      ]
     },
     "execution_count": 2,
     "metadata": {},
     "output_type": "execute_result"
    }
   ],
   "source": [
    "df_ = pd.DataFrame()\n",
    "urllist = [\"http://www.bestbuy.ca/api/v2/XML/search?categoryid=20352&pagesize=100&page=\" + str(i) for i in range(1,101)]\n",
    "urllist"
   ]
  },
  {
   "cell_type": "code",
   "execution_count": 3,
   "metadata": {},
   "outputs": [
    {
     "name": "stderr",
     "output_type": "stream",
     "text": [
      "C:\\Users\\user\\Anaconda3\\lib\\site-packages\\pandas\\core\\frame.py:7123: FutureWarning: Sorting because non-concatenation axis is not aligned. A future version\n",
      "of pandas will change to not sort by default.\n",
      "\n",
      "To accept the future behavior, pass 'sort=False'.\n",
      "\n",
      "To retain the current behavior and silence the warning, pass 'sort=True'.\n",
      "\n",
      "  sort=sort,\n"
     ]
    }
   ],
   "source": [
    "count=0 \n",
    "\n",
    "for url in urllist: \n",
    "    response_new = requests.get(url)\n",
    "    \n",
    "    if count == 0: \n",
    "        df = pd.DataFrame(xmltodict.parse(response_new.text)['SearchResponse']['Products']['Product'])\n",
    "        df['Page'] = 1\n",
    "        count += 1 \n",
    "    \n",
    "    else: \n",
    "        df2 = pd.DataFrame(xmltodict.parse(response_new.text)['SearchResponse']['Products']['Product'])\n",
    "        df2['Page'] = count + 1 \n",
    "        df = df.append(df2)\n",
    "        count += 1 \n",
    "\n",
    "df = df.reset_index()"
   ]
  },
  {
   "cell_type": "code",
   "execution_count": 4,
   "metadata": {},
   "outputs": [
    {
     "data": {
      "text/plain": [
       "array(['Laptops', 'Chromebooks', 'Gaming Laptops', 'Apple MacBook Air',\n",
       "       '2 in 1 Laptops', 'Apple MacBook', 'Apple MacBook Pro'],\n",
       "      dtype=object)"
      ]
     },
     "execution_count": 4,
     "metadata": {},
     "output_type": "execute_result"
    }
   ],
   "source": [
    "cv = CountVectorizer(stop_words='english')\n",
    "catname = df['CategoryName'].unique()\n",
    "catname"
   ]
  },
  {
   "cell_type": "code",
   "execution_count": 5,
   "metadata": {
    "scrolled": true
   },
   "outputs": [
    {
     "name": "stdout",
     "output_type": "stream",
     "text": [
      "dict_keys(['Laptops', 'Chromebooks', 'Gaming Laptops', 'Apple MacBook Air', '2 in 1 Laptops', 'Apple MacBook', 'Apple MacBook Pro'])\n",
      "['gaming', 'ram', 'laptop', 'intel', 'custom', 'i7', 'ssd', 'nvidia', '9750h', 'rtx', 'core', 'entertainment', 'pcie', '1tb', 'hp', '16gb', 'asus', 'omen', '2tb', '32gb', '64gb', 'sata', 'hdd', '10', 'gtx', 'win', 'msi', '3xusb', '512gb', '15', '2070', 'rog', 'ti', '1660', '8gb', '8750h', '15t', 'max', 'amd', 'strix', '2080', 'ryzen', '3750h', 'i9', '2060', 'pro', '9880h', 'home', 'webcam', 'gigabyte', '17t', 'tuf', 'aorus', '256gb', 'dc100', 'iii', 'scar', 'g531gw', 'raid', 'gf75', '9sc', '278', 'gl731gt', '505du', '2s', 'zephyrus', '1650', '4tb', 'stealth', 'refurbished', '2xusb', 'i5', 'uhd', '17', 'gs75', '205', '620', 'raider', 'gx502gv', 'gl75', '9sdk', '057', 'certified', 'classic', 'aero', 'dell', 'tuf705du', 'kh74', '450', 'probook', '8265u', 'g6', 'open', 'box', 'lenovo', '9sd', 'gp75', '437', 'business', '2x1tb', 'geforce', 'win10', 'thinkpad', 'rgb', 'black', 'windows', 'fhd', 'ge63', 'tuf705', '2x2tb', 'fx705dt', 'gb', '2x512gb', 'alienware', 'acer', 'f74adp', '1xhdmi', 'eurocom', 'ge75', '1050', 'fx505', 't490', '8665u', 'ddr4', 'ge75287', '287', '128gb', 'mobile', 'creator', '6tb', '48gb', 'p75', '9300h', '1080', '24gb', 'notebook', 'sshd', 'eng', 'g3', '500gb', '802', 'xps', '1920', 'supercomputer', 'xa', 'gs65', '483', 'wa', 'gx502gw', 'gx701', 'x1', 'extreme', '64', 'english', '1060', '1660ti', 'nitro', '3590', 'optane', '11a', 'bit', '4gb', 'workstation', '7590', '8300h', 'wifi', 'super', '1050ti', '3tb', 'clx', 'predator', '9900k', '16', 'set', '512', 'hm', '1070', 'm17', 'ghz', 'area', '3550h', '12gb', 'shadow', '51m', 'fingerprint', 'g5', '3x2tb', 'tornado', 'x4c', '3x1tb', 'pavilion', '40gb', 'inch', 'xeon', 'x7c', 'm15', '4k', 'r2', '51', 'touch', '7700hq', 'helios', '144hz', '5tb', '9700kf', 'gtx1060', '3x512gb', '9570', 'silver', 'quadro', 'tb', '300', 'an515', 'light', '480gb', 'en', 'hero', '6gb', '8086k', 'ci7', 'f5', '9700k', '8700k', 'lcd', 'hd', 'aba', 'gen', 'red', '256', 'legion', '11b', 'zenbook', '14', 'qhd', '13', 'ux581gv', 'ii', 'duo', 'oled', 'manufacturer', 'display', 'blade', '32', '8th', 'zbook', 'x9c', '9980hk', '6inch', 'sdram', '5590', 'razer', 'radeon', '53', 'titan', 'grey', 'ci5', 'abl', 'gtx1070', '500', 'pt515', 'ready', 'superlaptop', 'dc1000', 'abyss', 'quad', '250gb', 'l340', 'nvme', 'nightsky', 'gl63', '70', '9900kf', 'g7', 'graphics', 'gt75', 'win10home', 'f7w', 'hexa', 'hybrid', 'vr', 'ideapad', '6820hk', 'triton', 'mdash', 'nh', '9750', '071ca', '039ca', '20', '9700f', '8sg', '2176m', '2186g', '2x', '15irh', '3gb', '43', '9tk', '4bq16ua', '4bq88ua', '128', '52', '6ghz', '71z5', '7300hq', '75l8', '7790', '8565u', '8rc', '8rf', '8rg', '8se', '1270v5', '001', 'g731gv', 'gtx1650', 'gtx1050', 'rx15', 'ws75', 'rx17', 'ws65', 'rx560x', 'ph315', 'win10pro', 'we75', 'deep', 'w10', 'vivobook', 'ultra', 'touchscreen', 'slim', 'p3200', 'space', 'gtx960', 'lighting', 'gx501', 'cb', 'g7790', 'monster', 'mx250', 'ips', 'aluminum', 'gddr5', 'aspire', 'q72sp', '240gb', '284ca', 'q4waa', '223ca', 'r3', '277ca', '2727slv', '2666', '256ssd', '2500u', '256gb1tb', 'r2mg', 'q3faa', 'q72s', '9tl', '2ghz', 'q2yaa', 'nb', 'non', '3ms', '3inch', 'nx', '3ci7', 'online', 'ordi', 'p4200', '32g', 'p5200', 'p65', '30', 'pb74', '2x500gb', 'raid0', 'ph517', 'prestige', 'ps42', 'ph317', '202ca', 'ramgtx', '12', '11ac', '1080p', 'xb71t', 'xb74', '10510u', 'xb78k', 'y520', 'y540', '0tb512g', '0tb256gb', '098ca', '096ca', '081ca', 'y7000', 'y720', 'y740', '036ca', '024ca', '018ca', '005', '003', 'windows10', '120gb', '2176g', '1228ca', '216ca', 'retail', 'rs51', 'rs71', 'rtx2070', 'm4000m', 'rx', '1920x1080', '18', 's7120174', '17ichg', 'screen', 'series', 'sky', 'spp', 'stealh', 'ti15', '15ikbn', 'ux550ge', '128gb1tbblack', 'w10h', 'manufacture', 'jeu', '426ca', 'fx505gt', '899ca', '8950hk', '8850h', '8750h12gb', 'ddr', 'dg0000', 'dg0010nr', '8550u', 'dk0020nr', 'dk0030nr', '8250u', '81sx0005us', '81lk000pus', '81hh0037us', '80wk001lus', 'dominator', 'edition', '7rf', '79e8', 'epic', '7700k', 'fx504gd', '762q', 'dd', '8ra', 'dc1030nr', 'cd0020nr', '9sf', '9se', 'a10rb', 'an517', 'an715', 'aw17r4', 'bi5n7', 'bi7n9', 'ca', 'cd0010nr', '9700', '8re', '960gb', 'cd0030nr', '9400f', 'chroma', 'cnc', 'cx0010ca', '8sf', 'db71', 'zephrus', 'dc1020nr', '75rt', 'fx705gm', 'm3000m', '752b', '59qp', '560x', 'gl703ge', 'gp63', '522l', '520', 'gpfaa', 'gt', '512gv', '512gssd', 'gt72s', 'gt83', 'gtx1080', '500gbssd', 'gtx1660ti', 'gu502gu', 'hdd256ssd', 'intelcore', 'iv', '9sfk', '467ca', 'leopard', '448ca', 'gl531gw', '616ca', 'gf63', '6qz95ua', '73z5', 'g701vi', '72rg', '72ev', '7200rpm', 'g703gx', 'g731gu', '6th', '6qz97ua', '6qz96ua', '6qx97ua', 'gf', '6qx96ua', '6in', 'gddr6', '699ca', 'ge73vr', '6700k', '6700hq', '6700', '655ca', 'geforcegtx', 'dc1010nr']\n"
     ]
    }
   ],
   "source": [
    "keyword = {} \n",
    "\n",
    "for i in range (0, len(catname)):\n",
    "    dat = df.loc[df['CategoryName']==catname[i]]['SeoText']\n",
    "    wordcount = cv.fit_transform(dat).toarray()\n",
    "    wordcount = pd.DataFrame(wordcount, columns=cv.get_feature_names())\n",
    "    wordlist = wordcount.sum(axis=0).sort_values(ascending=False).index.tolist()\n",
    "    \n",
    "    keyword[catname[i]] = wordlist\n",
    "\n",
    "print(keyword.keys())\n",
    "print(keyword[catname[2]])\n"
   ]
  },
  {
   "cell_type": "markdown",
   "metadata": {},
   "source": [
    "## Seller Extraction"
   ]
  },
  {
   "cell_type": "code",
   "execution_count": 6,
   "metadata": {
    "scrolled": true
   },
   "outputs": [
    {
     "data": {
      "text/plain": [
       "{'Microcad Computer Corporation': 62,\n",
       " 'TVOUTLET': 33,\n",
       " 'Best Buy Business': 266,\n",
       " 'NetTradez': 517,\n",
       " 'Olde Time Mac': 34,\n",
       " 'ORION COMPUTER AND ELECTRONICS': 11,\n",
       " 'PRO Open Box': 216,\n",
       " 'THE PC ROOM': 98,\n",
       " 'Electronics_Canada': 18,\n",
       " 'DCR': 161,\n",
       " 'Certified Refurbisher': 34,\n",
       " 'CDI Computer Dealers Inc.': 333,\n",
       " 'ALC Micro': 33,\n",
       " 'OEM': 38,\n",
       " 'Wireless Experts, Inc.': 2,\n",
       " 'Canada Wholesale': 10,\n",
       " 'Aero Malls Inc.': 26,\n",
       " 'IGO Electronics': 86,\n",
       " 'DirectEASYBUY': 76,\n",
       " 'Mike’s Computer Shop': 283,\n",
       " 'AlwaysTech': 14,\n",
       " 'TSC Deals': 18,\n",
       " 'Mega PC Mall': 2,\n",
       " 'OpenBox': 13,\n",
       " 'CPR upper beeches toronto': 2,\n",
       " 'RefurbIT': 39,\n",
       " 'SaveOnMacs': 56,\n",
       " 'MCI ONLINE': 37,\n",
       " 'MFG DIRECT ELECTRONICS': 9,\n",
       " 'TecnoCanada': 182,\n",
       " 'Canadian Outlet': 14,\n",
       " 'Tecnodeals': 108,\n",
       " 'Computer Depot': 41,\n",
       " 'QR Computers': 18,\n",
       " 'Advanced Skyline Technology Ltd.': 70,\n",
       " 'ACM Électronique': 17,\n",
       " 'Techdealz': 8,\n",
       " 'SIPL Online': 30,\n",
       " 'OneDealOutlet Canada': 130,\n",
       " 'Lenovo Canada': 59,\n",
       " 'Exooto Media': 13,\n",
       " 'Advanced Computers': 139,\n",
       " 'Square PC': 246,\n",
       " 'Deal Targets': 261,\n",
       " 'VLCanada': 2,\n",
       " 'Newseed': 4,\n",
       " 'CELL4LESS': 5,\n",
       " 'UNIWAY': 10,\n",
       " 'X-Dynamic Systems': 17,\n",
       " 'MichaelElectronics2': 5026,\n",
       " 'TWI Store': 31,\n",
       " 'BidDeal': 24,\n",
       " 'Nem Distribution': 11,\n",
       " 'Laptopking': 2,\n",
       " 'Etech': 3,\n",
       " 'TeleasyOnline': 22,\n",
       " 'iSanek': 102,\n",
       " 'COMPUPOINT INC.': 50,\n",
       " 'CTSMAR': 3,\n",
       " 'Vancouver Electronic Depot': 15,\n",
       " 'BigOnDeals': 21,\n",
       " 'DealWiz': 20,\n",
       " 'TechSavings': 29,\n",
       " 'Eurocom Corporation': 35,\n",
       " 'CFI eStore': 3,\n",
       " 'Experimax': 14,\n",
       " 'Vertex Nano Technology': 9,\n",
       " 'Outdoor Laptops': 22,\n",
       " 'Compute4Less Corp': 2,\n",
       " 'Wintronic Computers Plus': 31,\n",
       " 'Canadian Electronics': 7,\n",
       " 'TECDATA ENGINEERS': 3,\n",
       " 'Best Tech Canada': 3,\n",
       " 'COMPACCESSORIES': 3,\n",
       " 'RUGGEDBOOKS Inc.': 26,\n",
       " 'Deals Next Door': 2,\n",
       " 'ITFactory': 3,\n",
       " 'Quick Tech': 4,\n",
       " 'TTWILI': 5,\n",
       " 'TechGenius': 17,\n",
       " 'Dr. Liquidator': 2,\n",
       " 'Fast Distribution': 2,\n",
       " 'Dealfactor Canada': 8,\n",
       " 'Refurbanana': 2,\n",
       " None: 2,\n",
       " 'EXPERTPRO': 12,\n",
       " 'Conquest Distributors': 2,\n",
       " 'Canada cellular': 7,\n",
       " 'Urban Inspirations': 2,\n",
       " 'YY Page': 2,\n",
       " '123wowdeals': 6,\n",
       " 'TiGuyCo Plus': 2,\n",
       " 'Sunterra Equipment Inc': 16,\n",
       " 'Datamatrix': 4,\n",
       " 'DigitalShopper': 8,\n",
       " 'ULTIMAXX CANADA': 4,\n",
       " 'CLX Gaming': 13,\n",
       " 'Micropeer': 2,\n",
       " 'Cellular Tech': 2,\n",
       " 'Techville': 2,\n",
       " 'GADGET HOUSE': 2,\n",
       " 'ERA': 3,\n",
       " 'SABJOL': 2,\n",
       " 'Brands World': 2,\n",
       " 'Simple Boutique': 2}"
      ]
     },
     "execution_count": 6,
     "metadata": {},
     "output_type": "execute_result"
    }
   ],
   "source": [
    "notBB = df[~df['Seller'].isnull()]\n",
    "BB = df[df['Seller'].isnull()]\n",
    "\n",
    "seller = [notBB['Seller'].iloc[i].get('Name') for i in range(0,len(notBB))]\n",
    "sellunique =[] \n",
    "numsell = {} \n",
    "\n",
    "for x in seller: \n",
    "    if x not in sellunique: \n",
    "        sellunique.append(x)\n",
    "        numsell[x] = 1\n",
    "    if x in sellunique: \n",
    "        numsell[x] += 1 \n",
    "\n",
    "sellunique\n",
    "numsell"
   ]
  },
  {
   "cell_type": "code",
   "execution_count": 94,
   "metadata": {},
   "outputs": [
    {
     "ename": "KeyError",
     "evalue": "'seller_name'",
     "output_type": "error",
     "traceback": [
      "\u001b[1;31m---------------------------------------------------------------------------\u001b[0m",
      "\u001b[1;31mKeyError\u001b[0m                                  Traceback (most recent call last)",
      "\u001b[1;32m~\\Anaconda3\\lib\\site-packages\\pandas\\core\\indexes\\base.py\u001b[0m in \u001b[0;36mget_loc\u001b[1;34m(self, key, method, tolerance)\u001b[0m\n\u001b[0;32m   2896\u001b[0m             \u001b[1;32mtry\u001b[0m\u001b[1;33m:\u001b[0m\u001b[1;33m\u001b[0m\u001b[1;33m\u001b[0m\u001b[0m\n\u001b[1;32m-> 2897\u001b[1;33m                 \u001b[1;32mreturn\u001b[0m \u001b[0mself\u001b[0m\u001b[1;33m.\u001b[0m\u001b[0m_engine\u001b[0m\u001b[1;33m.\u001b[0m\u001b[0mget_loc\u001b[0m\u001b[1;33m(\u001b[0m\u001b[0mkey\u001b[0m\u001b[1;33m)\u001b[0m\u001b[1;33m\u001b[0m\u001b[1;33m\u001b[0m\u001b[0m\n\u001b[0m\u001b[0;32m   2898\u001b[0m             \u001b[1;32mexcept\u001b[0m \u001b[0mKeyError\u001b[0m\u001b[1;33m:\u001b[0m\u001b[1;33m\u001b[0m\u001b[1;33m\u001b[0m\u001b[0m\n",
      "\u001b[1;32mpandas\\_libs\\index.pyx\u001b[0m in \u001b[0;36mpandas._libs.index.IndexEngine.get_loc\u001b[1;34m()\u001b[0m\n",
      "\u001b[1;32mpandas\\_libs\\index.pyx\u001b[0m in \u001b[0;36mpandas._libs.index.IndexEngine.get_loc\u001b[1;34m()\u001b[0m\n",
      "\u001b[1;32mpandas\\_libs\\hashtable_class_helper.pxi\u001b[0m in \u001b[0;36mpandas._libs.hashtable.PyObjectHashTable.get_item\u001b[1;34m()\u001b[0m\n",
      "\u001b[1;32mpandas\\_libs\\hashtable_class_helper.pxi\u001b[0m in \u001b[0;36mpandas._libs.hashtable.PyObjectHashTable.get_item\u001b[1;34m()\u001b[0m\n",
      "\u001b[1;31mKeyError\u001b[0m: 'seller_name'",
      "\nDuring handling of the above exception, another exception occurred:\n",
      "\u001b[1;31mKeyError\u001b[0m                                  Traceback (most recent call last)",
      "\u001b[1;32m<ipython-input-94-9c492a9a635b>\u001b[0m in \u001b[0;36m<module>\u001b[1;34m\u001b[0m\n\u001b[1;32m----> 1\u001b[1;33m \u001b[0mnotBB\u001b[0m\u001b[1;33m[\u001b[0m\u001b[1;34m'seller_name'\u001b[0m\u001b[1;33m]\u001b[0m\u001b[1;33m\u001b[0m\u001b[1;33m\u001b[0m\u001b[0m\n\u001b[0m",
      "\u001b[1;32m~\\Anaconda3\\lib\\site-packages\\pandas\\core\\frame.py\u001b[0m in \u001b[0;36m__getitem__\u001b[1;34m(self, key)\u001b[0m\n\u001b[0;32m   2978\u001b[0m             \u001b[1;32mif\u001b[0m \u001b[0mself\u001b[0m\u001b[1;33m.\u001b[0m\u001b[0mcolumns\u001b[0m\u001b[1;33m.\u001b[0m\u001b[0mnlevels\u001b[0m \u001b[1;33m>\u001b[0m \u001b[1;36m1\u001b[0m\u001b[1;33m:\u001b[0m\u001b[1;33m\u001b[0m\u001b[1;33m\u001b[0m\u001b[0m\n\u001b[0;32m   2979\u001b[0m                 \u001b[1;32mreturn\u001b[0m \u001b[0mself\u001b[0m\u001b[1;33m.\u001b[0m\u001b[0m_getitem_multilevel\u001b[0m\u001b[1;33m(\u001b[0m\u001b[0mkey\u001b[0m\u001b[1;33m)\u001b[0m\u001b[1;33m\u001b[0m\u001b[1;33m\u001b[0m\u001b[0m\n\u001b[1;32m-> 2980\u001b[1;33m             \u001b[0mindexer\u001b[0m \u001b[1;33m=\u001b[0m \u001b[0mself\u001b[0m\u001b[1;33m.\u001b[0m\u001b[0mcolumns\u001b[0m\u001b[1;33m.\u001b[0m\u001b[0mget_loc\u001b[0m\u001b[1;33m(\u001b[0m\u001b[0mkey\u001b[0m\u001b[1;33m)\u001b[0m\u001b[1;33m\u001b[0m\u001b[1;33m\u001b[0m\u001b[0m\n\u001b[0m\u001b[0;32m   2981\u001b[0m             \u001b[1;32mif\u001b[0m \u001b[0mis_integer\u001b[0m\u001b[1;33m(\u001b[0m\u001b[0mindexer\u001b[0m\u001b[1;33m)\u001b[0m\u001b[1;33m:\u001b[0m\u001b[1;33m\u001b[0m\u001b[1;33m\u001b[0m\u001b[0m\n\u001b[0;32m   2982\u001b[0m                 \u001b[0mindexer\u001b[0m \u001b[1;33m=\u001b[0m \u001b[1;33m[\u001b[0m\u001b[0mindexer\u001b[0m\u001b[1;33m]\u001b[0m\u001b[1;33m\u001b[0m\u001b[1;33m\u001b[0m\u001b[0m\n",
      "\u001b[1;32m~\\Anaconda3\\lib\\site-packages\\pandas\\core\\indexes\\base.py\u001b[0m in \u001b[0;36mget_loc\u001b[1;34m(self, key, method, tolerance)\u001b[0m\n\u001b[0;32m   2897\u001b[0m                 \u001b[1;32mreturn\u001b[0m \u001b[0mself\u001b[0m\u001b[1;33m.\u001b[0m\u001b[0m_engine\u001b[0m\u001b[1;33m.\u001b[0m\u001b[0mget_loc\u001b[0m\u001b[1;33m(\u001b[0m\u001b[0mkey\u001b[0m\u001b[1;33m)\u001b[0m\u001b[1;33m\u001b[0m\u001b[1;33m\u001b[0m\u001b[0m\n\u001b[0;32m   2898\u001b[0m             \u001b[1;32mexcept\u001b[0m \u001b[0mKeyError\u001b[0m\u001b[1;33m:\u001b[0m\u001b[1;33m\u001b[0m\u001b[1;33m\u001b[0m\u001b[0m\n\u001b[1;32m-> 2899\u001b[1;33m                 \u001b[1;32mreturn\u001b[0m \u001b[0mself\u001b[0m\u001b[1;33m.\u001b[0m\u001b[0m_engine\u001b[0m\u001b[1;33m.\u001b[0m\u001b[0mget_loc\u001b[0m\u001b[1;33m(\u001b[0m\u001b[0mself\u001b[0m\u001b[1;33m.\u001b[0m\u001b[0m_maybe_cast_indexer\u001b[0m\u001b[1;33m(\u001b[0m\u001b[0mkey\u001b[0m\u001b[1;33m)\u001b[0m\u001b[1;33m)\u001b[0m\u001b[1;33m\u001b[0m\u001b[1;33m\u001b[0m\u001b[0m\n\u001b[0m\u001b[0;32m   2900\u001b[0m         \u001b[0mindexer\u001b[0m \u001b[1;33m=\u001b[0m \u001b[0mself\u001b[0m\u001b[1;33m.\u001b[0m\u001b[0mget_indexer\u001b[0m\u001b[1;33m(\u001b[0m\u001b[1;33m[\u001b[0m\u001b[0mkey\u001b[0m\u001b[1;33m]\u001b[0m\u001b[1;33m,\u001b[0m \u001b[0mmethod\u001b[0m\u001b[1;33m=\u001b[0m\u001b[0mmethod\u001b[0m\u001b[1;33m,\u001b[0m \u001b[0mtolerance\u001b[0m\u001b[1;33m=\u001b[0m\u001b[0mtolerance\u001b[0m\u001b[1;33m)\u001b[0m\u001b[1;33m\u001b[0m\u001b[1;33m\u001b[0m\u001b[0m\n\u001b[0;32m   2901\u001b[0m         \u001b[1;32mif\u001b[0m \u001b[0mindexer\u001b[0m\u001b[1;33m.\u001b[0m\u001b[0mndim\u001b[0m \u001b[1;33m>\u001b[0m \u001b[1;36m1\u001b[0m \u001b[1;32mor\u001b[0m \u001b[0mindexer\u001b[0m\u001b[1;33m.\u001b[0m\u001b[0msize\u001b[0m \u001b[1;33m>\u001b[0m \u001b[1;36m1\u001b[0m\u001b[1;33m:\u001b[0m\u001b[1;33m\u001b[0m\u001b[1;33m\u001b[0m\u001b[0m\n",
      "\u001b[1;32mpandas\\_libs\\index.pyx\u001b[0m in \u001b[0;36mpandas._libs.index.IndexEngine.get_loc\u001b[1;34m()\u001b[0m\n",
      "\u001b[1;32mpandas\\_libs\\index.pyx\u001b[0m in \u001b[0;36mpandas._libs.index.IndexEngine.get_loc\u001b[1;34m()\u001b[0m\n",
      "\u001b[1;32mpandas\\_libs\\hashtable_class_helper.pxi\u001b[0m in \u001b[0;36mpandas._libs.hashtable.PyObjectHashTable.get_item\u001b[1;34m()\u001b[0m\n",
      "\u001b[1;32mpandas\\_libs\\hashtable_class_helper.pxi\u001b[0m in \u001b[0;36mpandas._libs.hashtable.PyObjectHashTable.get_item\u001b[1;34m()\u001b[0m\n",
      "\u001b[1;31mKeyError\u001b[0m: 'seller_name'"
     ]
    }
   ],
   "source": [
    "notBB['seller_name']"
   ]
  },
  {
   "cell_type": "markdown",
   "metadata": {},
   "source": [
    "## Description Score"
   ]
  },
  {
   "cell_type": "code",
   "execution_count": 7,
   "metadata": {},
   "outputs": [
    {
     "name": "stdout",
     "output_type": "stream",
     "text": [
      "48.26229508196721\n",
      "51.14862385321101\n"
     ]
    }
   ],
   "source": [
    "desclen = [len(notBB['ShortDescription'].iloc[i].split()) for i in range(0,len(notBB))]\n",
    "uniqlen = [len(set(notBB['ShortDescription'].iloc[i].split())) for i in range(0,len(notBB))]\n",
    "\n",
    "BBlen = [len((BB['ShortDescription'].iloc[i].split())) for i in range(0,len(BB))]\n",
    "BBuniqlen = [len(set(BB['ShortDescription'].iloc[i].split())) for i in range(0,len(BB))]\n",
    "print(mean(uniqlen))\n",
    "print(mean(BBuniqlen))"
   ]
  },
  {
   "cell_type": "code",
   "execution_count": 8,
   "metadata": {},
   "outputs": [],
   "source": [
    "numworddiff = [i/mean(BBlen) for i in desclen]"
   ]
  },
  {
   "cell_type": "code",
   "execution_count": 9,
   "metadata": {},
   "outputs": [
    {
     "data": {
      "text/plain": [
       "hd       9424\n",
       "10       8019\n",
       "intel    7139\n",
       "ram      6851\n",
       "ssd      6559\n",
       "dtype: int64"
      ]
     },
     "execution_count": 9,
     "metadata": {},
     "output_type": "execute_result"
    }
   ],
   "source": [
    "shortdesc = notBB['ShortDescription']\n",
    "wordcount = cv.fit_transform(shortdesc).toarray()\n",
    "wordcount = pd.DataFrame(wordcount, columns=cv.get_feature_names())\n",
    "wordlist = wordcount.sum(axis=0).sort_values(ascending=False).index.tolist()\n",
    "wordcount.sum(axis=0).sort_values(ascending=False)[0:5]"
   ]
  },
  {
   "cell_type": "code",
   "execution_count": 10,
   "metadata": {},
   "outputs": [
    {
     "data": {
      "text/plain": [
       "laptop       586\n",
       "strong       470\n",
       "processor    426\n",
       "core         389\n",
       "ram          383\n",
       "dtype: int64"
      ]
     },
     "execution_count": 10,
     "metadata": {},
     "output_type": "execute_result"
    }
   ],
   "source": [
    "BBshortdesc = BB['ShortDescription']\n",
    "BBwordcount = cv.fit_transform(BBshortdesc).toarray()\n",
    "BBwordcount = pd.DataFrame(BBwordcount, columns=cv.get_feature_names())\n",
    "BBwordlist = BBwordcount.sum(axis=0).sort_values(ascending=False).index.tolist()\n",
    "BBwordcount.sum(axis=0).sort_values(ascending=False)[0:5]"
   ]
  },
  {
   "cell_type": "code",
   "execution_count": 11,
   "metadata": {},
   "outputs": [],
   "source": [
    "wordinlist = [[j for j in notBB['ShortDescription'].iloc[i].split() \n",
    "               if j in BBwordlist] \n",
    "              for i in range(0,len(notBB))]\n",
    "\n",
    "BBinlist = [len([j for j in BB['ShortDescription'].iloc[i].split() \n",
    "                 if j in BBwordlist]) \n",
    "            for i in range(0,len(BB))]\n",
    "\n",
    "propinlist = [len(wordinlist[i])/uniqlen[i]\n",
    "              for i in range(0,len(wordinlist))]"
   ]
  },
  {
   "cell_type": "code",
   "execution_count": 12,
   "metadata": {},
   "outputs": [
    {
     "name": "stderr",
     "output_type": "stream",
     "text": [
      "C:\\Users\\user\\Anaconda3\\lib\\site-packages\\ipykernel_launcher.py:1: SettingWithCopyWarning: \n",
      "A value is trying to be set on a copy of a slice from a DataFrame.\n",
      "Try using .loc[row_indexer,col_indexer] = value instead\n",
      "\n",
      "See the caveats in the documentation: http://pandas.pydata.org/pandas-docs/stable/user_guide/indexing.html#returning-a-view-versus-a-copy\n",
      "  \"\"\"Entry point for launching an IPython kernel.\n",
      "C:\\Users\\user\\Anaconda3\\lib\\site-packages\\ipykernel_launcher.py:4: SettingWithCopyWarning: \n",
      "A value is trying to be set on a copy of a slice from a DataFrame.\n",
      "Try using .loc[row_indexer,col_indexer] = value instead\n",
      "\n",
      "See the caveats in the documentation: http://pandas.pydata.org/pandas-docs/stable/user_guide/indexing.html#returning-a-view-versus-a-copy\n",
      "  after removing the cwd from sys.path.\n",
      "C:\\Users\\user\\Anaconda3\\lib\\site-packages\\ipykernel_launcher.py:6: SettingWithCopyWarning: \n",
      "A value is trying to be set on a copy of a slice from a DataFrame.\n",
      "Try using .loc[row_indexer,col_indexer] = value instead\n",
      "\n",
      "See the caveats in the documentation: http://pandas.pydata.org/pandas-docs/stable/user_guide/indexing.html#returning-a-view-versus-a-copy\n",
      "  \n",
      "C:\\Users\\user\\Anaconda3\\lib\\site-packages\\ipykernel_launcher.py:7: SettingWithCopyWarning: \n",
      "A value is trying to be set on a copy of a slice from a DataFrame.\n",
      "Try using .loc[row_indexer,col_indexer] = value instead\n",
      "\n",
      "See the caveats in the documentation: http://pandas.pydata.org/pandas-docs/stable/user_guide/indexing.html#returning-a-view-versus-a-copy\n",
      "  import sys\n"
     ]
    }
   ],
   "source": [
    "notBB['sellername'] = seller\n",
    "#notBB['length'] = desclen\n",
    "#notBB['uniquelength'] = uniqlen\n",
    "notBB['proportionlength'] = numworddiff\n",
    "#notBB['wordsinlist'] = wordinlist\n",
    "notBB['proportioninlist'] = propinlist\n",
    "notBB['descrscore'] = (notBB['proportionlength'] + notBB['proportioninlist'])/2"
   ]
  },
  {
   "cell_type": "markdown",
   "metadata": {},
   "source": [
    "## Title Score"
   ]
  },
  {
   "cell_type": "code",
   "execution_count": 13,
   "metadata": {},
   "outputs": [
    {
     "name": "stdout",
     "output_type": "stream",
     "text": [
      "18.864516129032257\n",
      "14.906422018348623\n"
     ]
    }
   ],
   "source": [
    "titlen = [len((notBB['Name'].iloc[i].split())) for i in range(0,len(notBB))]\n",
    "BBtitlen = [len((BB['Name'].iloc[i].split())) for i in range(0,len(BB))]\n",
    "\n",
    "tituniqlen = [len(set(notBB['Name'].iloc[i].split())) for i in range(0,len(notBB))]\n",
    "BBtituniqlen = [len(set(BB['Name'].iloc[i].split())) for i in range(0,len(BB))]\n",
    "titlediff = [max(0,min(min(2-i/mean(BBtitlen),1),i/mean(BBtitlen))) for i in titlen]\n",
    "\n",
    "print(mean(titlen))\n",
    "print(mean(BBtitlen))"
   ]
  },
  {
   "cell_type": "code",
   "execution_count": 14,
   "metadata": {},
   "outputs": [
    {
     "data": {
      "text/plain": [
       "ram       7530\n",
       "laptop    6503\n",
       "intel     6415\n",
       "ssd       6173\n",
       "custom    5024\n",
       "dtype: int64"
      ]
     },
     "execution_count": 14,
     "metadata": {},
     "output_type": "execute_result"
    }
   ],
   "source": [
    "title = notBB['Name']\n",
    "titlecount = cv.fit_transform(title).toarray()\n",
    "titlecount = pd.DataFrame(titlecount, columns=cv.get_feature_names())\n",
    "titlelist = titlecount.sum(axis=0).sort_values(ascending=False).index.tolist()\n",
    "titlecount.sum(axis=0).sort_values(ascending=False)[0:5]"
   ]
  },
  {
   "cell_type": "code",
   "execution_count": 15,
   "metadata": {},
   "outputs": [
    {
     "data": {
      "text/plain": [
       "ram       541\n",
       "intel     450\n",
       "laptop    438\n",
       "ssd       402\n",
       "core      399\n",
       "dtype: int64"
      ]
     },
     "execution_count": 15,
     "metadata": {},
     "output_type": "execute_result"
    }
   ],
   "source": [
    "BBtitle = BB['Name']\n",
    "BBtitlecount = cv.fit_transform(BBtitle).toarray()\n",
    "BBtitlecount = pd.DataFrame(BBtitlecount, columns=cv.get_feature_names())\n",
    "BBtitlelist = BBtitlecount.sum(axis=0).sort_values(ascending=False).index.tolist()\n",
    "BBtitlecount.sum(axis=0).sort_values(ascending=False)[0:5]"
   ]
  },
  {
   "cell_type": "code",
   "execution_count": 16,
   "metadata": {},
   "outputs": [],
   "source": [
    "titleinlist = [[j for j in notBB['Name'].iloc[i].split() \n",
    "               if j.lower() in keyword[notBB['CategoryName'].iloc[i]]] \n",
    "               for i in range(0,len(notBB))]\n",
    "\n",
    "BBtitleinlist = [len([j for j in BB['Name'].iloc[i].split() \n",
    "                      if j.lower() in keyword[notBB['CategoryName'].iloc[i]]]) \n",
    "                 for i in range(0,len(BB))]\n",
    "\n",
    "proptitleinlist = [len(titleinlist[i])/tituniqlen[i] \n",
    "                   for i in range(0,len(wordinlist))]\n",
    "\n",
    "#proptitleinlist = [len(titleinlist[i])/tituniqlen[i] * (mean(BBtitleinlist)/mean(BBtituniqlen)) for i in range(0,len(wordinlist))]"
   ]
  },
  {
   "cell_type": "code",
   "execution_count": 17,
   "metadata": {},
   "outputs": [
    {
     "name": "stderr",
     "output_type": "stream",
     "text": [
      "C:\\Users\\user\\Anaconda3\\lib\\site-packages\\ipykernel_launcher.py:2: SettingWithCopyWarning: \n",
      "A value is trying to be set on a copy of a slice from a DataFrame.\n",
      "Try using .loc[row_indexer,col_indexer] = value instead\n",
      "\n",
      "See the caveats in the documentation: http://pandas.pydata.org/pandas-docs/stable/user_guide/indexing.html#returning-a-view-versus-a-copy\n",
      "  \n",
      "C:\\Users\\user\\Anaconda3\\lib\\site-packages\\ipykernel_launcher.py:4: SettingWithCopyWarning: \n",
      "A value is trying to be set on a copy of a slice from a DataFrame.\n",
      "Try using .loc[row_indexer,col_indexer] = value instead\n",
      "\n",
      "See the caveats in the documentation: http://pandas.pydata.org/pandas-docs/stable/user_guide/indexing.html#returning-a-view-versus-a-copy\n",
      "  after removing the cwd from sys.path.\n",
      "C:\\Users\\user\\Anaconda3\\lib\\site-packages\\ipykernel_launcher.py:5: SettingWithCopyWarning: \n",
      "A value is trying to be set on a copy of a slice from a DataFrame.\n",
      "Try using .loc[row_indexer,col_indexer] = value instead\n",
      "\n",
      "See the caveats in the documentation: http://pandas.pydata.org/pandas-docs/stable/user_guide/indexing.html#returning-a-view-versus-a-copy\n",
      "  \"\"\"\n"
     ]
    }
   ],
   "source": [
    "#notBB['titlelength'] = titlen\n",
    "notBB['proportiontitle'] = titlediff\n",
    "#notBB['titleinlist'] = titleinlist\n",
    "notBB['proptitleinlist'] = proptitleinlist\n",
    "notBB['titlescore'] = (notBB['proportiontitle'] + notBB['proptitleinlist'])/2"
   ]
  },
  {
   "cell_type": "code",
   "execution_count": 18,
   "metadata": {},
   "outputs": [
    {
     "data": {
      "text/html": [
       "<div>\n",
       "<style scoped>\n",
       "    .dataframe tbody tr th:only-of-type {\n",
       "        vertical-align: middle;\n",
       "    }\n",
       "\n",
       "    .dataframe tbody tr th {\n",
       "        vertical-align: top;\n",
       "    }\n",
       "\n",
       "    .dataframe thead th {\n",
       "        text-align: right;\n",
       "    }\n",
       "</style>\n",
       "<table border=\"1\" class=\"dataframe\">\n",
       "  <thead>\n",
       "    <tr style=\"text-align: right;\">\n",
       "      <th></th>\n",
       "      <th>index</th>\n",
       "      <th>CategoryName</th>\n",
       "      <th>CustomerRating</th>\n",
       "      <th>CustomerRatingCount</th>\n",
       "      <th>CustomerReviewCount</th>\n",
       "      <th>DisplayEndDateTime</th>\n",
       "      <th>DisplayStartDateTime</th>\n",
       "      <th>Ehf</th>\n",
       "      <th>HasFrenchContent</th>\n",
       "      <th>HasPromotion</th>\n",
       "      <th>...</th>\n",
       "      <th>ThumbnailImage</th>\n",
       "      <th>highResImage</th>\n",
       "      <th>isVisible</th>\n",
       "      <th>sellername</th>\n",
       "      <th>proportionlength</th>\n",
       "      <th>proportioninlist</th>\n",
       "      <th>descrscore</th>\n",
       "      <th>proportiontitle</th>\n",
       "      <th>proptitleinlist</th>\n",
       "      <th>titlescore</th>\n",
       "    </tr>\n",
       "  </thead>\n",
       "  <tbody>\n",
       "    <tr>\n",
       "      <td>18</td>\n",
       "      <td>18</td>\n",
       "      <td>Laptops</td>\n",
       "      <td>4</td>\n",
       "      <td>3</td>\n",
       "      <td>3</td>\n",
       "      <td>{'@xsi:nil': 'true'}</td>\n",
       "      <td>{'@xsi:nil': 'true'}</td>\n",
       "      <td>0</td>\n",
       "      <td>false</td>\n",
       "      <td>true</td>\n",
       "      <td>...</td>\n",
       "      <td>https://multimedia.bbycastatic.ca/multimedia/p...</td>\n",
       "      <td>https://multimedia.bbycastatic.ca/multimedia/p...</td>\n",
       "      <td>true</td>\n",
       "      <td>Microcad Computer Corporation</td>\n",
       "      <td>0.209119</td>\n",
       "      <td>0.000000</td>\n",
       "      <td>0.104560</td>\n",
       "      <td>0.524126</td>\n",
       "      <td>0.833333</td>\n",
       "      <td>0.678730</td>\n",
       "    </tr>\n",
       "    <tr>\n",
       "      <td>26</td>\n",
       "      <td>26</td>\n",
       "      <td>Chromebooks</td>\n",
       "      <td>0</td>\n",
       "      <td>0</td>\n",
       "      <td>0</td>\n",
       "      <td>{'@xsi:nil': 'true'}</td>\n",
       "      <td>{'@xsi:nil': 'true'}</td>\n",
       "      <td>0</td>\n",
       "      <td>false</td>\n",
       "      <td>true</td>\n",
       "      <td>...</td>\n",
       "      <td>https://multimedia.bbycastatic.ca/multimedia/p...</td>\n",
       "      <td>https://multimedia.bbycastatic.ca/multimedia/p...</td>\n",
       "      <td>true</td>\n",
       "      <td>Microcad Computer Corporation</td>\n",
       "      <td>0.400812</td>\n",
       "      <td>0.086957</td>\n",
       "      <td>0.243884</td>\n",
       "      <td>0.725382</td>\n",
       "      <td>0.526316</td>\n",
       "      <td>0.625849</td>\n",
       "    </tr>\n",
       "    <tr>\n",
       "      <td>29</td>\n",
       "      <td>29</td>\n",
       "      <td>Chromebooks</td>\n",
       "      <td>0</td>\n",
       "      <td>0</td>\n",
       "      <td>0</td>\n",
       "      <td>{'@xsi:nil': 'true'}</td>\n",
       "      <td>{'@xsi:nil': 'true'}</td>\n",
       "      <td>0</td>\n",
       "      <td>false</td>\n",
       "      <td>true</td>\n",
       "      <td>...</td>\n",
       "      <td>https://multimedia.bbycastatic.ca/multimedia/p...</td>\n",
       "      <td>https://multimedia.bbycastatic.ca/multimedia/p...</td>\n",
       "      <td>true</td>\n",
       "      <td>Microcad Computer Corporation</td>\n",
       "      <td>0.505372</td>\n",
       "      <td>0.000000</td>\n",
       "      <td>0.252686</td>\n",
       "      <td>0.658296</td>\n",
       "      <td>0.550000</td>\n",
       "      <td>0.604148</td>\n",
       "    </tr>\n",
       "    <tr>\n",
       "      <td>35</td>\n",
       "      <td>35</td>\n",
       "      <td>Apple MacBook Pro</td>\n",
       "      <td>0</td>\n",
       "      <td>0</td>\n",
       "      <td>0</td>\n",
       "      <td>{'@xsi:nil': 'true'}</td>\n",
       "      <td>{'@xsi:nil': 'true'}</td>\n",
       "      <td>0</td>\n",
       "      <td>false</td>\n",
       "      <td>true</td>\n",
       "      <td>...</td>\n",
       "      <td>https://multimedia.bbycastatic.ca/multimedia/p...</td>\n",
       "      <td>https://multimedia.bbycastatic.ca/multimedia/p...</td>\n",
       "      <td>true</td>\n",
       "      <td>TVOUTLET</td>\n",
       "      <td>0.975891</td>\n",
       "      <td>0.204082</td>\n",
       "      <td>0.589986</td>\n",
       "      <td>0.524126</td>\n",
       "      <td>0.500000</td>\n",
       "      <td>0.512063</td>\n",
       "    </tr>\n",
       "    <tr>\n",
       "      <td>42</td>\n",
       "      <td>42</td>\n",
       "      <td>Laptops</td>\n",
       "      <td>2</td>\n",
       "      <td>1</td>\n",
       "      <td>1</td>\n",
       "      <td>{'@xsi:nil': 'true'}</td>\n",
       "      <td>{'@xsi:nil': 'true'}</td>\n",
       "      <td>0</td>\n",
       "      <td>false</td>\n",
       "      <td>true</td>\n",
       "      <td>...</td>\n",
       "      <td>https://multimedia.bbycastatic.ca/multimedia/p...</td>\n",
       "      <td>https://multimedia.bbycastatic.ca/multimedia/p...</td>\n",
       "      <td>true</td>\n",
       "      <td>Microcad Computer Corporation</td>\n",
       "      <td>0.714491</td>\n",
       "      <td>0.184211</td>\n",
       "      <td>0.449351</td>\n",
       "      <td>0.524126</td>\n",
       "      <td>0.681818</td>\n",
       "      <td>0.602972</td>\n",
       "    </tr>\n",
       "  </tbody>\n",
       "</table>\n",
       "<p>5 rows × 42 columns</p>\n",
       "</div>"
      ],
      "text/plain": [
       "    index       CategoryName CustomerRating CustomerRatingCount  \\\n",
       "18     18            Laptops              4                   3   \n",
       "26     26        Chromebooks              0                   0   \n",
       "29     29        Chromebooks              0                   0   \n",
       "35     35  Apple MacBook Pro              0                   0   \n",
       "42     42            Laptops              2                   1   \n",
       "\n",
       "   CustomerReviewCount    DisplayEndDateTime  DisplayStartDateTime Ehf  \\\n",
       "18                   3  {'@xsi:nil': 'true'}  {'@xsi:nil': 'true'}   0   \n",
       "26                   0  {'@xsi:nil': 'true'}  {'@xsi:nil': 'true'}   0   \n",
       "29                   0  {'@xsi:nil': 'true'}  {'@xsi:nil': 'true'}   0   \n",
       "35                   0  {'@xsi:nil': 'true'}  {'@xsi:nil': 'true'}   0   \n",
       "42                   1  {'@xsi:nil': 'true'}  {'@xsi:nil': 'true'}   0   \n",
       "\n",
       "   HasFrenchContent HasPromotion  ...  \\\n",
       "18            false         true  ...   \n",
       "26            false         true  ...   \n",
       "29            false         true  ...   \n",
       "35            false         true  ...   \n",
       "42            false         true  ...   \n",
       "\n",
       "                                       ThumbnailImage  \\\n",
       "18  https://multimedia.bbycastatic.ca/multimedia/p...   \n",
       "26  https://multimedia.bbycastatic.ca/multimedia/p...   \n",
       "29  https://multimedia.bbycastatic.ca/multimedia/p...   \n",
       "35  https://multimedia.bbycastatic.ca/multimedia/p...   \n",
       "42  https://multimedia.bbycastatic.ca/multimedia/p...   \n",
       "\n",
       "                                         highResImage isVisible  \\\n",
       "18  https://multimedia.bbycastatic.ca/multimedia/p...      true   \n",
       "26  https://multimedia.bbycastatic.ca/multimedia/p...      true   \n",
       "29  https://multimedia.bbycastatic.ca/multimedia/p...      true   \n",
       "35  https://multimedia.bbycastatic.ca/multimedia/p...      true   \n",
       "42  https://multimedia.bbycastatic.ca/multimedia/p...      true   \n",
       "\n",
       "                       sellername proportionlength proportioninlist  \\\n",
       "18  Microcad Computer Corporation         0.209119         0.000000   \n",
       "26  Microcad Computer Corporation         0.400812         0.086957   \n",
       "29  Microcad Computer Corporation         0.505372         0.000000   \n",
       "35                       TVOUTLET         0.975891         0.204082   \n",
       "42  Microcad Computer Corporation         0.714491         0.184211   \n",
       "\n",
       "   descrscore proportiontitle proptitleinlist titlescore  \n",
       "18   0.104560        0.524126        0.833333   0.678730  \n",
       "26   0.243884        0.725382        0.526316   0.625849  \n",
       "29   0.252686        0.658296        0.550000   0.604148  \n",
       "35   0.589986        0.524126        0.500000   0.512063  \n",
       "42   0.449351        0.524126        0.681818   0.602972  \n",
       "\n",
       "[5 rows x 42 columns]"
      ]
     },
     "execution_count": 18,
     "metadata": {},
     "output_type": "execute_result"
    }
   ],
   "source": [
    "notBB.head()"
   ]
  },
  {
   "cell_type": "markdown",
   "metadata": {},
   "source": [
    "## Image"
   ]
  },
  {
   "cell_type": "code",
   "execution_count": 19,
   "metadata": {
    "scrolled": false
   },
   "outputs": [
    {
     "name": "stderr",
     "output_type": "stream",
     "text": [
      "C:\\Users\\user\\Anaconda3\\lib\\site-packages\\ipykernel_launcher.py:1: SettingWithCopyWarning: \n",
      "A value is trying to be set on a copy of a slice from a DataFrame.\n",
      "Try using .loc[row_indexer,col_indexer] = value instead\n",
      "\n",
      "See the caveats in the documentation: http://pandas.pydata.org/pandas-docs/stable/user_guide/indexing.html#returning-a-view-versus-a-copy\n",
      "  \"\"\"Entry point for launching an IPython kernel.\n",
      "C:\\Users\\user\\Anaconda3\\lib\\site-packages\\pandas\\core\\indexing.py:205: SettingWithCopyWarning: \n",
      "A value is trying to be set on a copy of a slice from a DataFrame\n",
      "\n",
      "See the caveats in the documentation: http://pandas.pydata.org/pandas-docs/stable/user_guide/indexing.html#returning-a-view-versus-a-copy\n",
      "  self._setitem_with_indexer(indexer, value)\n",
      "C:\\Users\\user\\Anaconda3\\lib\\site-packages\\ipykernel_launcher.py:5: SettingWithCopyWarning: \n",
      "A value is trying to be set on a copy of a slice from a DataFrame\n",
      "\n",
      "See the caveats in the documentation: http://pandas.pydata.org/pandas-docs/stable/user_guide/indexing.html#returning-a-view-versus-a-copy\n",
      "  \"\"\"\n"
     ]
    },
    {
     "data": {
      "text/plain": [
       "18    1\n",
       "26    1\n",
       "29    1\n",
       "35    1\n",
       "42    1\n",
       "Name: imgscore, dtype: int64"
      ]
     },
     "execution_count": 19,
     "metadata": {},
     "output_type": "execute_result"
    }
   ],
   "source": [
    "notBB['imgscore'] = 0 \n",
    "\n",
    "for i in range(0,notBB.shape[0]):\n",
    "    if notBB.highResImage.iloc[i] != np.nan: \n",
    "        notBB.imgscore.iloc[i] = 1 \n",
    "    elif notBB.ThumbnailImage.iloc[i] != np.nan: \n",
    "        notBB.imgscore.iloc[i] = 0.5 \n",
    "    else:\n",
    "        notBB.imgscore.iloc[i] = 0 \n",
    "\n",
    "notBB['imgscore'].head()"
   ]
  },
  {
   "cell_type": "markdown",
   "metadata": {},
   "source": [
    "## What's in the Box & Warranty"
   ]
  },
  {
   "cell_type": "code",
   "execution_count": 20,
   "metadata": {},
   "outputs": [],
   "source": [
    "product = pd.read_csv('product_wib.csv')\n",
    "product2 = product[['Name','HasWarranty','WhatsInTheBox']]"
   ]
  },
  {
   "cell_type": "code",
   "execution_count": 21,
   "metadata": {},
   "outputs": [
    {
     "data": {
      "text/plain": [
       "(377, 45)"
      ]
     },
     "execution_count": 21,
     "metadata": {},
     "output_type": "execute_result"
    }
   ],
   "source": [
    "merged = notBB.merge(product2, on='Name')\n",
    "merged.shape"
   ]
  },
  {
   "cell_type": "code",
   "execution_count": 22,
   "metadata": {},
   "outputs": [
    {
     "data": {
      "text/plain": [
       "0      0\n",
       "1      0\n",
       "2      0\n",
       "3      0\n",
       "4      0\n",
       "      ..\n",
       "372    0\n",
       "373    0\n",
       "374    0\n",
       "375    0\n",
       "376    0\n",
       "Name: warrantyscore, Length: 377, dtype: int64"
      ]
     },
     "execution_count": 22,
     "metadata": {},
     "output_type": "execute_result"
    }
   ],
   "source": [
    "merged['warrantyscore'] = 0 \n",
    "\n",
    "for i in range(0,merged.shape[0]):\n",
    "    if merged.HasWarranty.iloc[i] ==True: \n",
    "        merged.warrantyscore.iloc[i] = 1 \n",
    "\n",
    "merged['warrantyscore']"
   ]
  },
  {
   "cell_type": "code",
   "execution_count": 23,
   "metadata": {},
   "outputs": [
    {
     "data": {
      "text/plain": [
       "0      1\n",
       "1      1\n",
       "2      1\n",
       "3      1\n",
       "4      1\n",
       "      ..\n",
       "372    1\n",
       "373    1\n",
       "374    1\n",
       "375    1\n",
       "376    1\n",
       "Name: inboxscore, Length: 377, dtype: int64"
      ]
     },
     "execution_count": 23,
     "metadata": {},
     "output_type": "execute_result"
    }
   ],
   "source": [
    "merged['inboxscore'] = 0 \n",
    "\n",
    "for i in range(0,merged.shape[0]):\n",
    "    if merged.WhatsInTheBox.iloc[i] !=np.nan: \n",
    "        merged.inboxscore.iloc[i] = 1 \n",
    "\n",
    "merged['inboxscore']"
   ]
  },
  {
   "cell_type": "markdown",
   "metadata": {},
   "source": [
    "## Product Spec"
   ]
  },
  {
   "cell_type": "code",
   "execution_count": 43,
   "metadata": {},
   "outputs": [
    {
     "data": {
      "text/plain": [
       "3862"
      ]
     },
     "execution_count": 43,
     "metadata": {},
     "output_type": "execute_result"
    }
   ],
   "source": [
    "#product = pd.read_csv('product_spec.csv')\n",
    "#product.columns\n",
    "#len(product['Specs'][0])"
   ]
  },
  {
   "cell_type": "markdown",
   "metadata": {},
   "source": [
    "Due to time-constraint, we consider generating synthetic data in calculating product specification score."
   ]
  },
  {
   "cell_type": "code",
   "execution_count": 49,
   "metadata": {},
   "outputs": [
    {
     "data": {
      "text/plain": [
       "0      0.751439\n",
       "1      0.486421\n",
       "2      0.173765\n",
       "3      0.421621\n",
       "4      0.868188\n",
       "         ...   \n",
       "372    0.384239\n",
       "373    0.069634\n",
       "374    0.129078\n",
       "375    0.892773\n",
       "376    0.617435\n",
       "Name: specscore, Length: 377, dtype: float64"
      ]
     },
     "execution_count": 49,
     "metadata": {},
     "output_type": "execute_result"
    }
   ],
   "source": [
    "merged['specscore'] = np.random.uniform(0,1,merged.shape[0])\n",
    "merged['specscore']"
   ]
  },
  {
   "cell_type": "markdown",
   "metadata": {},
   "source": [
    "## Final Score"
   ]
  },
  {
   "cell_type": "code",
   "execution_count": 24,
   "metadata": {},
   "outputs": [
    {
     "data": {
      "text/plain": [
       "Index(['index', 'CategoryName', 'CustomerRating', 'CustomerRatingCount',\n",
       "       'CustomerReviewCount', 'DisplayEndDateTime', 'DisplayStartDateTime',\n",
       "       'Ehf', 'HasFrenchContent', 'HasPromotion', 'HideSaleEndDate',\n",
       "       'HideSavings', 'IsAdvertised', 'IsClearance', 'IsFrenchCompliant',\n",
       "       'IsInStoreOnly', 'IsMarketplace', 'IsOnlineOnly', 'IsPreorderable',\n",
       "       'IsPriceEndsLabel', 'Name', 'Page', 'PriceUnit', 'ProductUrl',\n",
       "       'RegularPrice', 'RequiresAgeVerification', 'SaleEndDateTime',\n",
       "       'SalePrice', 'Seller', 'SeoText', 'ShortDescription', 'Sku',\n",
       "       'ThumbnailImage', 'highResImage', 'isVisible', 'sellername',\n",
       "       'proportionlength', 'proportioninlist', 'descrscore', 'proportiontitle',\n",
       "       'proptitleinlist', 'titlescore', 'imgscore'],\n",
       "      dtype='object')"
      ]
     },
     "execution_count": 24,
     "metadata": {},
     "output_type": "execute_result"
    }
   ],
   "source": [
    "notBB.columns"
   ]
  },
  {
   "cell_type": "code",
   "execution_count": 25,
   "metadata": {},
   "outputs": [
    {
     "name": "stderr",
     "output_type": "stream",
     "text": [
      "C:\\Users\\user\\Anaconda3\\lib\\site-packages\\ipykernel_launcher.py:7: SettingWithCopyWarning: \n",
      "A value is trying to be set on a copy of a slice from a DataFrame.\n",
      "Try using .loc[row_indexer,col_indexer] = value instead\n",
      "\n",
      "See the caveats in the documentation: http://pandas.pydata.org/pandas-docs/stable/user_guide/indexing.html#returning-a-view-versus-a-copy\n",
      "  import sys\n"
     ]
    }
   ],
   "source": [
    "## Large Data Set Score\n",
    "description_weight =  15\n",
    "title_weight = 20\n",
    "image_weight = 20\n",
    "\n",
    "allweight = [description_weight,title_weight,image_weight] \n",
    "notBB['final_score'] = (description_weight*notBB['descrscore']+ title_weight*notBB['titlescore'] + image_weight*notBB['imgscore'])/sum(allweight)\n"
   ]
  },
  {
   "cell_type": "markdown",
   "metadata": {},
   "source": [
    "## Subset Data Score"
   ]
  },
  {
   "cell_type": "code",
   "execution_count": 26,
   "metadata": {},
   "outputs": [
    {
     "data": {
      "text/plain": [
       "Index(['index', 'CategoryName', 'CustomerRating', 'CustomerRatingCount',\n",
       "       'CustomerReviewCount', 'DisplayEndDateTime', 'DisplayStartDateTime',\n",
       "       'Ehf', 'HasFrenchContent', 'HasPromotion', 'HideSaleEndDate',\n",
       "       'HideSavings', 'IsAdvertised', 'IsClearance', 'IsFrenchCompliant',\n",
       "       'IsInStoreOnly', 'IsMarketplace', 'IsOnlineOnly', 'IsPreorderable',\n",
       "       'IsPriceEndsLabel', 'Name', 'Page', 'PriceUnit', 'ProductUrl',\n",
       "       'RegularPrice', 'RequiresAgeVerification', 'SaleEndDateTime',\n",
       "       'SalePrice', 'Seller', 'SeoText', 'ShortDescription', 'Sku',\n",
       "       'ThumbnailImage', 'highResImage', 'isVisible', 'sellername',\n",
       "       'proportionlength', 'proportioninlist', 'descrscore', 'proportiontitle',\n",
       "       'proptitleinlist', 'titlescore', 'imgscore', 'HasWarranty',\n",
       "       'WhatsInTheBox', 'warrantyscore', 'inboxscore'],\n",
       "      dtype='object')"
      ]
     },
     "execution_count": 26,
     "metadata": {},
     "output_type": "execute_result"
    }
   ],
   "source": [
    "merged.columns"
   ]
  },
  {
   "cell_type": "code",
   "execution_count": 52,
   "metadata": {},
   "outputs": [
    {
     "data": {
      "text/html": [
       "<div>\n",
       "<style scoped>\n",
       "    .dataframe tbody tr th:only-of-type {\n",
       "        vertical-align: middle;\n",
       "    }\n",
       "\n",
       "    .dataframe tbody tr th {\n",
       "        vertical-align: top;\n",
       "    }\n",
       "\n",
       "    .dataframe thead th {\n",
       "        text-align: right;\n",
       "    }\n",
       "</style>\n",
       "<table border=\"1\" class=\"dataframe\">\n",
       "  <thead>\n",
       "    <tr style=\"text-align: right;\">\n",
       "      <th></th>\n",
       "      <th>index</th>\n",
       "      <th>CategoryName</th>\n",
       "      <th>CustomerRating</th>\n",
       "      <th>CustomerRatingCount</th>\n",
       "      <th>CustomerReviewCount</th>\n",
       "      <th>DisplayEndDateTime</th>\n",
       "      <th>DisplayStartDateTime</th>\n",
       "      <th>Ehf</th>\n",
       "      <th>HasFrenchContent</th>\n",
       "      <th>HasPromotion</th>\n",
       "      <th>...</th>\n",
       "      <th>proportiontitle</th>\n",
       "      <th>proptitleinlist</th>\n",
       "      <th>titlescore</th>\n",
       "      <th>imgscore</th>\n",
       "      <th>HasWarranty</th>\n",
       "      <th>WhatsInTheBox</th>\n",
       "      <th>warrantyscore</th>\n",
       "      <th>inboxscore</th>\n",
       "      <th>final_score</th>\n",
       "      <th>specscore</th>\n",
       "    </tr>\n",
       "  </thead>\n",
       "  <tbody>\n",
       "    <tr>\n",
       "      <td>0</td>\n",
       "      <td>18</td>\n",
       "      <td>Laptops</td>\n",
       "      <td>4</td>\n",
       "      <td>3</td>\n",
       "      <td>3</td>\n",
       "      <td>{'@xsi:nil': 'true'}</td>\n",
       "      <td>{'@xsi:nil': 'true'}</td>\n",
       "      <td>0</td>\n",
       "      <td>false</td>\n",
       "      <td>true</td>\n",
       "      <td>...</td>\n",
       "      <td>0.524126</td>\n",
       "      <td>0.833333</td>\n",
       "      <td>0.678730</td>\n",
       "      <td>1</td>\n",
       "      <td>False</td>\n",
       "      <td>HP 14\" EliteBook 840 G3 Laptop</td>\n",
       "      <td>0</td>\n",
       "      <td>1</td>\n",
       "      <td>0.642682</td>\n",
       "      <td>0.751439</td>\n",
       "    </tr>\n",
       "    <tr>\n",
       "      <td>1</td>\n",
       "      <td>26</td>\n",
       "      <td>Chromebooks</td>\n",
       "      <td>0</td>\n",
       "      <td>0</td>\n",
       "      <td>0</td>\n",
       "      <td>{'@xsi:nil': 'true'}</td>\n",
       "      <td>{'@xsi:nil': 'true'}</td>\n",
       "      <td>0</td>\n",
       "      <td>false</td>\n",
       "      <td>true</td>\n",
       "      <td>...</td>\n",
       "      <td>0.725382</td>\n",
       "      <td>0.526316</td>\n",
       "      <td>0.625849</td>\n",
       "      <td>1</td>\n",
       "      <td>False</td>\n",
       "      <td>Chromebook, Power Adapter</td>\n",
       "      <td>0</td>\n",
       "      <td>1</td>\n",
       "      <td>0.605894</td>\n",
       "      <td>0.486421</td>\n",
       "    </tr>\n",
       "    <tr>\n",
       "      <td>2</td>\n",
       "      <td>29</td>\n",
       "      <td>Chromebooks</td>\n",
       "      <td>0</td>\n",
       "      <td>0</td>\n",
       "      <td>0</td>\n",
       "      <td>{'@xsi:nil': 'true'}</td>\n",
       "      <td>{'@xsi:nil': 'true'}</td>\n",
       "      <td>0</td>\n",
       "      <td>false</td>\n",
       "      <td>true</td>\n",
       "      <td>...</td>\n",
       "      <td>0.658296</td>\n",
       "      <td>0.550000</td>\n",
       "      <td>0.604148</td>\n",
       "      <td>1</td>\n",
       "      <td>False</td>\n",
       "      <td>Chromebook, Power adapter, Wireless Mouse, Lap...</td>\n",
       "      <td>0</td>\n",
       "      <td>1</td>\n",
       "      <td>0.543497</td>\n",
       "      <td>0.173765</td>\n",
       "    </tr>\n",
       "    <tr>\n",
       "      <td>3</td>\n",
       "      <td>42</td>\n",
       "      <td>Laptops</td>\n",
       "      <td>2</td>\n",
       "      <td>1</td>\n",
       "      <td>1</td>\n",
       "      <td>{'@xsi:nil': 'true'}</td>\n",
       "      <td>{'@xsi:nil': 'true'}</td>\n",
       "      <td>0</td>\n",
       "      <td>false</td>\n",
       "      <td>true</td>\n",
       "      <td>...</td>\n",
       "      <td>0.524126</td>\n",
       "      <td>0.681818</td>\n",
       "      <td>0.602972</td>\n",
       "      <td>1</td>\n",
       "      <td>False</td>\n",
       "      <td>Laptop, Power Cable</td>\n",
       "      <td>0</td>\n",
       "      <td>1</td>\n",
       "      <td>0.626550</td>\n",
       "      <td>0.421621</td>\n",
       "    </tr>\n",
       "    <tr>\n",
       "      <td>4</td>\n",
       "      <td>53</td>\n",
       "      <td>2 in 1 Laptops</td>\n",
       "      <td>5</td>\n",
       "      <td>1</td>\n",
       "      <td>1</td>\n",
       "      <td>{'@xsi:nil': 'true'}</td>\n",
       "      <td>{'@xsi:nil': 'true'}</td>\n",
       "      <td>0</td>\n",
       "      <td>false</td>\n",
       "      <td>true</td>\n",
       "      <td>...</td>\n",
       "      <td>0.859552</td>\n",
       "      <td>0.470588</td>\n",
       "      <td>0.665070</td>\n",
       "      <td>1</td>\n",
       "      <td>False</td>\n",
       "      <td>['HP 13.3\" EliteBook x360 1030 G2', 'Power Ada...</td>\n",
       "      <td>0</td>\n",
       "      <td>1</td>\n",
       "      <td>0.746728</td>\n",
       "      <td>0.868188</td>\n",
       "    </tr>\n",
       "  </tbody>\n",
       "</table>\n",
       "<p>5 rows × 49 columns</p>\n",
       "</div>"
      ],
      "text/plain": [
       "   index    CategoryName CustomerRating CustomerRatingCount  \\\n",
       "0     18         Laptops              4                   3   \n",
       "1     26     Chromebooks              0                   0   \n",
       "2     29     Chromebooks              0                   0   \n",
       "3     42         Laptops              2                   1   \n",
       "4     53  2 in 1 Laptops              5                   1   \n",
       "\n",
       "  CustomerReviewCount    DisplayEndDateTime  DisplayStartDateTime Ehf  \\\n",
       "0                   3  {'@xsi:nil': 'true'}  {'@xsi:nil': 'true'}   0   \n",
       "1                   0  {'@xsi:nil': 'true'}  {'@xsi:nil': 'true'}   0   \n",
       "2                   0  {'@xsi:nil': 'true'}  {'@xsi:nil': 'true'}   0   \n",
       "3                   1  {'@xsi:nil': 'true'}  {'@xsi:nil': 'true'}   0   \n",
       "4                   1  {'@xsi:nil': 'true'}  {'@xsi:nil': 'true'}   0   \n",
       "\n",
       "  HasFrenchContent HasPromotion  ... proportiontitle proptitleinlist  \\\n",
       "0            false         true  ...        0.524126        0.833333   \n",
       "1            false         true  ...        0.725382        0.526316   \n",
       "2            false         true  ...        0.658296        0.550000   \n",
       "3            false         true  ...        0.524126        0.681818   \n",
       "4            false         true  ...        0.859552        0.470588   \n",
       "\n",
       "  titlescore imgscore HasWarranty  \\\n",
       "0   0.678730        1       False   \n",
       "1   0.625849        1       False   \n",
       "2   0.604148        1       False   \n",
       "3   0.602972        1       False   \n",
       "4   0.665070        1       False   \n",
       "\n",
       "                                       WhatsInTheBox warrantyscore inboxscore  \\\n",
       "0                     HP 14\" EliteBook 840 G3 Laptop             0          1   \n",
       "1                          Chromebook, Power Adapter             0          1   \n",
       "2  Chromebook, Power adapter, Wireless Mouse, Lap...             0          1   \n",
       "3                                Laptop, Power Cable             0          1   \n",
       "4  ['HP 13.3\" EliteBook x360 1030 G2', 'Power Ada...             0          1   \n",
       "\n",
       "  final_score specscore  \n",
       "0    0.642682  0.751439  \n",
       "1    0.605894  0.486421  \n",
       "2    0.543497  0.173765  \n",
       "3    0.626550  0.421621  \n",
       "4    0.746728  0.868188  \n",
       "\n",
       "[5 rows x 49 columns]"
      ]
     },
     "execution_count": 52,
     "metadata": {},
     "output_type": "execute_result"
    }
   ],
   "source": [
    "## Large Data Set Score\n",
    "description_weight =  20\n",
    "title_weight = 25\n",
    "image_weight = 25\n",
    "spec_weight = 20\n",
    "warranty_weight = 5 \n",
    "inbox_weight = 5 \n",
    "\n",
    "allweight = [description_weight,title_weight,image_weight,warranty_weight,inbox_weight,spec_weight] \n",
    "merged['final_score'] = (description_weight*merged['descrscore']+ title_weight*merged['titlescore'] + image_weight*merged['imgscore'] + warranty_weight*merged['warrantyscore'] + inbox_weight*merged['inboxscore'] + spec_weight*merged['specscore'] )/sum(allweight)\n",
    "merged.head()"
   ]
  },
  {
   "cell_type": "code",
   "execution_count": 97,
   "metadata": {},
   "outputs": [
    {
     "data": {
      "text/plain": [
       "count    9455.000000\n",
       "mean        0.738122\n",
       "std         0.057676\n",
       "min         0.407042\n",
       "25%         0.701616\n",
       "50%         0.746523\n",
       "75%         0.780090\n",
       "max         0.953361\n",
       "Name: final_score, dtype: float64"
      ]
     },
     "execution_count": 97,
     "metadata": {},
     "output_type": "execute_result"
    }
   ],
   "source": [
    "notBB['final_score'].describe()"
   ]
  },
  {
   "cell_type": "code",
   "execution_count": 91,
   "metadata": {},
   "outputs": [
    {
     "data": {
      "text/plain": [
       "377"
      ]
     },
     "execution_count": 91,
     "metadata": {},
     "output_type": "execute_result"
    }
   ],
   "source": [
    "len(merged)"
   ]
  },
  {
   "cell_type": "markdown",
   "metadata": {},
   "source": [
    "## Converting Score Data"
   ]
  },
  {
   "cell_type": "code",
   "execution_count": 222,
   "metadata": {},
   "outputs": [
    {
     "data": {
      "text/plain": [
       "Index(['index', 'CategoryName', 'CustomerRating', 'CustomerRatingCount',\n",
       "       'CustomerReviewCount', 'DisplayEndDateTime', 'DisplayStartDateTime',\n",
       "       'Ehf', 'HasFrenchContent', 'HasPromotion', 'HideSaleEndDate',\n",
       "       'HideSavings', 'IsAdvertised', 'IsClearance', 'IsFrenchCompliant',\n",
       "       'IsInStoreOnly', 'IsMarketplace', 'IsOnlineOnly', 'IsPreorderable',\n",
       "       'IsPriceEndsLabel', 'Name', 'Page', 'PriceUnit', 'ProductUrl',\n",
       "       'RegularPrice', 'RequiresAgeVerification', 'SaleEndDateTime',\n",
       "       'SalePrice', 'Seller', 'SeoText', 'ShortDescription', 'Sku',\n",
       "       'ThumbnailImage', 'highResImage', 'isVisible', 'sellername',\n",
       "       'proportionlength', 'proportioninlist', 'descrscore', 'proportiontitle',\n",
       "       'proptitleinlist', 'titlescore', 'imgscore', 'HasWarranty',\n",
       "       'WhatsInTheBox', 'warrantyscore', 'inboxscore', 'final_score',\n",
       "       'specscore'],\n",
       "      dtype='object')"
      ]
     },
     "execution_count": 222,
     "metadata": {},
     "output_type": "execute_result"
    }
   ],
   "source": [
    "merged.columns"
   ]
  },
  {
   "cell_type": "code",
   "execution_count": 223,
   "metadata": {},
   "outputs": [
    {
     "data": {
      "text/plain": [
       "Index(['subcategory', 'seller', 'name', 'proportionlength', 'proportioninlist',\n",
       "       'descrscore', 'proportiontitle', 'proptitleinlist', 'titlescore',\n",
       "       'imgscore', 'warrantyscore', 'inboxscore', 'overallscore', 'specscore',\n",
       "       'page', 'category', 'start', 'end'],\n",
       "      dtype='object')"
      ]
     },
     "execution_count": 223,
     "metadata": {},
     "output_type": "execute_result"
    }
   ],
   "source": [
    "merged2 = merged[['CategoryName','sellername', 'Name', 'proportionlength', 'proportioninlist','descrscore','proportiontitle',\n",
    "       'proptitleinlist','titlescore','imgscore','warrantyscore', 'inboxscore', 'final_score',\n",
    "       'specscore','Page']]\n",
    "# merged2 = merged2.groupby(['CategoryName','sellername']).mean()\n",
    "\n",
    "merged2=merged2.rename(columns = {'CategoryName':'subcategory','sellername':'seller','Name':'name','Page':'page','final_score':'overallscore'})\n",
    "merged2['category'] = 'Laptops'\n",
    "merged2['start'] = 0 \n",
    "merged2['end'] = 1\n",
    "merged2.columns"
   ]
  },
  {
   "cell_type": "code",
   "execution_count": 224,
   "metadata": {},
   "outputs": [],
   "source": [
    "varlist = ['overall','descr','title','img','warranty','inbox','spec']\n",
    "scorelist = [i + 'score' for i in varlist]\n",
    "score25 = [i + 'score25th' for i in varlist]\n",
    "score50 = [i + 'score50th' for i in varlist]\n",
    "score75 = [i + 'score75th' for i in varlist]\n",
    "scorestate = [i + '_state' for i in varlist]"
   ]
  },
  {
   "cell_type": "code",
   "execution_count": 225,
   "metadata": {},
   "outputs": [],
   "source": [
    "for i in range (0,len(varlist)): \n",
    "    merged2[score25[i]] = merged2[scorelist[i]].describe()[4]\n",
    "    merged2[score50[i]] = merged2[scorelist[i]].describe()[5]\n",
    "    merged2[score75[i]] = merged2[scorelist[i]].describe()[6]\n",
    "    merged2[scorestate[i]] = 'Awesome'\n"
   ]
  },
  {
   "cell_type": "code",
   "execution_count": 226,
   "metadata": {},
   "outputs": [
    {
     "data": {
      "text/plain": [
       "0      0.678730\n",
       "1      0.625849\n",
       "2      0.604148\n",
       "3      0.602972\n",
       "4      0.665070\n",
       "         ...   \n",
       "372    0.570606\n",
       "373    0.870952\n",
       "374    0.753305\n",
       "375    0.757344\n",
       "376    0.713319\n",
       "Name: titlescore, Length: 377, dtype: float64"
      ]
     },
     "execution_count": 226,
     "metadata": {},
     "output_type": "execute_result"
    }
   ],
   "source": [
    "merged2['titlescore']"
   ]
  },
  {
   "cell_type": "code",
   "execution_count": 227,
   "metadata": {},
   "outputs": [],
   "source": [
    "for i in range(0,merged.shape[0]):\n",
    "    if merged2.overallscore.iloc[i] < merged2.overallscore25th.iloc[i]: \n",
    "        merged2.overall_state.iloc[i] = 'Need Improvement'\n",
    "    elif merged2.overallscore.iloc[i] < merged2.overallscore50th.iloc[i]: \n",
    "        merged2.overall_state.iloc[i] = 'Scope for Improvement'\n",
    "    elif merged2.overallscore.iloc[i] < merged2.overallscore75th.iloc[i]: \n",
    "        merged2.overall_state.iloc[i] = 'Almost There'"
   ]
  },
  {
   "cell_type": "code",
   "execution_count": 228,
   "metadata": {},
   "outputs": [],
   "source": [
    "for i in range(0,merged.shape[0]):\n",
    "    if merged2.descrscore.iloc[i] < merged2.descrscore25th.iloc[i]: \n",
    "        merged2.descr_state.iloc[i] = 'Need Improvement'\n",
    "    elif merged2.descrscore.iloc[i] < merged2.descrscore50th.iloc[i]: \n",
    "        merged2.descr_state.iloc[i] = 'Scope for Improvement'\n",
    "    elif merged2.descrscore.iloc[i] < merged2.descrscore75th.iloc[i]: \n",
    "        merged2.descr_state.iloc[i] = 'Almost There'"
   ]
  },
  {
   "cell_type": "code",
   "execution_count": 229,
   "metadata": {},
   "outputs": [],
   "source": [
    "for i in range(0,merged.shape[0]):\n",
    "    if merged2.titlescore.iloc[i] < merged2.titlescore25th.iloc[i]: \n",
    "        merged2.title_state.iloc[i] = 'Need Improvement'\n",
    "    elif merged2.titlescore.iloc[i] < merged2.titlescore50th.iloc[i]: \n",
    "        merged2.title_state.iloc[i] = 'Scope for Improvement'\n",
    "    elif merged2.titlescore.iloc[i] < merged2.titlescore75th.iloc[i]: \n",
    "        merged2.title_state.iloc[i] = 'Almost There'\n",
    "        "
   ]
  },
  {
   "cell_type": "code",
   "execution_count": 230,
   "metadata": {},
   "outputs": [],
   "source": [
    "for i in range(0,merged.shape[0]):\n",
    "    if merged2.imgscore.iloc[i] < merged2.imgscore25th.iloc[i]: \n",
    "        merged2.img_state.iloc[i] = 'Need Improvement'\n",
    "    elif merged2.imgscore.iloc[i] < merged2.imgscore50th.iloc[i]: \n",
    "        merged2.img_state.iloc[i] = 'Scope for Improvement'\n",
    "    elif merged2.imgscore.iloc[i] < merged2.imgscore75th.iloc[i]: \n",
    "        merged2.img_state.iloc[i] = 'Almost There'"
   ]
  },
  {
   "cell_type": "code",
   "execution_count": 231,
   "metadata": {},
   "outputs": [],
   "source": [
    "for i in range(0,merged.shape[0]):\n",
    "    if merged2.warrantyscore.iloc[i] <= merged2.warrantyscore25th.iloc[i]: \n",
    "        merged2.warranty_state.iloc[i] = 'Need Improvement'\n",
    "    elif merged2.warrantyscore.iloc[i] <= merged2.warrantyscore50th.iloc[i]: \n",
    "        merged2.warranty_state.iloc[i] = 'Scope for Improvement'\n",
    "    elif merged2.warrantyscore.iloc[i] <= merged2.warrantyscore75th.iloc[i]: \n",
    "        merged2.warranty_state.iloc[i] = 'Almost There'"
   ]
  },
  {
   "cell_type": "code",
   "execution_count": 232,
   "metadata": {},
   "outputs": [],
   "source": [
    "for i in range(0,merged.shape[0]):\n",
    "    if merged2.inboxscore.iloc[i] < merged2.inboxscore75th.iloc[i]: \n",
    "        merged2.inbox_state.iloc[i] = 'Almost There'\n",
    "    elif merged2.inboxscore.iloc[i] < merged2.inboxscore50th.iloc[i]: \n",
    "        merged2.inbox_state.iloc[i] = 'Scope for Improvement'\n",
    "    elif merged2.inboxscore.iloc[i] < merged2.inboxscore25th.iloc[i]: \n",
    "        merged2.inbox_state.iloc[i] = 'Need Improvement'"
   ]
  },
  {
   "cell_type": "code",
   "execution_count": 233,
   "metadata": {},
   "outputs": [],
   "source": [
    "for i in range(0,merged.shape[0]):\n",
    "    if merged2.specscore.iloc[i] < merged2.specscore75th.iloc[i]: \n",
    "        merged2.spec_state.iloc[i] = 'Almost There'\n",
    "    elif merged2.specscore.iloc[i] < merged2.specscore50th.iloc[i]: \n",
    "        merged2.spec_state.iloc[i] = 'Scope for Improvement'\n",
    "    elif merged2.specscore.iloc[i] < merged2.specscore25th.iloc[i]: \n",
    "        merged2.spec_state.iloc[i] = 'Need Improvement' "
   ]
  },
  {
   "cell_type": "code",
   "execution_count": 235,
   "metadata": {},
   "outputs": [],
   "source": [
    "merged2.to_csv('score.csv')"
   ]
  }
 ],
 "metadata": {
  "kernelspec": {
   "display_name": "Python 3",
   "language": "python",
   "name": "python3"
  },
  "language_info": {
   "codemirror_mode": {
    "name": "ipython",
    "version": 3
   },
   "file_extension": ".py",
   "mimetype": "text/x-python",
   "name": "python",
   "nbconvert_exporter": "python",
   "pygments_lexer": "ipython3",
   "version": "3.7.3"
  }
 },
 "nbformat": 4,
 "nbformat_minor": 2
}
