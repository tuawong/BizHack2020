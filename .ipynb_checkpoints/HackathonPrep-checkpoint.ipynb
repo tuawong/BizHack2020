{
 "cells": [
  {
   "cell_type": "code",
   "execution_count": 12,
   "metadata": {},
   "outputs": [],
   "source": [
    "## Standard & Plotting Packages\n",
    "import numpy as np\n",
    "import pandas as pd\n",
    "import matplotlib.pyplot as plt\n",
    "import seaborn as sns\n",
    "\n",
    "## Data Preprocessing\n",
    "from sklearn.preprocessing import OneHotEncoder\n",
    "from sklearn.impute import SimpleImputer, KNNImputer\n",
    "from sklearn.preprocessing import StandardScaler\n",
    "from sklearn.model_selection import train_test_split, cross_validate\n",
    "from sklearn.feature_extraction.text import CountVectorizer\n",
    "from sklearn.compose import ColumnTransformer\n",
    "from sklearn.pipeline import Pipeline \n",
    "\n",
    "## Models\n",
    "from sklearn.linear_model import LinearRegression, LogisticRegression, Lasso\n",
    "from sklearn.naive_bayes import MultinomialNB\n",
    "from sklearn.tree import DecisionTreeClassifier\n",
    "from sklearn.neighbors import KNeighborsClassifier \n",
    "\n",
    "## Feature Selection and Tuning \n",
    "from sklearn.feature_selection import SelectKBest, chi2\n",
    "from sklearn.model_selection import GridSearchCV\n"
   ]
  },
  {
   "cell_type": "code",
   "execution_count": null,
   "metadata": {},
   "outputs": [],
   "source": [
    "numeric = [____________________]\n",
    "cat = [_____________________]\n",
    "date = [_____________________]"
   ]
  },
  {
   "cell_type": "code",
   "execution_count": 9,
   "metadata": {},
   "outputs": [],
   "source": [
    "numpipe = Pipeline([\n",
    "        ('nummiss', SimpleImputer(missing_values=np.nan, strategy=\"mean\")),\n",
    "        ('std_scaler', StandardScaler()\n",
    "        )])\n",
    "\n",
    "catpipe = Pipeline([\n",
    "        ('catmiss', SimpleImputer(missing_values=np.nan, strategy=\"most_frequent\")),\n",
    "        ('ohe', OneHotEncoder(drop=\"first\")\n",
    "        )])"
   ]
  },
  {
   "cell_type": "code",
   "execution_count": null,
   "metadata": {},
   "outputs": [],
   "source": [
    "transform = ColumnTransformer(\n",
    "        ('num', numpipe, numeric),\n",
    "        ('cat', catpipe, cat))"
   ]
  },
  {
   "cell_type": "code",
   "execution_count": null,
   "metadata": {},
   "outputs": [],
   "source": [
    "finaldata = transform.fit_transform(______)\n",
    "finaldata = pd.DataFrame(finaldata,\n",
    "                         columns=(numeric +\n",
    "                                list(transform.named_transformers_['cat']['hot'].get_feature_names(cat))))\n"
   ]
  }
 ],
 "metadata": {
  "kernelspec": {
   "display_name": "Python 3",
   "language": "python",
   "name": "python3"
  },
  "language_info": {
   "codemirror_mode": {
    "name": "ipython",
    "version": 3
   },
   "file_extension": ".py",
   "mimetype": "text/x-python",
   "name": "python",
   "nbconvert_exporter": "python",
   "pygments_lexer": "ipython3",
   "version": "3.7.3"
  }
 },
 "nbformat": 4,
 "nbformat_minor": 2
}
